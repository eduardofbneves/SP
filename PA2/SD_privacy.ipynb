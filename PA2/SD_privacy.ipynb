{
 "cells": [
  {
   "attachments": {},
   "cell_type": "markdown",
   "metadata": {},
   "source": []
  },
  {
   "cell_type": "code",
   "execution_count": 1,
   "metadata": {},
   "outputs": [],
   "source": [
    "import pandas as pd\n",
    "import numpy as np\n",
    "import warnings\n",
    "warnings.filterwarnings('ignore')"
   ]
  },
  {
   "cell_type": "code",
   "execution_count": 2,
   "metadata": {},
   "outputs": [
    {
     "data": {
      "text/html": [
       "<div>\n",
       "<style scoped>\n",
       "    .dataframe tbody tr th:only-of-type {\n",
       "        vertical-align: middle;\n",
       "    }\n",
       "\n",
       "    .dataframe tbody tr th {\n",
       "        vertical-align: top;\n",
       "    }\n",
       "\n",
       "    .dataframe thead th {\n",
       "        text-align: right;\n",
       "    }\n",
       "</style>\n",
       "<table border=\"1\" class=\"dataframe\">\n",
       "  <thead>\n",
       "    <tr style=\"text-align: right;\">\n",
       "      <th></th>\n",
       "      <th>loan_id</th>\n",
       "      <th>infringed</th>\n",
       "      <th>contract_type</th>\n",
       "      <th>gender</th>\n",
       "      <th>has_own_car</th>\n",
       "      <th>has_own_realty</th>\n",
       "      <th>num_children</th>\n",
       "      <th>annual_income</th>\n",
       "      <th>credit_amount</th>\n",
       "      <th>credit_annuity</th>\n",
       "      <th>...</th>\n",
       "      <th>first_name</th>\n",
       "      <th>last_name</th>\n",
       "      <th>past_avg_amount_annuity</th>\n",
       "      <th>past_avg_amt_application</th>\n",
       "      <th>past_avg_amt_credit</th>\n",
       "      <th>past_loans_approved</th>\n",
       "      <th>past_loans_refused</th>\n",
       "      <th>past_loans_canceled</th>\n",
       "      <th>past_loans_unused</th>\n",
       "      <th>past_loans_total</th>\n",
       "    </tr>\n",
       "  </thead>\n",
       "  <tbody>\n",
       "    <tr>\n",
       "      <th>0</th>\n",
       "      <td>100002</td>\n",
       "      <td>1</td>\n",
       "      <td>Cash loans</td>\n",
       "      <td>M</td>\n",
       "      <td>N</td>\n",
       "      <td>Y</td>\n",
       "      <td>0</td>\n",
       "      <td>202500.0</td>\n",
       "      <td>406597.5</td>\n",
       "      <td>24700.5</td>\n",
       "      <td>...</td>\n",
       "      <td>Robert</td>\n",
       "      <td>Watkins</td>\n",
       "      <td>9251.775000</td>\n",
       "      <td>179055.000</td>\n",
       "      <td>179055.00</td>\n",
       "      <td>1.0</td>\n",
       "      <td>0.0</td>\n",
       "      <td>0.0</td>\n",
       "      <td>0.0</td>\n",
       "      <td>1.0</td>\n",
       "    </tr>\n",
       "    <tr>\n",
       "      <th>1</th>\n",
       "      <td>100003</td>\n",
       "      <td>0</td>\n",
       "      <td>Cash loans</td>\n",
       "      <td>F</td>\n",
       "      <td>N</td>\n",
       "      <td>N</td>\n",
       "      <td>0</td>\n",
       "      <td>270000.0</td>\n",
       "      <td>1293502.5</td>\n",
       "      <td>35698.5</td>\n",
       "      <td>...</td>\n",
       "      <td>Jane</td>\n",
       "      <td>Navarro</td>\n",
       "      <td>56553.990000</td>\n",
       "      <td>435436.500</td>\n",
       "      <td>484191.00</td>\n",
       "      <td>3.0</td>\n",
       "      <td>0.0</td>\n",
       "      <td>0.0</td>\n",
       "      <td>0.0</td>\n",
       "      <td>3.0</td>\n",
       "    </tr>\n",
       "    <tr>\n",
       "      <th>2</th>\n",
       "      <td>100004</td>\n",
       "      <td>0</td>\n",
       "      <td>Revolving loans</td>\n",
       "      <td>M</td>\n",
       "      <td>Y</td>\n",
       "      <td>Y</td>\n",
       "      <td>0</td>\n",
       "      <td>67500.0</td>\n",
       "      <td>135000.0</td>\n",
       "      <td>6750.0</td>\n",
       "      <td>...</td>\n",
       "      <td>David</td>\n",
       "      <td>Seagraves</td>\n",
       "      <td>5357.250000</td>\n",
       "      <td>24282.000</td>\n",
       "      <td>20106.00</td>\n",
       "      <td>1.0</td>\n",
       "      <td>0.0</td>\n",
       "      <td>0.0</td>\n",
       "      <td>0.0</td>\n",
       "      <td>1.0</td>\n",
       "    </tr>\n",
       "    <tr>\n",
       "      <th>3</th>\n",
       "      <td>100006</td>\n",
       "      <td>0</td>\n",
       "      <td>Cash loans</td>\n",
       "      <td>F</td>\n",
       "      <td>N</td>\n",
       "      <td>Y</td>\n",
       "      <td>0</td>\n",
       "      <td>135000.0</td>\n",
       "      <td>312682.5</td>\n",
       "      <td>29686.5</td>\n",
       "      <td>...</td>\n",
       "      <td>Deborah</td>\n",
       "      <td>Tandy</td>\n",
       "      <td>23651.175000</td>\n",
       "      <td>272203.260</td>\n",
       "      <td>291695.50</td>\n",
       "      <td>5.0</td>\n",
       "      <td>3.0</td>\n",
       "      <td>1.0</td>\n",
       "      <td>0.0</td>\n",
       "      <td>9.0</td>\n",
       "    </tr>\n",
       "    <tr>\n",
       "      <th>4</th>\n",
       "      <td>100007</td>\n",
       "      <td>0</td>\n",
       "      <td>Cash loans</td>\n",
       "      <td>M</td>\n",
       "      <td>N</td>\n",
       "      <td>Y</td>\n",
       "      <td>0</td>\n",
       "      <td>121500.0</td>\n",
       "      <td>513000.0</td>\n",
       "      <td>21865.5</td>\n",
       "      <td>...</td>\n",
       "      <td>David</td>\n",
       "      <td>Walker</td>\n",
       "      <td>12278.805000</td>\n",
       "      <td>150530.250</td>\n",
       "      <td>166638.75</td>\n",
       "      <td>6.0</td>\n",
       "      <td>0.0</td>\n",
       "      <td>0.0</td>\n",
       "      <td>0.0</td>\n",
       "      <td>6.0</td>\n",
       "    </tr>\n",
       "    <tr>\n",
       "      <th>...</th>\n",
       "      <td>...</td>\n",
       "      <td>...</td>\n",
       "      <td>...</td>\n",
       "      <td>...</td>\n",
       "      <td>...</td>\n",
       "      <td>...</td>\n",
       "      <td>...</td>\n",
       "      <td>...</td>\n",
       "      <td>...</td>\n",
       "      <td>...</td>\n",
       "      <td>...</td>\n",
       "      <td>...</td>\n",
       "      <td>...</td>\n",
       "      <td>...</td>\n",
       "      <td>...</td>\n",
       "      <td>...</td>\n",
       "      <td>...</td>\n",
       "      <td>...</td>\n",
       "      <td>...</td>\n",
       "      <td>...</td>\n",
       "      <td>...</td>\n",
       "    </tr>\n",
       "    <tr>\n",
       "      <th>307506</th>\n",
       "      <td>456251</td>\n",
       "      <td>0</td>\n",
       "      <td>Cash loans</td>\n",
       "      <td>M</td>\n",
       "      <td>N</td>\n",
       "      <td>N</td>\n",
       "      <td>0</td>\n",
       "      <td>157500.0</td>\n",
       "      <td>254700.0</td>\n",
       "      <td>27558.0</td>\n",
       "      <td>...</td>\n",
       "      <td>Lawrence</td>\n",
       "      <td>Mcwayne</td>\n",
       "      <td>6605.910000</td>\n",
       "      <td>40455.000</td>\n",
       "      <td>40455.00</td>\n",
       "      <td>1.0</td>\n",
       "      <td>0.0</td>\n",
       "      <td>0.0</td>\n",
       "      <td>0.0</td>\n",
       "      <td>1.0</td>\n",
       "    </tr>\n",
       "    <tr>\n",
       "      <th>307507</th>\n",
       "      <td>456252</td>\n",
       "      <td>0</td>\n",
       "      <td>Cash loans</td>\n",
       "      <td>F</td>\n",
       "      <td>N</td>\n",
       "      <td>Y</td>\n",
       "      <td>0</td>\n",
       "      <td>72000.0</td>\n",
       "      <td>269550.0</td>\n",
       "      <td>12001.5</td>\n",
       "      <td>...</td>\n",
       "      <td>Belinda</td>\n",
       "      <td>Loveland</td>\n",
       "      <td>10074.465000</td>\n",
       "      <td>57595.500</td>\n",
       "      <td>56821.50</td>\n",
       "      <td>1.0</td>\n",
       "      <td>0.0</td>\n",
       "      <td>0.0</td>\n",
       "      <td>0.0</td>\n",
       "      <td>1.0</td>\n",
       "    </tr>\n",
       "    <tr>\n",
       "      <th>307508</th>\n",
       "      <td>456253</td>\n",
       "      <td>0</td>\n",
       "      <td>Cash loans</td>\n",
       "      <td>F</td>\n",
       "      <td>N</td>\n",
       "      <td>Y</td>\n",
       "      <td>0</td>\n",
       "      <td>153000.0</td>\n",
       "      <td>677664.0</td>\n",
       "      <td>29979.0</td>\n",
       "      <td>...</td>\n",
       "      <td>Aileen</td>\n",
       "      <td>Rasmussen</td>\n",
       "      <td>4770.405000</td>\n",
       "      <td>24162.750</td>\n",
       "      <td>20625.75</td>\n",
       "      <td>2.0</td>\n",
       "      <td>0.0</td>\n",
       "      <td>0.0</td>\n",
       "      <td>0.0</td>\n",
       "      <td>2.0</td>\n",
       "    </tr>\n",
       "    <tr>\n",
       "      <th>307509</th>\n",
       "      <td>456254</td>\n",
       "      <td>1</td>\n",
       "      <td>Cash loans</td>\n",
       "      <td>F</td>\n",
       "      <td>N</td>\n",
       "      <td>Y</td>\n",
       "      <td>0</td>\n",
       "      <td>171000.0</td>\n",
       "      <td>370107.0</td>\n",
       "      <td>20205.0</td>\n",
       "      <td>...</td>\n",
       "      <td>Mary</td>\n",
       "      <td>Marbury</td>\n",
       "      <td>10681.132500</td>\n",
       "      <td>121317.750</td>\n",
       "      <td>134439.75</td>\n",
       "      <td>2.0</td>\n",
       "      <td>0.0</td>\n",
       "      <td>0.0</td>\n",
       "      <td>0.0</td>\n",
       "      <td>2.0</td>\n",
       "    </tr>\n",
       "    <tr>\n",
       "      <th>307510</th>\n",
       "      <td>456255</td>\n",
       "      <td>0</td>\n",
       "      <td>Cash loans</td>\n",
       "      <td>F</td>\n",
       "      <td>N</td>\n",
       "      <td>N</td>\n",
       "      <td>0</td>\n",
       "      <td>157500.0</td>\n",
       "      <td>675000.0</td>\n",
       "      <td>49117.5</td>\n",
       "      <td>...</td>\n",
       "      <td>Sophia</td>\n",
       "      <td>Murphy</td>\n",
       "      <td>20775.391875</td>\n",
       "      <td>362770.875</td>\n",
       "      <td>424431.00</td>\n",
       "      <td>6.0</td>\n",
       "      <td>0.0</td>\n",
       "      <td>2.0</td>\n",
       "      <td>0.0</td>\n",
       "      <td>8.0</td>\n",
       "    </tr>\n",
       "  </tbody>\n",
       "</table>\n",
       "<p>307511 rows × 46 columns</p>\n",
       "</div>"
      ],
      "text/plain": [
       "        loan_id  infringed    contract_type gender has_own_car has_own_realty  \\\n",
       "0        100002          1       Cash loans      M           N              Y   \n",
       "1        100003          0       Cash loans      F           N              N   \n",
       "2        100004          0  Revolving loans      M           Y              Y   \n",
       "3        100006          0       Cash loans      F           N              Y   \n",
       "4        100007          0       Cash loans      M           N              Y   \n",
       "...         ...        ...              ...    ...         ...            ...   \n",
       "307506   456251          0       Cash loans      M           N              N   \n",
       "307507   456252          0       Cash loans      F           N              Y   \n",
       "307508   456253          0       Cash loans      F           N              Y   \n",
       "307509   456254          1       Cash loans      F           N              Y   \n",
       "307510   456255          0       Cash loans      F           N              N   \n",
       "\n",
       "        num_children  annual_income  credit_amount  credit_annuity  ...  \\\n",
       "0                  0       202500.0       406597.5         24700.5  ...   \n",
       "1                  0       270000.0      1293502.5         35698.5  ...   \n",
       "2                  0        67500.0       135000.0          6750.0  ...   \n",
       "3                  0       135000.0       312682.5         29686.5  ...   \n",
       "4                  0       121500.0       513000.0         21865.5  ...   \n",
       "...              ...            ...            ...             ...  ...   \n",
       "307506             0       157500.0       254700.0         27558.0  ...   \n",
       "307507             0        72000.0       269550.0         12001.5  ...   \n",
       "307508             0       153000.0       677664.0         29979.0  ...   \n",
       "307509             0       171000.0       370107.0         20205.0  ...   \n",
       "307510             0       157500.0       675000.0         49117.5  ...   \n",
       "\n",
       "        first_name  last_name past_avg_amount_annuity  \\\n",
       "0           Robert    Watkins             9251.775000   \n",
       "1             Jane    Navarro            56553.990000   \n",
       "2            David  Seagraves             5357.250000   \n",
       "3          Deborah      Tandy            23651.175000   \n",
       "4            David     Walker            12278.805000   \n",
       "...            ...        ...                     ...   \n",
       "307506    Lawrence    Mcwayne             6605.910000   \n",
       "307507     Belinda   Loveland            10074.465000   \n",
       "307508      Aileen  Rasmussen             4770.405000   \n",
       "307509        Mary    Marbury            10681.132500   \n",
       "307510      Sophia     Murphy            20775.391875   \n",
       "\n",
       "       past_avg_amt_application past_avg_amt_credit  past_loans_approved  \\\n",
       "0                    179055.000           179055.00                  1.0   \n",
       "1                    435436.500           484191.00                  3.0   \n",
       "2                     24282.000            20106.00                  1.0   \n",
       "3                    272203.260           291695.50                  5.0   \n",
       "4                    150530.250           166638.75                  6.0   \n",
       "...                         ...                 ...                  ...   \n",
       "307506                40455.000            40455.00                  1.0   \n",
       "307507                57595.500            56821.50                  1.0   \n",
       "307508                24162.750            20625.75                  2.0   \n",
       "307509               121317.750           134439.75                  2.0   \n",
       "307510               362770.875           424431.00                  6.0   \n",
       "\n",
       "        past_loans_refused  past_loans_canceled  past_loans_unused  \\\n",
       "0                      0.0                  0.0                0.0   \n",
       "1                      0.0                  0.0                0.0   \n",
       "2                      0.0                  0.0                0.0   \n",
       "3                      3.0                  1.0                0.0   \n",
       "4                      0.0                  0.0                0.0   \n",
       "...                    ...                  ...                ...   \n",
       "307506                 0.0                  0.0                0.0   \n",
       "307507                 0.0                  0.0                0.0   \n",
       "307508                 0.0                  0.0                0.0   \n",
       "307509                 0.0                  0.0                0.0   \n",
       "307510                 0.0                  2.0                0.0   \n",
       "\n",
       "        past_loans_total  \n",
       "0                    1.0  \n",
       "1                    3.0  \n",
       "2                    1.0  \n",
       "3                    9.0  \n",
       "4                    6.0  \n",
       "...                  ...  \n",
       "307506               1.0  \n",
       "307507               1.0  \n",
       "307508               2.0  \n",
       "307509               2.0  \n",
       "307510               8.0  \n",
       "\n",
       "[307511 rows x 46 columns]"
      ]
     },
     "execution_count": 2,
     "metadata": {},
     "output_type": "execute_result"
    }
   ],
   "source": [
    "df = pd.read_csv(\"infringement_dataset_v2.csv\")\n",
    "df"
   ]
  },
  {
   "attachments": {},
   "cell_type": "markdown",
   "metadata": {},
   "source": [
    "### Selecting the relevant columns to the study:"
   ]
  },
  {
   "cell_type": "code",
   "execution_count": 3,
   "metadata": {},
   "outputs": [
    {
     "data": {
      "text/html": [
       "<div>\n",
       "<style scoped>\n",
       "    .dataframe tbody tr th:only-of-type {\n",
       "        vertical-align: middle;\n",
       "    }\n",
       "\n",
       "    .dataframe tbody tr th {\n",
       "        vertical-align: top;\n",
       "    }\n",
       "\n",
       "    .dataframe thead th {\n",
       "        text-align: right;\n",
       "    }\n",
       "</style>\n",
       "<table border=\"1\" class=\"dataframe\">\n",
       "  <thead>\n",
       "    <tr style=\"text-align: right;\">\n",
       "      <th></th>\n",
       "      <th>loan_id</th>\n",
       "      <th>infringed</th>\n",
       "      <th>age</th>\n",
       "      <th>past_avg_amount_annuity</th>\n",
       "      <th>past_avg_amt_application</th>\n",
       "      <th>past_avg_amt_credit</th>\n",
       "      <th>past_loans_approved</th>\n",
       "      <th>past_loans_refused</th>\n",
       "      <th>past_loans_canceled</th>\n",
       "      <th>past_loans_unused</th>\n",
       "      <th>past_loans_total</th>\n",
       "    </tr>\n",
       "  </thead>\n",
       "  <tbody>\n",
       "    <tr>\n",
       "      <th>0</th>\n",
       "      <td>100002</td>\n",
       "      <td>1</td>\n",
       "      <td>25</td>\n",
       "      <td>9251.775000</td>\n",
       "      <td>179055.000</td>\n",
       "      <td>179055.00</td>\n",
       "      <td>1.0</td>\n",
       "      <td>0.0</td>\n",
       "      <td>0.0</td>\n",
       "      <td>0.0</td>\n",
       "      <td>1.0</td>\n",
       "    </tr>\n",
       "    <tr>\n",
       "      <th>1</th>\n",
       "      <td>100003</td>\n",
       "      <td>0</td>\n",
       "      <td>45</td>\n",
       "      <td>56553.990000</td>\n",
       "      <td>435436.500</td>\n",
       "      <td>484191.00</td>\n",
       "      <td>3.0</td>\n",
       "      <td>0.0</td>\n",
       "      <td>0.0</td>\n",
       "      <td>0.0</td>\n",
       "      <td>3.0</td>\n",
       "    </tr>\n",
       "    <tr>\n",
       "      <th>2</th>\n",
       "      <td>100004</td>\n",
       "      <td>0</td>\n",
       "      <td>52</td>\n",
       "      <td>5357.250000</td>\n",
       "      <td>24282.000</td>\n",
       "      <td>20106.00</td>\n",
       "      <td>1.0</td>\n",
       "      <td>0.0</td>\n",
       "      <td>0.0</td>\n",
       "      <td>0.0</td>\n",
       "      <td>1.0</td>\n",
       "    </tr>\n",
       "    <tr>\n",
       "      <th>3</th>\n",
       "      <td>100006</td>\n",
       "      <td>0</td>\n",
       "      <td>52</td>\n",
       "      <td>23651.175000</td>\n",
       "      <td>272203.260</td>\n",
       "      <td>291695.50</td>\n",
       "      <td>5.0</td>\n",
       "      <td>3.0</td>\n",
       "      <td>1.0</td>\n",
       "      <td>0.0</td>\n",
       "      <td>9.0</td>\n",
       "    </tr>\n",
       "    <tr>\n",
       "      <th>4</th>\n",
       "      <td>100007</td>\n",
       "      <td>0</td>\n",
       "      <td>54</td>\n",
       "      <td>12278.805000</td>\n",
       "      <td>150530.250</td>\n",
       "      <td>166638.75</td>\n",
       "      <td>6.0</td>\n",
       "      <td>0.0</td>\n",
       "      <td>0.0</td>\n",
       "      <td>0.0</td>\n",
       "      <td>6.0</td>\n",
       "    </tr>\n",
       "    <tr>\n",
       "      <th>...</th>\n",
       "      <td>...</td>\n",
       "      <td>...</td>\n",
       "      <td>...</td>\n",
       "      <td>...</td>\n",
       "      <td>...</td>\n",
       "      <td>...</td>\n",
       "      <td>...</td>\n",
       "      <td>...</td>\n",
       "      <td>...</td>\n",
       "      <td>...</td>\n",
       "      <td>...</td>\n",
       "    </tr>\n",
       "    <tr>\n",
       "      <th>307506</th>\n",
       "      <td>456251</td>\n",
       "      <td>0</td>\n",
       "      <td>25</td>\n",
       "      <td>6605.910000</td>\n",
       "      <td>40455.000</td>\n",
       "      <td>40455.00</td>\n",
       "      <td>1.0</td>\n",
       "      <td>0.0</td>\n",
       "      <td>0.0</td>\n",
       "      <td>0.0</td>\n",
       "      <td>1.0</td>\n",
       "    </tr>\n",
       "    <tr>\n",
       "      <th>307507</th>\n",
       "      <td>456252</td>\n",
       "      <td>0</td>\n",
       "      <td>56</td>\n",
       "      <td>10074.465000</td>\n",
       "      <td>57595.500</td>\n",
       "      <td>56821.50</td>\n",
       "      <td>1.0</td>\n",
       "      <td>0.0</td>\n",
       "      <td>0.0</td>\n",
       "      <td>0.0</td>\n",
       "      <td>1.0</td>\n",
       "    </tr>\n",
       "    <tr>\n",
       "      <th>307508</th>\n",
       "      <td>456253</td>\n",
       "      <td>0</td>\n",
       "      <td>41</td>\n",
       "      <td>4770.405000</td>\n",
       "      <td>24162.750</td>\n",
       "      <td>20625.75</td>\n",
       "      <td>2.0</td>\n",
       "      <td>0.0</td>\n",
       "      <td>0.0</td>\n",
       "      <td>0.0</td>\n",
       "      <td>2.0</td>\n",
       "    </tr>\n",
       "    <tr>\n",
       "      <th>307509</th>\n",
       "      <td>456254</td>\n",
       "      <td>1</td>\n",
       "      <td>32</td>\n",
       "      <td>10681.132500</td>\n",
       "      <td>121317.750</td>\n",
       "      <td>134439.75</td>\n",
       "      <td>2.0</td>\n",
       "      <td>0.0</td>\n",
       "      <td>0.0</td>\n",
       "      <td>0.0</td>\n",
       "      <td>2.0</td>\n",
       "    </tr>\n",
       "    <tr>\n",
       "      <th>307510</th>\n",
       "      <td>456255</td>\n",
       "      <td>0</td>\n",
       "      <td>46</td>\n",
       "      <td>20775.391875</td>\n",
       "      <td>362770.875</td>\n",
       "      <td>424431.00</td>\n",
       "      <td>6.0</td>\n",
       "      <td>0.0</td>\n",
       "      <td>2.0</td>\n",
       "      <td>0.0</td>\n",
       "      <td>8.0</td>\n",
       "    </tr>\n",
       "  </tbody>\n",
       "</table>\n",
       "<p>307511 rows × 11 columns</p>\n",
       "</div>"
      ],
      "text/plain": [
       "        loan_id  infringed  age  past_avg_amount_annuity  \\\n",
       "0        100002          1   25              9251.775000   \n",
       "1        100003          0   45             56553.990000   \n",
       "2        100004          0   52              5357.250000   \n",
       "3        100006          0   52             23651.175000   \n",
       "4        100007          0   54             12278.805000   \n",
       "...         ...        ...  ...                      ...   \n",
       "307506   456251          0   25              6605.910000   \n",
       "307507   456252          0   56             10074.465000   \n",
       "307508   456253          0   41              4770.405000   \n",
       "307509   456254          1   32             10681.132500   \n",
       "307510   456255          0   46             20775.391875   \n",
       "\n",
       "        past_avg_amt_application  past_avg_amt_credit  past_loans_approved  \\\n",
       "0                     179055.000            179055.00                  1.0   \n",
       "1                     435436.500            484191.00                  3.0   \n",
       "2                      24282.000             20106.00                  1.0   \n",
       "3                     272203.260            291695.50                  5.0   \n",
       "4                     150530.250            166638.75                  6.0   \n",
       "...                          ...                  ...                  ...   \n",
       "307506                 40455.000             40455.00                  1.0   \n",
       "307507                 57595.500             56821.50                  1.0   \n",
       "307508                 24162.750             20625.75                  2.0   \n",
       "307509                121317.750            134439.75                  2.0   \n",
       "307510                362770.875            424431.00                  6.0   \n",
       "\n",
       "        past_loans_refused  past_loans_canceled  past_loans_unused  \\\n",
       "0                      0.0                  0.0                0.0   \n",
       "1                      0.0                  0.0                0.0   \n",
       "2                      0.0                  0.0                0.0   \n",
       "3                      3.0                  1.0                0.0   \n",
       "4                      0.0                  0.0                0.0   \n",
       "...                    ...                  ...                ...   \n",
       "307506                 0.0                  0.0                0.0   \n",
       "307507                 0.0                  0.0                0.0   \n",
       "307508                 0.0                  0.0                0.0   \n",
       "307509                 0.0                  0.0                0.0   \n",
       "307510                 0.0                  2.0                0.0   \n",
       "\n",
       "        past_loans_total  \n",
       "0                    1.0  \n",
       "1                    3.0  \n",
       "2                    1.0  \n",
       "3                    9.0  \n",
       "4                    6.0  \n",
       "...                  ...  \n",
       "307506               1.0  \n",
       "307507               1.0  \n",
       "307508               2.0  \n",
       "307509               2.0  \n",
       "307510               8.0  \n",
       "\n",
       "[307511 rows x 11 columns]"
      ]
     },
     "execution_count": 3,
     "metadata": {},
     "output_type": "execute_result"
    }
   ],
   "source": [
    "df = df[['loan_id',\n",
    "        'infringed', \n",
    "        'age', \n",
    "        'past_avg_amount_annuity',\n",
    "        'past_avg_amt_application',\n",
    "        'past_avg_amt_credit',\n",
    "        'past_loans_approved',\n",
    "        'past_loans_refused',\n",
    "        'past_loans_canceled',\n",
    "        'past_loans_unused',\n",
    "        'past_loans_total'\n",
    "]]\n",
    "\n",
    "array = df.to_numpy()\n",
    "df"
   ]
  },
  {
   "attachments": {},
   "cell_type": "markdown",
   "metadata": {},
   "source": [
    "The loan id is mantained for utility of the dataset (regarding a almost real example). The veracity of the values will be dealt when the model is fitted."
   ]
  },
  {
   "cell_type": "markdown",
   "metadata": {},
   "source": [
    "Dataframe metadata:"
   ]
  },
  {
   "cell_type": "code",
   "execution_count": 44,
   "metadata": {},
   "outputs": [
    {
     "name": "stdout",
     "output_type": "stream",
     "text": [
      "{'primary_key': 'loan_id', 'fields': {'loan_id': {'type': 'id', 'subtype': 'integer'}, 'infringed': {'type': 'categorical'}, 'age': {'type': 'numerical', 'subtype': 'integer'}, 'past_avg_amount_annuity': {'type': 'numerical', 'subtype': 'float'}, 'past_avg_amt_application': {'type': 'numerical', 'subtype': 'float'}, 'past_avg_amt_credit': {'type': 'numerical', 'subtype': 'float'}, 'past_loans_approved': {'type': 'numerical', 'subtype': 'float'}, 'past_loans_refused': {'type': 'numerical', 'subtype': 'float'}, 'past_loans_canceled': {'type': 'numerical', 'subtype': 'float'}, 'past_loans_unused': {'type': 'numerical', 'subtype': 'float'}, 'past_loans_total': {'type': 'numerical', 'subtype': 'float'}}}\n"
     ]
    }
   ],
   "source": [
    "dictionary = {}\n",
    "it = 0\n",
    "for col in df.columns:\n",
    "    if type(array[0][it].item()) == float:\n",
    "        dictionary[col] = {\"type\": \"numerical\", \"subtype\": \"float\"}\n",
    "    elif type(array[0][it].item()) == int:\n",
    "        dictionary[col] = {\"type\": \"numerical\", \"subtype\": \"integer\"}\n",
    "    else:\n",
    "        dictionary[col] = {\"type\": \"categorical\"}\n",
    "    it+=1\n",
    "\n",
    "# changing some important fields\n",
    "dictionary[\"loan_id\"] = {\"type\": \"id\", \"subtype\": \"integer\"}\n",
    "dictionary[\"infringed\"] = {\"type\": \"categorical\"}\n",
    "dictionary[\"age\"] = {\"type\": \"numerical\", \"subtype\": \"integer\"}\n",
    "metadata = {\"primary_key\": \"loan_id\", \"fields\": dictionary}\n",
    "\n",
    "print(metadata)"
   ]
  },
  {
   "attachments": {},
   "cell_type": "markdown",
   "metadata": {},
   "source": [
    "Remove outliers:"
   ]
  },
  {
   "cell_type": "code",
   "execution_count": 37,
   "metadata": {},
   "outputs": [],
   "source": [
    "def get_outliers(array):\n",
    "    outliers=[]\n",
    "    ind=[]\n",
    "    \n",
    "    \n",
    "    q1 = np.nanquantile(array, 0.25, axis=0)\n",
    "    q3 = np.nanquantile(array, 0.75, axis=0)\n",
    "    \n",
    "    iqr = q3-q1\n",
    "    upper_bound = q3+(1.5*iqr)\n",
    "    lower_bound = q1-(1.5*iqr)\n",
    "\n",
    "    print(array[:,0].shape, type(lower_bound[0]), upper_bound[0])\n",
    "    for i in range(array.shape[1]):\n",
    "        arr = (array[:,i] <= lower_bound[i]) | (array[:,i] >= upper_bound[i])\n",
    "        print(arr)\n",
    "        outliers.append(array[arr])\n",
    "        #ind.append(np.where(np.any(arr)))\n",
    "        ind.append(arr.nonzero())\n",
    "    \n",
    "    return outliers, ind"
   ]
  },
  {
   "cell_type": "markdown",
   "metadata": {},
   "source": [
    "## Trying with different models from de sdv module"
   ]
  },
  {
   "cell_type": "code",
   "execution_count": 41,
   "metadata": {},
   "outputs": [
    {
     "data": {
      "text/html": [
       "<div>\n",
       "<style scoped>\n",
       "    .dataframe tbody tr th:only-of-type {\n",
       "        vertical-align: middle;\n",
       "    }\n",
       "\n",
       "    .dataframe tbody tr th {\n",
       "        vertical-align: top;\n",
       "    }\n",
       "\n",
       "    .dataframe thead th {\n",
       "        text-align: right;\n",
       "    }\n",
       "</style>\n",
       "<table border=\"1\" class=\"dataframe\">\n",
       "  <thead>\n",
       "    <tr style=\"text-align: right;\">\n",
       "      <th></th>\n",
       "      <th>loan_id</th>\n",
       "      <th>infringed</th>\n",
       "      <th>age</th>\n",
       "      <th>past_avg_amount_annuity</th>\n",
       "      <th>past_avg_amt_application</th>\n",
       "      <th>past_avg_amt_credit</th>\n",
       "      <th>past_loans_approved</th>\n",
       "      <th>past_loans_refused</th>\n",
       "      <th>past_loans_canceled</th>\n",
       "      <th>past_loans_unused</th>\n",
       "      <th>past_loans_total</th>\n",
       "    </tr>\n",
       "  </thead>\n",
       "  <tbody>\n",
       "    <tr>\n",
       "      <th>0</th>\n",
       "      <td>100091</td>\n",
       "      <td>0</td>\n",
       "      <td>56</td>\n",
       "      <td>18346.116317</td>\n",
       "      <td>303629.889194</td>\n",
       "      <td>294679.700806</td>\n",
       "      <td>2.347069</td>\n",
       "      <td>0.000000</td>\n",
       "      <td>0.000000</td>\n",
       "      <td>0.404096</td>\n",
       "      <td>NaN</td>\n",
       "    </tr>\n",
       "    <tr>\n",
       "      <th>1</th>\n",
       "      <td>100059</td>\n",
       "      <td>0</td>\n",
       "      <td>68</td>\n",
       "      <td>20236.675268</td>\n",
       "      <td>109194.991453</td>\n",
       "      <td>118557.729314</td>\n",
       "      <td>4.597121</td>\n",
       "      <td>3.124095</td>\n",
       "      <td>3.264159</td>\n",
       "      <td>0.042452</td>\n",
       "      <td>10.923561</td>\n",
       "    </tr>\n",
       "    <tr>\n",
       "      <th>2</th>\n",
       "      <td>100092</td>\n",
       "      <td>0</td>\n",
       "      <td>42</td>\n",
       "      <td>11350.925582</td>\n",
       "      <td>230419.512903</td>\n",
       "      <td>249529.483799</td>\n",
       "      <td>2.683328</td>\n",
       "      <td>4.456765</td>\n",
       "      <td>4.100527</td>\n",
       "      <td>0.976897</td>\n",
       "      <td>12.168041</td>\n",
       "    </tr>\n",
       "    <tr>\n",
       "      <th>3</th>\n",
       "      <td>100093</td>\n",
       "      <td>0</td>\n",
       "      <td>49</td>\n",
       "      <td>21742.912088</td>\n",
       "      <td>258744.798511</td>\n",
       "      <td>290707.299737</td>\n",
       "      <td>3.805451</td>\n",
       "      <td>1.395042</td>\n",
       "      <td>2.427644</td>\n",
       "      <td>0.262665</td>\n",
       "      <td>7.740790</td>\n",
       "    </tr>\n",
       "    <tr>\n",
       "      <th>4</th>\n",
       "      <td>100031</td>\n",
       "      <td>0</td>\n",
       "      <td>39</td>\n",
       "      <td>10978.242503</td>\n",
       "      <td>90219.773851</td>\n",
       "      <td>80495.877588</td>\n",
       "      <td>2.989131</td>\n",
       "      <td>1.023273</td>\n",
       "      <td>4.122675</td>\n",
       "      <td>0.000000</td>\n",
       "      <td>NaN</td>\n",
       "    </tr>\n",
       "    <tr>\n",
       "      <th>...</th>\n",
       "      <td>...</td>\n",
       "      <td>...</td>\n",
       "      <td>...</td>\n",
       "      <td>...</td>\n",
       "      <td>...</td>\n",
       "      <td>...</td>\n",
       "      <td>...</td>\n",
       "      <td>...</td>\n",
       "      <td>...</td>\n",
       "      <td>...</td>\n",
       "      <td>...</td>\n",
       "    </tr>\n",
       "    <tr>\n",
       "      <th>95</th>\n",
       "      <td>100053</td>\n",
       "      <td>0</td>\n",
       "      <td>36</td>\n",
       "      <td>30980.928003</td>\n",
       "      <td>303095.644996</td>\n",
       "      <td>367378.861659</td>\n",
       "      <td>4.610617</td>\n",
       "      <td>1.261470</td>\n",
       "      <td>2.439534</td>\n",
       "      <td>0.767491</td>\n",
       "      <td>9.139375</td>\n",
       "    </tr>\n",
       "    <tr>\n",
       "      <th>96</th>\n",
       "      <td>100048</td>\n",
       "      <td>0</td>\n",
       "      <td>30</td>\n",
       "      <td>2144.610000</td>\n",
       "      <td>34865.641619</td>\n",
       "      <td>40751.528695</td>\n",
       "      <td>2.137145</td>\n",
       "      <td>0.000000</td>\n",
       "      <td>1.844282</td>\n",
       "      <td>0.000000</td>\n",
       "      <td>3.152669</td>\n",
       "    </tr>\n",
       "    <tr>\n",
       "      <th>97</th>\n",
       "      <td>100037</td>\n",
       "      <td>0</td>\n",
       "      <td>40</td>\n",
       "      <td>NaN</td>\n",
       "      <td>223071.881709</td>\n",
       "      <td>210064.905006</td>\n",
       "      <td>3.024281</td>\n",
       "      <td>1.679674</td>\n",
       "      <td>0.000000</td>\n",
       "      <td>0.000000</td>\n",
       "      <td>3.468834</td>\n",
       "    </tr>\n",
       "    <tr>\n",
       "      <th>98</th>\n",
       "      <td>100002</td>\n",
       "      <td>0</td>\n",
       "      <td>21</td>\n",
       "      <td>27124.448315</td>\n",
       "      <td>214011.127506</td>\n",
       "      <td>275057.105866</td>\n",
       "      <td>3.708384</td>\n",
       "      <td>1.640501</td>\n",
       "      <td>4.488088</td>\n",
       "      <td>0.000000</td>\n",
       "      <td>NaN</td>\n",
       "    </tr>\n",
       "    <tr>\n",
       "      <th>99</th>\n",
       "      <td>100024</td>\n",
       "      <td>0</td>\n",
       "      <td>43</td>\n",
       "      <td>4889.858523</td>\n",
       "      <td>23667.750000</td>\n",
       "      <td>20106.000000</td>\n",
       "      <td>NaN</td>\n",
       "      <td>0.785420</td>\n",
       "      <td>0.477534</td>\n",
       "      <td>0.000000</td>\n",
       "      <td>8.309644</td>\n",
       "    </tr>\n",
       "  </tbody>\n",
       "</table>\n",
       "<p>100 rows × 11 columns</p>\n",
       "</div>"
      ],
      "text/plain": [
       "    loan_id  infringed  age  past_avg_amount_annuity  \\\n",
       "0    100091          0   56             18346.116317   \n",
       "1    100059          0   68             20236.675268   \n",
       "2    100092          0   42             11350.925582   \n",
       "3    100093          0   49             21742.912088   \n",
       "4    100031          0   39             10978.242503   \n",
       "..      ...        ...  ...                      ...   \n",
       "95   100053          0   36             30980.928003   \n",
       "96   100048          0   30              2144.610000   \n",
       "97   100037          0   40                      NaN   \n",
       "98   100002          0   21             27124.448315   \n",
       "99   100024          0   43              4889.858523   \n",
       "\n",
       "    past_avg_amt_application  past_avg_amt_credit  past_loans_approved  \\\n",
       "0              303629.889194        294679.700806             2.347069   \n",
       "1              109194.991453        118557.729314             4.597121   \n",
       "2              230419.512903        249529.483799             2.683328   \n",
       "3              258744.798511        290707.299737             3.805451   \n",
       "4               90219.773851         80495.877588             2.989131   \n",
       "..                       ...                  ...                  ...   \n",
       "95             303095.644996        367378.861659             4.610617   \n",
       "96              34865.641619         40751.528695             2.137145   \n",
       "97             223071.881709        210064.905006             3.024281   \n",
       "98             214011.127506        275057.105866             3.708384   \n",
       "99              23667.750000         20106.000000                  NaN   \n",
       "\n",
       "    past_loans_refused  past_loans_canceled  past_loans_unused  \\\n",
       "0             0.000000             0.000000           0.404096   \n",
       "1             3.124095             3.264159           0.042452   \n",
       "2             4.456765             4.100527           0.976897   \n",
       "3             1.395042             2.427644           0.262665   \n",
       "4             1.023273             4.122675           0.000000   \n",
       "..                 ...                  ...                ...   \n",
       "95            1.261470             2.439534           0.767491   \n",
       "96            0.000000             1.844282           0.000000   \n",
       "97            1.679674             0.000000           0.000000   \n",
       "98            1.640501             4.488088           0.000000   \n",
       "99            0.785420             0.477534           0.000000   \n",
       "\n",
       "    past_loans_total  \n",
       "0                NaN  \n",
       "1          10.923561  \n",
       "2          12.168041  \n",
       "3           7.740790  \n",
       "4                NaN  \n",
       "..               ...  \n",
       "95          9.139375  \n",
       "96          3.152669  \n",
       "97          3.468834  \n",
       "98               NaN  \n",
       "99          8.309644  \n",
       "\n",
       "[100 rows x 11 columns]"
      ]
     },
     "execution_count": 41,
     "metadata": {},
     "output_type": "execute_result"
    }
   ],
   "source": [
    "from sdv.lite import TabularPreset\n",
    "\n",
    "model = TabularPreset(name='FAST_ML')\n",
    "model.fit(df[:100])\n",
    "tabular_synth = model.sample(100)\n",
    "tabular_synth"
   ]
  },
  {
   "cell_type": "code",
   "execution_count": 49,
   "metadata": {},
   "outputs": [
    {
     "data": {
      "text/html": [
       "<div>\n",
       "<style scoped>\n",
       "    .dataframe tbody tr th:only-of-type {\n",
       "        vertical-align: middle;\n",
       "    }\n",
       "\n",
       "    .dataframe tbody tr th {\n",
       "        vertical-align: top;\n",
       "    }\n",
       "\n",
       "    .dataframe thead th {\n",
       "        text-align: right;\n",
       "    }\n",
       "</style>\n",
       "<table border=\"1\" class=\"dataframe\">\n",
       "  <thead>\n",
       "    <tr style=\"text-align: right;\">\n",
       "      <th></th>\n",
       "      <th>loan_id</th>\n",
       "      <th>infringed</th>\n",
       "      <th>age</th>\n",
       "      <th>past_avg_amount_annuity</th>\n",
       "      <th>past_avg_amt_application</th>\n",
       "      <th>past_avg_amt_credit</th>\n",
       "      <th>past_loans_approved</th>\n",
       "      <th>past_loans_refused</th>\n",
       "      <th>past_loans_canceled</th>\n",
       "      <th>past_loans_unused</th>\n",
       "      <th>past_loans_total</th>\n",
       "    </tr>\n",
       "  </thead>\n",
       "  <tbody>\n",
       "    <tr>\n",
       "      <th>0</th>\n",
       "      <td>100011</td>\n",
       "      <td>0</td>\n",
       "      <td>34</td>\n",
       "      <td>24360.0</td>\n",
       "      <td>215830.0</td>\n",
       "      <td>236837.0</td>\n",
       "      <td>4.0</td>\n",
       "      <td>1.0</td>\n",
       "      <td>3.0</td>\n",
       "      <td>0.0</td>\n",
       "      <td>9.0</td>\n",
       "    </tr>\n",
       "    <tr>\n",
       "      <th>1</th>\n",
       "      <td>100054</td>\n",
       "      <td>0</td>\n",
       "      <td>34</td>\n",
       "      <td>6410.0</td>\n",
       "      <td>119218.0</td>\n",
       "      <td>151292.0</td>\n",
       "      <td>2.0</td>\n",
       "      <td>2.0</td>\n",
       "      <td>9.0</td>\n",
       "      <td>0.0</td>\n",
       "      <td>11.0</td>\n",
       "    </tr>\n",
       "    <tr>\n",
       "      <th>2</th>\n",
       "      <td>100025</td>\n",
       "      <td>0</td>\n",
       "      <td>24</td>\n",
       "      <td>7168.0</td>\n",
       "      <td>83520.0</td>\n",
       "      <td>116813.0</td>\n",
       "      <td>4.0</td>\n",
       "      <td>3.0</td>\n",
       "      <td>7.0</td>\n",
       "      <td>1.0</td>\n",
       "      <td>11.0</td>\n",
       "    </tr>\n",
       "    <tr>\n",
       "      <th>3</th>\n",
       "      <td>100103</td>\n",
       "      <td>0</td>\n",
       "      <td>29</td>\n",
       "      <td>7486.0</td>\n",
       "      <td>74067.0</td>\n",
       "      <td>40422.0</td>\n",
       "      <td>2.0</td>\n",
       "      <td>2.0</td>\n",
       "      <td>5.0</td>\n",
       "      <td>0.0</td>\n",
       "      <td>8.0</td>\n",
       "    </tr>\n",
       "    <tr>\n",
       "      <th>4</th>\n",
       "      <td>100012</td>\n",
       "      <td>0</td>\n",
       "      <td>66</td>\n",
       "      <td>8853.0</td>\n",
       "      <td>147356.0</td>\n",
       "      <td>79664.0</td>\n",
       "      <td>1.0</td>\n",
       "      <td>1.0</td>\n",
       "      <td>1.0</td>\n",
       "      <td>1.0</td>\n",
       "      <td>1.0</td>\n",
       "    </tr>\n",
       "    <tr>\n",
       "      <th>...</th>\n",
       "      <td>...</td>\n",
       "      <td>...</td>\n",
       "      <td>...</td>\n",
       "      <td>...</td>\n",
       "      <td>...</td>\n",
       "      <td>...</td>\n",
       "      <td>...</td>\n",
       "      <td>...</td>\n",
       "      <td>...</td>\n",
       "      <td>...</td>\n",
       "      <td>...</td>\n",
       "    </tr>\n",
       "    <tr>\n",
       "      <th>95</th>\n",
       "      <td>100048</td>\n",
       "      <td>0</td>\n",
       "      <td>44</td>\n",
       "      <td>6967.0</td>\n",
       "      <td>96402.0</td>\n",
       "      <td>133042.0</td>\n",
       "      <td>1.0</td>\n",
       "      <td>1.0</td>\n",
       "      <td>1.0</td>\n",
       "      <td>0.0</td>\n",
       "      <td>2.0</td>\n",
       "    </tr>\n",
       "    <tr>\n",
       "      <th>96</th>\n",
       "      <td>100044</td>\n",
       "      <td>0</td>\n",
       "      <td>28</td>\n",
       "      <td>8702.0</td>\n",
       "      <td>190954.0</td>\n",
       "      <td>265647.0</td>\n",
       "      <td>1.0</td>\n",
       "      <td>1.0</td>\n",
       "      <td>0.0</td>\n",
       "      <td>0.0</td>\n",
       "      <td>2.0</td>\n",
       "    </tr>\n",
       "    <tr>\n",
       "      <th>97</th>\n",
       "      <td>100027</td>\n",
       "      <td>0</td>\n",
       "      <td>37</td>\n",
       "      <td>17561.0</td>\n",
       "      <td>65959.0</td>\n",
       "      <td>57554.0</td>\n",
       "      <td>2.0</td>\n",
       "      <td>2.0</td>\n",
       "      <td>1.0</td>\n",
       "      <td>0.0</td>\n",
       "      <td>2.0</td>\n",
       "    </tr>\n",
       "    <tr>\n",
       "      <th>98</th>\n",
       "      <td>100076</td>\n",
       "      <td>0</td>\n",
       "      <td>27</td>\n",
       "      <td>18594.0</td>\n",
       "      <td>222650.0</td>\n",
       "      <td>261396.0</td>\n",
       "      <td>3.0</td>\n",
       "      <td>5.0</td>\n",
       "      <td>3.0</td>\n",
       "      <td>0.0</td>\n",
       "      <td>5.0</td>\n",
       "    </tr>\n",
       "    <tr>\n",
       "      <th>99</th>\n",
       "      <td>100049</td>\n",
       "      <td>1</td>\n",
       "      <td>39</td>\n",
       "      <td>13278.0</td>\n",
       "      <td>59013.0</td>\n",
       "      <td>93727.0</td>\n",
       "      <td>4.0</td>\n",
       "      <td>3.0</td>\n",
       "      <td>3.0</td>\n",
       "      <td>0.0</td>\n",
       "      <td>10.0</td>\n",
       "    </tr>\n",
       "  </tbody>\n",
       "</table>\n",
       "<p>100 rows × 11 columns</p>\n",
       "</div>"
      ],
      "text/plain": [
       "    loan_id  infringed  age  past_avg_amount_annuity  \\\n",
       "0    100011          0   34                  24360.0   \n",
       "1    100054          0   34                   6410.0   \n",
       "2    100025          0   24                   7168.0   \n",
       "3    100103          0   29                   7486.0   \n",
       "4    100012          0   66                   8853.0   \n",
       "..      ...        ...  ...                      ...   \n",
       "95   100048          0   44                   6967.0   \n",
       "96   100044          0   28                   8702.0   \n",
       "97   100027          0   37                  17561.0   \n",
       "98   100076          0   27                  18594.0   \n",
       "99   100049          1   39                  13278.0   \n",
       "\n",
       "    past_avg_amt_application  past_avg_amt_credit  past_loans_approved  \\\n",
       "0                   215830.0             236837.0                  4.0   \n",
       "1                   119218.0             151292.0                  2.0   \n",
       "2                    83520.0             116813.0                  4.0   \n",
       "3                    74067.0              40422.0                  2.0   \n",
       "4                   147356.0              79664.0                  1.0   \n",
       "..                       ...                  ...                  ...   \n",
       "95                   96402.0             133042.0                  1.0   \n",
       "96                  190954.0             265647.0                  1.0   \n",
       "97                   65959.0              57554.0                  2.0   \n",
       "98                  222650.0             261396.0                  3.0   \n",
       "99                   59013.0              93727.0                  4.0   \n",
       "\n",
       "    past_loans_refused  past_loans_canceled  past_loans_unused  \\\n",
       "0                  1.0                  3.0                0.0   \n",
       "1                  2.0                  9.0                0.0   \n",
       "2                  3.0                  7.0                1.0   \n",
       "3                  2.0                  5.0                0.0   \n",
       "4                  1.0                  1.0                1.0   \n",
       "..                 ...                  ...                ...   \n",
       "95                 1.0                  1.0                0.0   \n",
       "96                 1.0                  0.0                0.0   \n",
       "97                 2.0                  1.0                0.0   \n",
       "98                 5.0                  3.0                0.0   \n",
       "99                 3.0                  3.0                0.0   \n",
       "\n",
       "    past_loans_total  \n",
       "0                9.0  \n",
       "1               11.0  \n",
       "2               11.0  \n",
       "3                8.0  \n",
       "4                1.0  \n",
       "..               ...  \n",
       "95               2.0  \n",
       "96               2.0  \n",
       "97               2.0  \n",
       "98               5.0  \n",
       "99              10.0  \n",
       "\n",
       "[100 rows x 11 columns]"
      ]
     },
     "execution_count": 49,
     "metadata": {},
     "output_type": "execute_result"
    }
   ],
   "source": [
    "from sdv.tabular import GaussianCopula\n",
    "\n",
    "model = GaussianCopula()\n",
    "model.fit(df[:100])\n",
    "\n",
    "gcopula_synth = model.sample(100)\n",
    "gcopula_synth"
   ]
  },
  {
   "attachments": {},
   "cell_type": "markdown",
   "metadata": {},
   "source": [
    "# Settling with the GaussianCopula\n",
    "\n"
   ]
  },
  {
   "cell_type": "code",
   "execution_count": 70,
   "metadata": {},
   "outputs": [],
   "source": [
    "\n",
    "model = GaussianCopula(\n",
    "    primary_key = 'loan_id',\n",
    "    \n",
    "    # TODO ver isto\n",
    "    # field_distributions={ 'experience_years': 'gamma'},\n",
    "    )\n",
    "\n",
    "model.fit(df)"
   ]
  },
  {
   "cell_type": "code",
   "execution_count": 71,
   "metadata": {},
   "outputs": [
    {
     "data": {
      "text/html": [
       "<div>\n",
       "<style scoped>\n",
       "    .dataframe tbody tr th:only-of-type {\n",
       "        vertical-align: middle;\n",
       "    }\n",
       "\n",
       "    .dataframe tbody tr th {\n",
       "        vertical-align: top;\n",
       "    }\n",
       "\n",
       "    .dataframe thead th {\n",
       "        text-align: right;\n",
       "    }\n",
       "</style>\n",
       "<table border=\"1\" class=\"dataframe\">\n",
       "  <thead>\n",
       "    <tr style=\"text-align: right;\">\n",
       "      <th></th>\n",
       "      <th>loan_id</th>\n",
       "      <th>infringed</th>\n",
       "      <th>age</th>\n",
       "      <th>past_avg_amount_annuity</th>\n",
       "      <th>past_avg_amt_application</th>\n",
       "      <th>past_avg_amt_credit</th>\n",
       "      <th>past_loans_approved</th>\n",
       "      <th>past_loans_refused</th>\n",
       "      <th>past_loans_canceled</th>\n",
       "      <th>past_loans_unused</th>\n",
       "      <th>past_loans_total</th>\n",
       "    </tr>\n",
       "  </thead>\n",
       "  <tbody>\n",
       "    <tr>\n",
       "      <th>0</th>\n",
       "      <td>0</td>\n",
       "      <td>0</td>\n",
       "      <td>59</td>\n",
       "      <td>15900.0</td>\n",
       "      <td>381056.0</td>\n",
       "      <td>376038.0</td>\n",
       "      <td>3.0</td>\n",
       "      <td>1.0</td>\n",
       "      <td>1.0</td>\n",
       "      <td>1.0</td>\n",
       "      <td>4.0</td>\n",
       "    </tr>\n",
       "    <tr>\n",
       "      <th>1</th>\n",
       "      <td>1</td>\n",
       "      <td>0</td>\n",
       "      <td>39</td>\n",
       "      <td>2260.0</td>\n",
       "      <td>60922.0</td>\n",
       "      <td>57573.0</td>\n",
       "      <td>2.0</td>\n",
       "      <td>1.0</td>\n",
       "      <td>3.0</td>\n",
       "      <td>0.0</td>\n",
       "      <td>5.0</td>\n",
       "    </tr>\n",
       "    <tr>\n",
       "      <th>2</th>\n",
       "      <td>2</td>\n",
       "      <td>0</td>\n",
       "      <td>53</td>\n",
       "      <td>19160.0</td>\n",
       "      <td>146704.0</td>\n",
       "      <td>243085.0</td>\n",
       "      <td>3.0</td>\n",
       "      <td>1.0</td>\n",
       "      <td>0.0</td>\n",
       "      <td>0.0</td>\n",
       "      <td>2.0</td>\n",
       "    </tr>\n",
       "    <tr>\n",
       "      <th>3</th>\n",
       "      <td>3</td>\n",
       "      <td>1</td>\n",
       "      <td>34</td>\n",
       "      <td>2970.0</td>\n",
       "      <td>55644.0</td>\n",
       "      <td>58769.0</td>\n",
       "      <td>5.0</td>\n",
       "      <td>0.0</td>\n",
       "      <td>1.0</td>\n",
       "      <td>1.0</td>\n",
       "      <td>4.0</td>\n",
       "    </tr>\n",
       "    <tr>\n",
       "      <th>4</th>\n",
       "      <td>4</td>\n",
       "      <td>0</td>\n",
       "      <td>44</td>\n",
       "      <td>11931.0</td>\n",
       "      <td>244359.0</td>\n",
       "      <td>253181.0</td>\n",
       "      <td>3.0</td>\n",
       "      <td>2.0</td>\n",
       "      <td>1.0</td>\n",
       "      <td>1.0</td>\n",
       "      <td>4.0</td>\n",
       "    </tr>\n",
       "    <tr>\n",
       "      <th>...</th>\n",
       "      <td>...</td>\n",
       "      <td>...</td>\n",
       "      <td>...</td>\n",
       "      <td>...</td>\n",
       "      <td>...</td>\n",
       "      <td>...</td>\n",
       "      <td>...</td>\n",
       "      <td>...</td>\n",
       "      <td>...</td>\n",
       "      <td>...</td>\n",
       "      <td>...</td>\n",
       "    </tr>\n",
       "    <tr>\n",
       "      <th>307506</th>\n",
       "      <td>307506</td>\n",
       "      <td>0</td>\n",
       "      <td>36</td>\n",
       "      <td>8584.0</td>\n",
       "      <td>148420.0</td>\n",
       "      <td>100738.0</td>\n",
       "      <td>3.0</td>\n",
       "      <td>1.0</td>\n",
       "      <td>1.0</td>\n",
       "      <td>0.0</td>\n",
       "      <td>6.0</td>\n",
       "    </tr>\n",
       "    <tr>\n",
       "      <th>307507</th>\n",
       "      <td>307507</td>\n",
       "      <td>1</td>\n",
       "      <td>59</td>\n",
       "      <td>43306.0</td>\n",
       "      <td>490404.0</td>\n",
       "      <td>656104.0</td>\n",
       "      <td>4.0</td>\n",
       "      <td>1.0</td>\n",
       "      <td>1.0</td>\n",
       "      <td>0.0</td>\n",
       "      <td>4.0</td>\n",
       "    </tr>\n",
       "    <tr>\n",
       "      <th>307508</th>\n",
       "      <td>307508</td>\n",
       "      <td>1</td>\n",
       "      <td>32</td>\n",
       "      <td>18852.0</td>\n",
       "      <td>341138.0</td>\n",
       "      <td>356260.0</td>\n",
       "      <td>1.0</td>\n",
       "      <td>1.0</td>\n",
       "      <td>1.0</td>\n",
       "      <td>0.0</td>\n",
       "      <td>3.0</td>\n",
       "    </tr>\n",
       "    <tr>\n",
       "      <th>307509</th>\n",
       "      <td>307509</td>\n",
       "      <td>0</td>\n",
       "      <td>49</td>\n",
       "      <td>17190.0</td>\n",
       "      <td>300868.0</td>\n",
       "      <td>285959.0</td>\n",
       "      <td>4.0</td>\n",
       "      <td>2.0</td>\n",
       "      <td>4.0</td>\n",
       "      <td>0.0</td>\n",
       "      <td>9.0</td>\n",
       "    </tr>\n",
       "    <tr>\n",
       "      <th>307510</th>\n",
       "      <td>307510</td>\n",
       "      <td>0</td>\n",
       "      <td>57</td>\n",
       "      <td>31281.0</td>\n",
       "      <td>189563.0</td>\n",
       "      <td>201186.0</td>\n",
       "      <td>3.0</td>\n",
       "      <td>1.0</td>\n",
       "      <td>2.0</td>\n",
       "      <td>0.0</td>\n",
       "      <td>8.0</td>\n",
       "    </tr>\n",
       "  </tbody>\n",
       "</table>\n",
       "<p>307511 rows × 11 columns</p>\n",
       "</div>"
      ],
      "text/plain": [
       "        loan_id  infringed  age  past_avg_amount_annuity  \\\n",
       "0             0          0   59                  15900.0   \n",
       "1             1          0   39                   2260.0   \n",
       "2             2          0   53                  19160.0   \n",
       "3             3          1   34                   2970.0   \n",
       "4             4          0   44                  11931.0   \n",
       "...         ...        ...  ...                      ...   \n",
       "307506   307506          0   36                   8584.0   \n",
       "307507   307507          1   59                  43306.0   \n",
       "307508   307508          1   32                  18852.0   \n",
       "307509   307509          0   49                  17190.0   \n",
       "307510   307510          0   57                  31281.0   \n",
       "\n",
       "        past_avg_amt_application  past_avg_amt_credit  past_loans_approved  \\\n",
       "0                       381056.0             376038.0                  3.0   \n",
       "1                        60922.0              57573.0                  2.0   \n",
       "2                       146704.0             243085.0                  3.0   \n",
       "3                        55644.0              58769.0                  5.0   \n",
       "4                       244359.0             253181.0                  3.0   \n",
       "...                          ...                  ...                  ...   \n",
       "307506                  148420.0             100738.0                  3.0   \n",
       "307507                  490404.0             656104.0                  4.0   \n",
       "307508                  341138.0             356260.0                  1.0   \n",
       "307509                  300868.0             285959.0                  4.0   \n",
       "307510                  189563.0             201186.0                  3.0   \n",
       "\n",
       "        past_loans_refused  past_loans_canceled  past_loans_unused  \\\n",
       "0                      1.0                  1.0                1.0   \n",
       "1                      1.0                  3.0                0.0   \n",
       "2                      1.0                  0.0                0.0   \n",
       "3                      0.0                  1.0                1.0   \n",
       "4                      2.0                  1.0                1.0   \n",
       "...                    ...                  ...                ...   \n",
       "307506                 1.0                  1.0                0.0   \n",
       "307507                 1.0                  1.0                0.0   \n",
       "307508                 1.0                  1.0                0.0   \n",
       "307509                 2.0                  4.0                0.0   \n",
       "307510                 1.0                  2.0                0.0   \n",
       "\n",
       "        past_loans_total  \n",
       "0                    4.0  \n",
       "1                    5.0  \n",
       "2                    2.0  \n",
       "3                    4.0  \n",
       "4                    4.0  \n",
       "...                  ...  \n",
       "307506               6.0  \n",
       "307507               4.0  \n",
       "307508               3.0  \n",
       "307509               9.0  \n",
       "307510               8.0  \n",
       "\n",
       "[307511 rows x 11 columns]"
      ]
     },
     "execution_count": 71,
     "metadata": {},
     "output_type": "execute_result"
    }
   ],
   "source": [
    "synth_data = model.sample(df.shape[0])\n",
    "synth_data"
   ]
  },
  {
   "cell_type": "markdown",
   "metadata": {},
   "source": [
    "## SDMetrics\n",
    "\n",
    "Supported by SDV module to give usefull measures of the synthetic data generated\n",
    "\n",
    "[link to the module](https://docs.sdv.dev/sdmetrics/)"
   ]
  },
  {
   "cell_type": "markdown",
   "metadata": {},
   "source": [
    "### Quality Report"
   ]
  },
  {
   "cell_type": "code",
   "execution_count": 99,
   "metadata": {},
   "outputs": [
    {
     "name": "stderr",
     "output_type": "stream",
     "text": [
      "Creating report: 100%|██████████| 4/4 [00:05<00:00,  1.46s/it]\n"
     ]
    },
    {
     "name": "stdout",
     "output_type": "stream",
     "text": [
      "\n",
      "Overall Quality Score: 93.91%\n",
      "\n",
      "Properties:\n",
      "Column Shapes: 90.53%\n",
      "Column Pair Trends: 97.29%\n"
     ]
    }
   ],
   "source": [
    "from sdmetrics.reports.single_table import QualityReport\n",
    "\n",
    "quality_report = QualityReport()\n",
    "quality_report.generate(df, synth_data, metadata) # quality report demora mais que a SD?"
   ]
  },
  {
   "cell_type": "code",
   "execution_count": 100,
   "metadata": {},
   "outputs": [
    {
     "data": {
      "application/vnd.plotly.v1+json": {
       "config": {
        "plotlyServerURL": "https://plot.ly"
       },
       "data": [
        {
         "coloraxis": "coloraxis",
         "hovertemplate": "<b>Column Pair</b><br>(%{x},%{y})<br><br>Similarity: %{z}<extra></extra>",
         "type": "heatmap",
         "x": [
          "past_loans_refused",
          "infringed",
          "age",
          "past_loans_total",
          "past_loans_unused",
          "past_loans_approved",
          "past_avg_amount_annuity",
          "past_loans_canceled",
          "past_avg_amt_application",
          "past_avg_amt_credit"
         ],
         "xaxis": "x",
         "y": [
          "past_loans_refused",
          "infringed",
          "age",
          "past_loans_total",
          "past_loans_unused",
          "past_loans_approved",
          "past_avg_amount_annuity",
          "past_loans_canceled",
          "past_avg_amt_application",
          "past_avg_amt_credit"
         ],
         "yaxis": "y",
         "z": [
          [
           1,
           0.98,
           1,
           0.9,
           0.98,
           1,
           0.99,
           0.97,
           0.99,
           0.99
          ],
          [
           0.98,
           1,
           0.92,
           0.94,
           0.98,
           0.95,
           0.97,
           0.98,
           0.98,
           0.97
          ],
          [
           1,
           0.92,
           1,
           0.99,
           0.99,
           1,
           1,
           1,
           1,
           1
          ],
          [
           0.9,
           0.94,
           0.99,
           1,
           0.98,
           0.96,
           1,
           0.89,
           0.99,
           0.99
          ],
          [
           0.98,
           0.98,
           0.99,
           0.98,
           1,
           0.98,
           0.99,
           0.99,
           0.99,
           0.99
          ],
          [
           1,
           0.95,
           1,
           0.96,
           0.98,
           1,
           0.99,
           0.99,
           0.97,
           0.97
          ],
          [
           0.99,
           0.97,
           1,
           1,
           0.99,
           0.99,
           1,
           0.99,
           1,
           0.99
          ],
          [
           0.97,
           0.98,
           1,
           0.89,
           0.99,
           0.99,
           0.99,
           1,
           0.99,
           0.99
          ],
          [
           0.99,
           0.98,
           1,
           0.99,
           0.99,
           0.97,
           1,
           0.99,
           1,
           0.98
          ],
          [
           0.99,
           0.97,
           1,
           0.99,
           0.99,
           0.97,
           0.99,
           0.99,
           0.98,
           1
          ]
         ]
        },
        {
         "coloraxis": "coloraxis2",
         "customdata": [
          [
           1,
           0.11,
           0.13,
           0.13,
           0.07,
           0.08,
           0,
           -0.05,
           0.05
          ],
          [
           0.11,
           1,
           0.78,
           0.79,
           0.12,
           0.22,
           0.17,
           -0.02,
           0.19
          ],
          [
           0.13,
           0.78,
           1,
           0.94,
           0.18,
           0.09,
           0.2,
           -0.02,
           0.18
          ],
          [
           0.13,
           0.79,
           0.94,
           1,
           0.2,
           0.1,
           0.22,
           -0.02,
           0.21
          ],
          [
           0.07,
           0.12,
           0.18,
           0.2,
           1,
           0.27,
           0.27,
           0.06,
           0.68
          ],
          [
           0.08,
           0.22,
           0.09,
           0.1,
           0.27,
           1,
           0.28,
           0.04,
           0.51
          ],
          [
           0,
           0.17,
           0.2,
           0.22,
           0.27,
           0.28,
           1,
           0.08,
           0.5
          ],
          [
           -0.05,
           -0.02,
           -0.02,
           -0.02,
           0.06,
           0.04,
           0.08,
           1,
           0.11
          ],
          [
           0.05,
           0.19,
           0.18,
           0.21,
           0.68,
           0.51,
           0.5,
           0.11,
           1
          ]
         ],
         "hovertemplate": "<b>Correlation</b><br>(%{x},%{y})<br><br>Real: %{z}<br>(vs. Synthetic: %{customdata})<extra></extra>",
         "type": "heatmap",
         "x": [
          "age",
          "past_avg_amount_annuity",
          "past_avg_amt_application",
          "past_avg_amt_credit",
          "past_loans_approved",
          "past_loans_refused",
          "past_loans_canceled",
          "past_loans_unused",
          "past_loans_total"
         ],
         "xaxis": "x2",
         "y": [
          "age",
          "past_avg_amount_annuity",
          "past_avg_amt_application",
          "past_avg_amt_credit",
          "past_loans_approved",
          "past_loans_refused",
          "past_loans_canceled",
          "past_loans_unused",
          "past_loans_total"
         ],
         "yaxis": "y2",
         "z": [
          [
           1,
           0.11,
           0.13,
           0.13,
           0.08,
           0.09,
           0.01,
           -0.08,
           0.07
          ],
          [
           0.11,
           1,
           0.77,
           0.77,
           0.1,
           0.2,
           0.15,
           -0.03,
           0.2
          ],
          [
           0.13,
           0.77,
           1,
           0.98,
           0.11,
           0.07,
           0.18,
           -0.05,
           0.16
          ],
          [
           0.13,
           0.77,
           0.98,
           1,
           0.14,
           0.07,
           0.2,
           -0.05,
           0.19
          ],
          [
           0.08,
           0.1,
           0.11,
           0.14,
           1,
           0.28,
           0.28,
           0.1,
           0.76
          ],
          [
           0.09,
           0.2,
           0.07,
           0.07,
           0.28,
           1,
           0.35,
           0.01,
           0.7
          ],
          [
           0.01,
           0.15,
           0.18,
           0.2,
           0.28,
           0.35,
           1,
           0.06,
           0.73
          ],
          [
           -0.08,
           -0.03,
           -0.05,
           -0.05,
           0.1,
           0.01,
           0.06,
           1,
           0.16
          ],
          [
           0.07,
           0.2,
           0.16,
           0.19,
           0.76,
           0.7,
           0.73,
           0.16,
           1
          ]
         ]
        },
        {
         "coloraxis": "coloraxis2",
         "customdata": [
          [
           1,
           0.11,
           0.13,
           0.13,
           0.08,
           0.09,
           0.01,
           -0.08,
           0.07
          ],
          [
           0.11,
           1,
           0.77,
           0.77,
           0.1,
           0.2,
           0.15,
           -0.03,
           0.2
          ],
          [
           0.13,
           0.77,
           1,
           0.98,
           0.11,
           0.07,
           0.18,
           -0.05,
           0.16
          ],
          [
           0.13,
           0.77,
           0.98,
           1,
           0.14,
           0.07,
           0.2,
           -0.05,
           0.19
          ],
          [
           0.08,
           0.1,
           0.11,
           0.14,
           1,
           0.28,
           0.28,
           0.1,
           0.76
          ],
          [
           0.09,
           0.2,
           0.07,
           0.07,
           0.28,
           1,
           0.35,
           0.01,
           0.7
          ],
          [
           0.01,
           0.15,
           0.18,
           0.2,
           0.28,
           0.35,
           1,
           0.06,
           0.73
          ],
          [
           -0.08,
           -0.03,
           -0.05,
           -0.05,
           0.1,
           0.01,
           0.06,
           1,
           0.16
          ],
          [
           0.07,
           0.2,
           0.16,
           0.19,
           0.76,
           0.7,
           0.73,
           0.16,
           1
          ]
         ],
         "hovertemplate": "<b>Correlation</b><br>(%{x},%{y})<br><br>Synthetic: %{z}<br>(vs. Real: %{customdata})<extra></extra>",
         "type": "heatmap",
         "x": [
          "age",
          "past_avg_amount_annuity",
          "past_avg_amt_application",
          "past_avg_amt_credit",
          "past_loans_approved",
          "past_loans_refused",
          "past_loans_canceled",
          "past_loans_unused",
          "past_loans_total"
         ],
         "xaxis": "x3",
         "y": [
          "age",
          "past_avg_amount_annuity",
          "past_avg_amt_application",
          "past_avg_amt_credit",
          "past_loans_approved",
          "past_loans_refused",
          "past_loans_canceled",
          "past_loans_unused",
          "past_loans_total"
         ],
         "yaxis": "y3",
         "z": [
          [
           1,
           0.11,
           0.13,
           0.13,
           0.07,
           0.08,
           0,
           -0.05,
           0.05
          ],
          [
           0.11,
           1,
           0.78,
           0.79,
           0.12,
           0.22,
           0.17,
           -0.02,
           0.19
          ],
          [
           0.13,
           0.78,
           1,
           0.94,
           0.18,
           0.09,
           0.2,
           -0.02,
           0.18
          ],
          [
           0.13,
           0.79,
           0.94,
           1,
           0.2,
           0.1,
           0.22,
           -0.02,
           0.21
          ],
          [
           0.07,
           0.12,
           0.18,
           0.2,
           1,
           0.27,
           0.27,
           0.06,
           0.68
          ],
          [
           0.08,
           0.22,
           0.09,
           0.1,
           0.27,
           1,
           0.28,
           0.04,
           0.51
          ],
          [
           0,
           0.17,
           0.2,
           0.22,
           0.27,
           0.28,
           1,
           0.08,
           0.5
          ],
          [
           -0.05,
           -0.02,
           -0.02,
           -0.02,
           0.06,
           0.04,
           0.08,
           1,
           0.11
          ],
          [
           0.05,
           0.19,
           0.18,
           0.21,
           0.68,
           0.51,
           0.5,
           0.11,
           1
          ]
         ]
        }
       ],
       "layout": {
        "annotations": [
         {
          "font": {
           "size": 16
          },
          "showarrow": false,
          "text": "Real vs. Synthetic Similarity",
          "x": 0.5,
          "xanchor": "center",
          "xref": "paper",
          "y": 1,
          "yanchor": "bottom",
          "yref": "paper"
         },
         {
          "font": {
           "size": 16
          },
          "showarrow": false,
          "text": "Numerical Correlation (Real Data)",
          "x": 0.225,
          "xanchor": "center",
          "xref": "paper",
          "y": 0.375,
          "yanchor": "bottom",
          "yref": "paper"
         },
         {
          "font": {
           "size": 16
          },
          "showarrow": false,
          "text": "Numerical Correlation (Synthetic Data)",
          "x": 0.775,
          "xanchor": "center",
          "xref": "paper",
          "y": 0.375,
          "yanchor": "bottom",
          "yref": "paper"
         }
        ],
        "coloraxis": {
         "cmax": 1,
         "cmin": 0,
         "colorbar": {
          "len": 0.5,
          "x": 0.8,
          "y": 0.8
         },
         "colorscale": [
          [
           0,
           "#FF0000"
          ],
          [
           0.5,
           "#F16141"
          ],
          [
           1,
           "#36B37E"
          ]
         ]
        },
        "coloraxis2": {
         "cmax": 1,
         "cmin": -1,
         "colorbar": {
          "len": 0.5,
          "y": 0.2
         },
         "colorscale": [
          [
           0,
           "#03AFF1"
          ],
          [
           0.5,
           "#000036"
          ],
          [
           1,
           "#01E0C9"
          ]
         ]
        },
        "height": 900,
        "template": {
         "data": {
          "bar": [
           {
            "error_x": {
             "color": "#2a3f5f"
            },
            "error_y": {
             "color": "#2a3f5f"
            },
            "marker": {
             "line": {
              "color": "#E5ECF6",
              "width": 0.5
             },
             "pattern": {
              "fillmode": "overlay",
              "size": 10,
              "solidity": 0.2
             }
            },
            "type": "bar"
           }
          ],
          "barpolar": [
           {
            "marker": {
             "line": {
              "color": "#E5ECF6",
              "width": 0.5
             },
             "pattern": {
              "fillmode": "overlay",
              "size": 10,
              "solidity": 0.2
             }
            },
            "type": "barpolar"
           }
          ],
          "carpet": [
           {
            "aaxis": {
             "endlinecolor": "#2a3f5f",
             "gridcolor": "white",
             "linecolor": "white",
             "minorgridcolor": "white",
             "startlinecolor": "#2a3f5f"
            },
            "baxis": {
             "endlinecolor": "#2a3f5f",
             "gridcolor": "white",
             "linecolor": "white",
             "minorgridcolor": "white",
             "startlinecolor": "#2a3f5f"
            },
            "type": "carpet"
           }
          ],
          "choropleth": [
           {
            "colorbar": {
             "outlinewidth": 0,
             "ticks": ""
            },
            "type": "choropleth"
           }
          ],
          "contour": [
           {
            "colorbar": {
             "outlinewidth": 0,
             "ticks": ""
            },
            "colorscale": [
             [
              0,
              "#0d0887"
             ],
             [
              0.1111111111111111,
              "#46039f"
             ],
             [
              0.2222222222222222,
              "#7201a8"
             ],
             [
              0.3333333333333333,
              "#9c179e"
             ],
             [
              0.4444444444444444,
              "#bd3786"
             ],
             [
              0.5555555555555556,
              "#d8576b"
             ],
             [
              0.6666666666666666,
              "#ed7953"
             ],
             [
              0.7777777777777778,
              "#fb9f3a"
             ],
             [
              0.8888888888888888,
              "#fdca26"
             ],
             [
              1,
              "#f0f921"
             ]
            ],
            "type": "contour"
           }
          ],
          "contourcarpet": [
           {
            "colorbar": {
             "outlinewidth": 0,
             "ticks": ""
            },
            "type": "contourcarpet"
           }
          ],
          "heatmap": [
           {
            "colorbar": {
             "outlinewidth": 0,
             "ticks": ""
            },
            "colorscale": [
             [
              0,
              "#0d0887"
             ],
             [
              0.1111111111111111,
              "#46039f"
             ],
             [
              0.2222222222222222,
              "#7201a8"
             ],
             [
              0.3333333333333333,
              "#9c179e"
             ],
             [
              0.4444444444444444,
              "#bd3786"
             ],
             [
              0.5555555555555556,
              "#d8576b"
             ],
             [
              0.6666666666666666,
              "#ed7953"
             ],
             [
              0.7777777777777778,
              "#fb9f3a"
             ],
             [
              0.8888888888888888,
              "#fdca26"
             ],
             [
              1,
              "#f0f921"
             ]
            ],
            "type": "heatmap"
           }
          ],
          "heatmapgl": [
           {
            "colorbar": {
             "outlinewidth": 0,
             "ticks": ""
            },
            "colorscale": [
             [
              0,
              "#0d0887"
             ],
             [
              0.1111111111111111,
              "#46039f"
             ],
             [
              0.2222222222222222,
              "#7201a8"
             ],
             [
              0.3333333333333333,
              "#9c179e"
             ],
             [
              0.4444444444444444,
              "#bd3786"
             ],
             [
              0.5555555555555556,
              "#d8576b"
             ],
             [
              0.6666666666666666,
              "#ed7953"
             ],
             [
              0.7777777777777778,
              "#fb9f3a"
             ],
             [
              0.8888888888888888,
              "#fdca26"
             ],
             [
              1,
              "#f0f921"
             ]
            ],
            "type": "heatmapgl"
           }
          ],
          "histogram": [
           {
            "marker": {
             "pattern": {
              "fillmode": "overlay",
              "size": 10,
              "solidity": 0.2
             }
            },
            "type": "histogram"
           }
          ],
          "histogram2d": [
           {
            "colorbar": {
             "outlinewidth": 0,
             "ticks": ""
            },
            "colorscale": [
             [
              0,
              "#0d0887"
             ],
             [
              0.1111111111111111,
              "#46039f"
             ],
             [
              0.2222222222222222,
              "#7201a8"
             ],
             [
              0.3333333333333333,
              "#9c179e"
             ],
             [
              0.4444444444444444,
              "#bd3786"
             ],
             [
              0.5555555555555556,
              "#d8576b"
             ],
             [
              0.6666666666666666,
              "#ed7953"
             ],
             [
              0.7777777777777778,
              "#fb9f3a"
             ],
             [
              0.8888888888888888,
              "#fdca26"
             ],
             [
              1,
              "#f0f921"
             ]
            ],
            "type": "histogram2d"
           }
          ],
          "histogram2dcontour": [
           {
            "colorbar": {
             "outlinewidth": 0,
             "ticks": ""
            },
            "colorscale": [
             [
              0,
              "#0d0887"
             ],
             [
              0.1111111111111111,
              "#46039f"
             ],
             [
              0.2222222222222222,
              "#7201a8"
             ],
             [
              0.3333333333333333,
              "#9c179e"
             ],
             [
              0.4444444444444444,
              "#bd3786"
             ],
             [
              0.5555555555555556,
              "#d8576b"
             ],
             [
              0.6666666666666666,
              "#ed7953"
             ],
             [
              0.7777777777777778,
              "#fb9f3a"
             ],
             [
              0.8888888888888888,
              "#fdca26"
             ],
             [
              1,
              "#f0f921"
             ]
            ],
            "type": "histogram2dcontour"
           }
          ],
          "mesh3d": [
           {
            "colorbar": {
             "outlinewidth": 0,
             "ticks": ""
            },
            "type": "mesh3d"
           }
          ],
          "parcoords": [
           {
            "line": {
             "colorbar": {
              "outlinewidth": 0,
              "ticks": ""
             }
            },
            "type": "parcoords"
           }
          ],
          "pie": [
           {
            "automargin": true,
            "type": "pie"
           }
          ],
          "scatter": [
           {
            "fillpattern": {
             "fillmode": "overlay",
             "size": 10,
             "solidity": 0.2
            },
            "type": "scatter"
           }
          ],
          "scatter3d": [
           {
            "line": {
             "colorbar": {
              "outlinewidth": 0,
              "ticks": ""
             }
            },
            "marker": {
             "colorbar": {
              "outlinewidth": 0,
              "ticks": ""
             }
            },
            "type": "scatter3d"
           }
          ],
          "scattercarpet": [
           {
            "marker": {
             "colorbar": {
              "outlinewidth": 0,
              "ticks": ""
             }
            },
            "type": "scattercarpet"
           }
          ],
          "scattergeo": [
           {
            "marker": {
             "colorbar": {
              "outlinewidth": 0,
              "ticks": ""
             }
            },
            "type": "scattergeo"
           }
          ],
          "scattergl": [
           {
            "marker": {
             "colorbar": {
              "outlinewidth": 0,
              "ticks": ""
             }
            },
            "type": "scattergl"
           }
          ],
          "scattermapbox": [
           {
            "marker": {
             "colorbar": {
              "outlinewidth": 0,
              "ticks": ""
             }
            },
            "type": "scattermapbox"
           }
          ],
          "scatterpolar": [
           {
            "marker": {
             "colorbar": {
              "outlinewidth": 0,
              "ticks": ""
             }
            },
            "type": "scatterpolar"
           }
          ],
          "scatterpolargl": [
           {
            "marker": {
             "colorbar": {
              "outlinewidth": 0,
              "ticks": ""
             }
            },
            "type": "scatterpolargl"
           }
          ],
          "scatterternary": [
           {
            "marker": {
             "colorbar": {
              "outlinewidth": 0,
              "ticks": ""
             }
            },
            "type": "scatterternary"
           }
          ],
          "surface": [
           {
            "colorbar": {
             "outlinewidth": 0,
             "ticks": ""
            },
            "colorscale": [
             [
              0,
              "#0d0887"
             ],
             [
              0.1111111111111111,
              "#46039f"
             ],
             [
              0.2222222222222222,
              "#7201a8"
             ],
             [
              0.3333333333333333,
              "#9c179e"
             ],
             [
              0.4444444444444444,
              "#bd3786"
             ],
             [
              0.5555555555555556,
              "#d8576b"
             ],
             [
              0.6666666666666666,
              "#ed7953"
             ],
             [
              0.7777777777777778,
              "#fb9f3a"
             ],
             [
              0.8888888888888888,
              "#fdca26"
             ],
             [
              1,
              "#f0f921"
             ]
            ],
            "type": "surface"
           }
          ],
          "table": [
           {
            "cells": {
             "fill": {
              "color": "#EBF0F8"
             },
             "line": {
              "color": "white"
             }
            },
            "header": {
             "fill": {
              "color": "#C8D4E3"
             },
             "line": {
              "color": "white"
             }
            },
            "type": "table"
           }
          ]
         },
         "layout": {
          "annotationdefaults": {
           "arrowcolor": "#2a3f5f",
           "arrowhead": 0,
           "arrowwidth": 1
          },
          "autotypenumbers": "strict",
          "coloraxis": {
           "colorbar": {
            "outlinewidth": 0,
            "ticks": ""
           }
          },
          "colorscale": {
           "diverging": [
            [
             0,
             "#8e0152"
            ],
            [
             0.1,
             "#c51b7d"
            ],
            [
             0.2,
             "#de77ae"
            ],
            [
             0.3,
             "#f1b6da"
            ],
            [
             0.4,
             "#fde0ef"
            ],
            [
             0.5,
             "#f7f7f7"
            ],
            [
             0.6,
             "#e6f5d0"
            ],
            [
             0.7,
             "#b8e186"
            ],
            [
             0.8,
             "#7fbc41"
            ],
            [
             0.9,
             "#4d9221"
            ],
            [
             1,
             "#276419"
            ]
           ],
           "sequential": [
            [
             0,
             "#0d0887"
            ],
            [
             0.1111111111111111,
             "#46039f"
            ],
            [
             0.2222222222222222,
             "#7201a8"
            ],
            [
             0.3333333333333333,
             "#9c179e"
            ],
            [
             0.4444444444444444,
             "#bd3786"
            ],
            [
             0.5555555555555556,
             "#d8576b"
            ],
            [
             0.6666666666666666,
             "#ed7953"
            ],
            [
             0.7777777777777778,
             "#fb9f3a"
            ],
            [
             0.8888888888888888,
             "#fdca26"
            ],
            [
             1,
             "#f0f921"
            ]
           ],
           "sequentialminus": [
            [
             0,
             "#0d0887"
            ],
            [
             0.1111111111111111,
             "#46039f"
            ],
            [
             0.2222222222222222,
             "#7201a8"
            ],
            [
             0.3333333333333333,
             "#9c179e"
            ],
            [
             0.4444444444444444,
             "#bd3786"
            ],
            [
             0.5555555555555556,
             "#d8576b"
            ],
            [
             0.6666666666666666,
             "#ed7953"
            ],
            [
             0.7777777777777778,
             "#fb9f3a"
            ],
            [
             0.8888888888888888,
             "#fdca26"
            ],
            [
             1,
             "#f0f921"
            ]
           ]
          },
          "colorway": [
           "#636efa",
           "#EF553B",
           "#00cc96",
           "#ab63fa",
           "#FFA15A",
           "#19d3f3",
           "#FF6692",
           "#B6E880",
           "#FF97FF",
           "#FECB52"
          ],
          "font": {
           "color": "#2a3f5f"
          },
          "geo": {
           "bgcolor": "white",
           "lakecolor": "white",
           "landcolor": "#E5ECF6",
           "showlakes": true,
           "showland": true,
           "subunitcolor": "white"
          },
          "hoverlabel": {
           "align": "left"
          },
          "hovermode": "closest",
          "mapbox": {
           "style": "light"
          },
          "paper_bgcolor": "white",
          "plot_bgcolor": "#E5ECF6",
          "polar": {
           "angularaxis": {
            "gridcolor": "white",
            "linecolor": "white",
            "ticks": ""
           },
           "bgcolor": "#E5ECF6",
           "radialaxis": {
            "gridcolor": "white",
            "linecolor": "white",
            "ticks": ""
           }
          },
          "scene": {
           "xaxis": {
            "backgroundcolor": "#E5ECF6",
            "gridcolor": "white",
            "gridwidth": 2,
            "linecolor": "white",
            "showbackground": true,
            "ticks": "",
            "zerolinecolor": "white"
           },
           "yaxis": {
            "backgroundcolor": "#E5ECF6",
            "gridcolor": "white",
            "gridwidth": 2,
            "linecolor": "white",
            "showbackground": true,
            "ticks": "",
            "zerolinecolor": "white"
           },
           "zaxis": {
            "backgroundcolor": "#E5ECF6",
            "gridcolor": "white",
            "gridwidth": 2,
            "linecolor": "white",
            "showbackground": true,
            "ticks": "",
            "zerolinecolor": "white"
           }
          },
          "shapedefaults": {
           "line": {
            "color": "#2a3f5f"
           }
          },
          "ternary": {
           "aaxis": {
            "gridcolor": "white",
            "linecolor": "white",
            "ticks": ""
           },
           "baxis": {
            "gridcolor": "white",
            "linecolor": "white",
            "ticks": ""
           },
           "bgcolor": "#E5ECF6",
           "caxis": {
            "gridcolor": "white",
            "linecolor": "white",
            "ticks": ""
           }
          },
          "title": {
           "x": 0.05
          },
          "xaxis": {
           "automargin": true,
           "gridcolor": "white",
           "linecolor": "white",
           "ticks": "",
           "title": {
            "standoff": 15
           },
           "zerolinecolor": "white",
           "zerolinewidth": 2
          },
          "yaxis": {
           "automargin": true,
           "gridcolor": "white",
           "linecolor": "white",
           "ticks": "",
           "title": {
            "standoff": 15
           },
           "zerolinecolor": "white",
           "zerolinewidth": 2
          }
         }
        },
        "title": {
         "text": "Data Quality: Column Pair Trends (Average Score=0.97)"
        },
        "width": 900,
        "xaxis": {
         "anchor": "y",
         "domain": [
          0.26,
          0.74
         ]
        },
        "xaxis2": {
         "anchor": "y2",
         "domain": [
          0,
          0.45
         ]
        },
        "xaxis3": {
         "anchor": "y3",
         "domain": [
          0.55,
          1
         ],
         "matches": "x2"
        },
        "yaxis": {
         "anchor": "x",
         "autorange": "reversed",
         "domain": [
          0.625,
          1
         ]
        },
        "yaxis2": {
         "anchor": "x2",
         "autorange": "reversed",
         "domain": [
          0,
          0.375
         ]
        },
        "yaxis3": {
         "anchor": "x3",
         "autorange": "reversed",
         "domain": [
          0,
          0.375
         ],
         "matches": "y2",
         "visible": false
        }
       }
      }
     },
     "metadata": {},
     "output_type": "display_data"
    }
   ],
   "source": [
    "quality_report.get_score()\n",
    "quality_report.get_properties()\n",
    "\n",
    "quality_report.get_visualization(property_name='Column Pair Trends')\n"
   ]
  },
  {
   "cell_type": "markdown",
   "metadata": {},
   "source": [
    "CorrelationSimilarity measures the correlation between a pair of numerical columns and computes the similarity between the real and synthetic data. As it is directed for numerical continuous values, it will be directed towards the columns that are subjected to the data analysis."
   ]
  },
  {
   "cell_type": "code",
   "execution_count": 101,
   "metadata": {},
   "outputs": [
    {
     "data": {
      "text/plain": [
       "0.999699630706768"
      ]
     },
     "execution_count": 101,
     "metadata": {},
     "output_type": "execute_result"
    }
   ],
   "source": [
    "from sdmetrics.column_pairs import CorrelationSimilarity\n",
    "\n",
    "CorrelationSimilarity.compute(\n",
    "    real_data=df[['past_avg_amount_annuity', 'past_avg_amt_application']],\n",
    "    synthetic_data=synth_data[['past_avg_amount_annuity', 'past_avg_amt_application']],\n",
    ")"
   ]
  },
  {
   "attachments": {},
   "cell_type": "markdown",
   "metadata": {},
   "source": [
    "Calculate whether the synthetic data respects the min/max bounds"
   ]
  },
  {
   "cell_type": "code",
   "execution_count": 102,
   "metadata": {},
   "outputs": [
    {
     "data": {
      "text/plain": [
       "1.0"
      ]
     },
     "execution_count": 102,
     "metadata": {},
     "output_type": "execute_result"
    }
   ],
   "source": [
    "from sdmetrics.single_column import BoundaryAdherence\n",
    "\n",
    "BoundaryAdherence.compute(\n",
    "    df['age'],\n",
    "    synth_data['age']\n",
    ")\n"
   ]
  },
  {
   "attachments": {},
   "cell_type": "markdown",
   "metadata": {},
   "source": [
    "Calculate whether the synthetic data is new or whether it's an exact copy of the real data"
   ]
  },
  {
   "cell_type": "code",
   "execution_count": 103,
   "metadata": {},
   "outputs": [
    {
     "data": {
      "text/plain": [
       "1.0"
      ]
     },
     "execution_count": 103,
     "metadata": {},
     "output_type": "execute_result"
    }
   ],
   "source": [
    "from sdmetrics.single_column import RangeCoverage\n",
    "\n",
    "RangeCoverage.compute(\n",
    "    real_data=df['age'],\n",
    "    synthetic_data=synth_data['age']\n",
    ")"
   ]
  },
  {
   "cell_type": "code",
   "execution_count": 104,
   "metadata": {},
   "outputs": [
    {
     "data": {
      "text/plain": [
       "0.9961131324886608"
      ]
     },
     "execution_count": 104,
     "metadata": {},
     "output_type": "execute_result"
    }
   ],
   "source": [
    "from sdmetrics.single_column import StatisticSimilarity\n",
    "\n",
    "StatisticSimilarity.compute(\n",
    "    real_data=df['age'],\n",
    "    synthetic_data=synth_data['age'],\n",
    "    statistic='mean'\n",
    ")\n",
    "\n",
    "StatisticSimilarity.compute(\n",
    "    real_data=df['past_loans_unused'],\n",
    "    synthetic_data=synth_data['past_loans_unused'],\n",
    "    statistic='mean'\n",
    ")"
   ]
  },
  {
   "cell_type": "markdown",
   "metadata": {},
   "source": [
    "## Executing the data analysis on the generated syntehtic dataset"
   ]
  },
  {
   "attachments": {},
   "cell_type": "markdown",
   "metadata": {},
   "source": [
    "Function to receive the percentage error:"
   ]
  },
  {
   "cell_type": "code",
   "execution_count": 105,
   "metadata": {},
   "outputs": [],
   "source": [
    "def percentage_error(orig, est):\n",
    "  return (abs(np.divide(np.subtract(est, orig), orig))) * 100"
   ]
  },
  {
   "attachments": {},
   "cell_type": "markdown",
   "metadata": {},
   "source": [
    "Original analysis:"
   ]
  },
  {
   "cell_type": "code",
   "execution_count": 106,
   "metadata": {},
   "outputs": [
    {
     "name": "stdout",
     "output_type": "stream",
     "text": [
      "[45000, 82299, 121543, 150373, 35595]\n"
     ]
    }
   ],
   "source": [
    "original_count = []\n",
    "original_count.append(len(df.query('age<30')))\n",
    "original_count.append(len(df.query('age<40')) - original_count[-1])\n",
    "original_count.append(len(df.query('age<50')) - original_count[-1])\n",
    "original_count.append(len(df.query('age<60')) - original_count[-1])\n",
    "original_count.append(len(df.query('age>=60')))\n",
    "print(original_count)"
   ]
  },
  {
   "cell_type": "code",
   "execution_count": 107,
   "metadata": {},
   "outputs": [
    {
     "name": "stdout",
     "output_type": "stream",
     "text": [
      "[[14636.327058541274, 13364.183497179574], [155003.88215537314, 142817.25742247657], [170867.81323263212, 161129.7695755352], [3.0644432136281305, 2.8200041937513105], [0.8081672978758438, 1.2345565107989096], [0.8818503660015269, 0.9981128119102537], [4.832645988952592, 5.131474103585657], [0.0781851114470907, 0.07880058712518348]]\n"
     ]
    }
   ],
   "source": [
    "sel1 = df[df[\"infringed\"] == 1]\n",
    "sel2 = df[df[\"infringed\"] == 0]\n",
    "\n",
    "original_past = []\n",
    "original_past.append([sel2[\"past_avg_amount_annuity\"].mean(), sel1[\"past_avg_amount_annuity\"].mean()])\n",
    "original_past.append([sel2[\"past_avg_amt_application\"].mean(), sel1[\"past_avg_amt_application\"].mean()])\n",
    "original_past.append([sel2[\"past_avg_amt_credit\"].mean(), sel1[\"past_avg_amt_credit\"].mean()])\n",
    "original_past.append([sel2[\"past_loans_approved\"].mean(), sel1[\"past_loans_approved\"].mean()])\n",
    "original_past.append([sel2[\"past_loans_canceled\"].mean(), sel1[\"past_loans_canceled\"].mean()])\n",
    "original_past.append([sel2[\"past_loans_refused\"].mean(), sel1[\"past_loans_refused\"].mean()])\n",
    "original_past.append([sel2[\"past_loans_total\"].mean(), sel1[\"past_loans_total\"].mean()])\n",
    "original_past.append([sel2[\"past_loans_unused\"].mean(), sel1[\"past_loans_unused\"].mean()])\n",
    "print(original_past)"
   ]
  },
  {
   "attachments": {},
   "cell_type": "markdown",
   "metadata": {},
   "source": [
    "Synsthetic analysis:"
   ]
  },
  {
   "cell_type": "code",
   "execution_count": 108,
   "metadata": {},
   "outputs": [
    {
     "name": "stdout",
     "output_type": "stream",
     "text": [
      "[43975, 76992, 130663, 143501, 33347]\n",
      "[2.27777778 6.44843801 7.50351727 4.56996934 6.31549375]\n"
     ]
    }
   ],
   "source": [
    "synth_count = []\n",
    "synth_count.append(len(synth_data.query('age<30')))\n",
    "synth_count.append(len(synth_data.query('age<40')) - synth_count[-1])\n",
    "synth_count.append(len(synth_data.query('age<50')) - synth_count[-1])\n",
    "synth_count.append(len(synth_data.query('age<60')) - synth_count[-1])\n",
    "synth_count.append(len(synth_data.query('age>=60')))\n",
    "print(synth_count)\n",
    "\n",
    "print(percentage_error(original_count, synth_count))"
   ]
  },
  {
   "cell_type": "code",
   "execution_count": 109,
   "metadata": {},
   "outputs": [
    {
     "name": "stdout",
     "output_type": "stream",
     "text": [
      "[[14579.569264861886, 13899.1773292241], [171180.58756476684, 165381.1142200734], [187086.37003896557, 182534.47184885477], [3.0488122915965614, 2.926795816903823], [1.5008565507009184, 1.6374982855575366], [1.4351834502800986, 1.4620949768558202], [5.419185970923163, 5.476495799759986], [0.14073272483242008, 0.13766972980386777]]\n",
      "[[ 0.38778714  4.00319131]\n",
      " [10.43632275 15.79911084]\n",
      " [ 9.49187357 13.28413882]\n",
      " [ 0.5100738   3.78693136]\n",
      " [85.71112128 32.63858489]\n",
      " [62.74682255 46.48594421]\n",
      " [12.13703597  6.72363709]\n",
      " [79.99939148 74.70647723]]\n"
     ]
    }
   ],
   "source": [
    "sel1 = synth_data[synth_data[\"infringed\"] == 1]\n",
    "sel2 = synth_data[synth_data[\"infringed\"] == 0]\n",
    "\n",
    "synth_past = []\n",
    "synth_past.append([sel2[\"past_avg_amount_annuity\"].mean(), sel1[\"past_avg_amount_annuity\"].mean()])\n",
    "synth_past.append([sel2[\"past_avg_amt_application\"].mean(), sel1[\"past_avg_amt_application\"].mean()])\n",
    "synth_past.append([sel2[\"past_avg_amt_credit\"].mean(), sel1[\"past_avg_amt_credit\"].mean()])\n",
    "synth_past.append([sel2[\"past_loans_approved\"].mean(), sel1[\"past_loans_approved\"].mean()])\n",
    "synth_past.append([sel2[\"past_loans_canceled\"].mean(), sel1[\"past_loans_canceled\"].mean()])\n",
    "synth_past.append([sel2[\"past_loans_refused\"].mean(), sel1[\"past_loans_refused\"].mean()])\n",
    "synth_past.append([sel2[\"past_loans_total\"].mean(), sel1[\"past_loans_total\"].mean()])\n",
    "synth_past.append([sel2[\"past_loans_unused\"].mean(), sel1[\"past_loans_unused\"].mean()])\n",
    "print(synth_past)\n",
    "\n",
    "print(percentage_error(original_past, synth_past))"
   ]
  },
  {
   "cell_type": "markdown",
   "metadata": {},
   "source": [
    "To save the model (if wanted):"
   ]
  },
  {
   "cell_type": "code",
   "execution_count": 110,
   "metadata": {},
   "outputs": [],
   "source": [
    "model.save('sd_infringment_model.pkl')"
   ]
  }
 ],
 "metadata": {
  "kernelspec": {
   "display_name": "Python 3.9.12 ('base')",
   "language": "python",
   "name": "python3"
  },
  "language_info": {
   "codemirror_mode": {
    "name": "ipython",
    "version": 3
   },
   "file_extension": ".py",
   "mimetype": "text/x-python",
   "name": "python",
   "nbconvert_exporter": "python",
   "pygments_lexer": "ipython3",
   "version": "3.9.12"
  },
  "orig_nbformat": 4,
  "vscode": {
   "interpreter": {
    "hash": "451f9409e4a1d80d0e57066b36b4624c2c0f11dfc98b1c0bd8da4a3c0fa8d9f4"
   }
  }
 },
 "nbformat": 4,
 "nbformat_minor": 2
}
