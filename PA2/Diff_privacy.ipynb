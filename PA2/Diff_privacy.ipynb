{
 "cells": [
  {
   "cell_type": "markdown",
   "metadata": {},
   "source": [
    "### Analysis planning\n",
    "\n",
    "The analysis performed by delentture will be the same as performed in the first part of the project.\n",
    "\n",
    "That being said, the columns starting with \"past_\" will be the key information to be passed, as well as the age"
   ]
  },
  {
   "cell_type": "code",
   "execution_count": 46,
   "metadata": {},
   "outputs": [],
   "source": [
    "import pandas as pd\n",
    "import numpy as np\n",
    "import pydp as dp\n",
    "import matplotlib.pyplot as plt\n",
    "from pydp.algorithms.numerical_mechanisms import NumericalMechanism\n",
    "from pydp.algorithms.laplacian import BoundedSum, BoundedMean, Count, Max\n",
    "# TODO para validacao"
   ]
  },
  {
   "cell_type": "code",
   "execution_count": 47,
   "metadata": {},
   "outputs": [
    {
     "data": {
      "text/plain": [
       "(307511, 46)"
      ]
     },
     "execution_count": 47,
     "metadata": {},
     "output_type": "execute_result"
    }
   ],
   "source": [
    "df = pd.read_csv(\"infringement_dataset_v2.csv\")\n",
    "df.shape"
   ]
  },
  {
   "cell_type": "code",
   "execution_count": 48,
   "metadata": {},
   "outputs": [
    {
     "name": "stdout",
     "output_type": "stream",
     "text": [
      "2070000 3785754 5590978 6917158 1637370\n"
     ]
    },
    {
     "data": {
      "text/plain": [
       "[Text(0.5, 15.000000000000028, 'infrigiu')]"
      ]
     },
     "execution_count": 48,
     "metadata": {},
     "output_type": "execute_result"
    },
    {
     "data": {
      "image/png": "[encoded data removed]",
      "text/plain": [
       "<Figure size 432x288 with 8 Axes>"
      ]
     },
     "metadata": {
      "needs_background": "light"
     },
     "output_type": "display_data"
    }
   ],
   "source": [
    "\n",
    "\n",
    "# row = person, column = values\n",
    "# locate row: df.loc[1]\n",
    "# selecionar as linhas que infrigiram e que não infrigiram\n",
    "# cria uma Dataframe para cada caso\n",
    "sel1 = df[df[\"infringed\"] == 1]\n",
    "sel2 = df[df[\"infringed\"] == 0]\n",
    "\n",
    "# definir variáveis para os gráficos\n",
    "\n",
    "past_annuity = [sel2[\"past_avg_amount_annuity\"].mean(), sel1[\"past_avg_amount_annuity\"].mean()]\n",
    "past_application = [sel2[\"past_avg_amt_application\"].mean(), sel1[\"past_avg_amt_application\"].mean()]\n",
    "past_credit = [sel2[\"past_avg_amt_credit\"].mean(), sel1[\"past_avg_amt_credit\"].mean()]\n",
    "past_approved = [sel2[\"past_loans_approved\"].mean(), sel1[\"past_loans_approved\"].mean()]\n",
    "past_cancelled = [sel2[\"past_loans_canceled\"].mean(), sel1[\"past_loans_canceled\"].mean()]\n",
    "past_refused = [sel2[\"past_loans_refused\"].mean(), sel1[\"past_loans_refused\"].mean()]\n",
    "past_total = [sel2[\"past_loans_total\"].mean(), sel1[\"past_loans_total\"].mean()]\n",
    "past_unused = [sel2[\"past_loans_unused\"].mean(), sel1[\"past_loans_unused\"].mean()]\n",
    "\n",
    "age1 = df[df[\"age\"] < 30].size\n",
    "age2 = df[df[\"age\"] < 40].size - age1\n",
    "age3 = df[df[\"age\"] < 50].size - age2\n",
    "age4 = df[df[\"age\"] < 60].size - age3\n",
    "age5 = df[df[\"age\"] >= 60].size\n",
    "print(age1, age2, age3, age4, age5)\n",
    "\n",
    "fig, axs = plt.subplots(2, 4)\n",
    "fig.tight_layout(pad=1.1)\n",
    "axs[0, 0].bar([\"sim\", \"não\"], past_annuity)\n",
    "axs[0, 0].set_title(\"Average annuity\", fontsize=10)\n",
    "axs[0, 1].bar([\"sim\", \"não\"], past_application)\n",
    "axs[0, 1].set_title(\"Average application\", fontsize=10)\n",
    "axs[1, 0].bar([\"sim\", \"não\"], past_credit)\n",
    "axs[1, 0].set_title(\"average credit\", fontsize=10)\n",
    "axs[1, 0].set(xlabel = \"infrigiu\")\n",
    "axs[1, 1].bar([\"sim\", \"não\"], past_approved)\n",
    "axs[1, 1].set_title(\"Loans approved\", fontsize=10)\n",
    "axs[1, 1].set(xlabel = \"infrigiu\")\n",
    "axs[0, 2].bar([\"sim\", \"não\"], past_cancelled)\n",
    "axs[0, 2].set_title(\"Loans cancelled\", fontsize=10)\n",
    "axs[0, 3].bar([\"sim\", \"não\"], past_refused)\n",
    "axs[0, 3].set_title(\"Loans refused\", fontsize=10)\n",
    "axs[1, 2].bar([\"sim\", \"não\"], past_total)\n",
    "axs[1, 2].set_title(\"Loans total\", fontsize=10)\n",
    "axs[1, 2].set(xlabel = \"infrigiu\")\n",
    "axs[1, 3].bar([\"sim\", \"não\"], past_unused)\n",
    "axs[1, 3].set_title(\"Loans unnused\", fontsize=10)\n",
    "axs[1, 3].set(xlabel = \"infrigiu\")"
   ]
  },
  {
   "cell_type": "code",
   "execution_count": 49,
   "metadata": {},
   "outputs": [],
   "source": [
    "\n",
    "\n",
    "def add_laplace_noise(s, sensitivity, epsilon):\n",
    "  return s + np.random.laplace(loc=0, scale=sensitivity/epsilon)\n",
    "\n",
    "def percentage_error(orig, est):\n",
    "  return ((orig-est) / orig) * 100"
   ]
  },
  {
   "cell_type": "markdown",
   "metadata": {},
   "source": [
    "### Estimate epsilon"
   ]
  },
  {
   "cell_type": "code",
   "execution_count": 50,
   "metadata": {},
   "outputs": [],
   "source": [
    "len(df.query('age > 40'))\n",
    "epsilon = 0.1\n",
    "sens = 1"
   ]
  },
  {
   "cell_type": "code",
   "execution_count": 51,
   "metadata": {},
   "outputs": [
    {
     "name": "stdout",
     "output_type": "stream",
     "text": [
      "171588 171468.06432182773 0.06989747428274383\n"
     ]
    }
   ],
   "source": [
    "\n",
    "#print('Original count:', len(census.query('age > 40')))\n",
    "orig_count = len(df.query('age > 40'))\n",
    "dp_count = add_laplace_noise(len(df.query('age > 40')), 1, 0.01)\n",
    "print(orig_count, dp_count, percentage_error(orig_count, dp_count))"
   ]
  },
  {
   "cell_type": "markdown",
   "metadata": {},
   "source": [
    "### Original analysis"
   ]
  },
  {
   "cell_type": "code",
   "execution_count": 52,
   "metadata": {},
   "outputs": [
    {
     "name": "stdout",
     "output_type": "stream",
     "text": [
      "[45000, 82299, 121543, 150373, 35595]\n"
     ]
    }
   ],
   "source": [
    "original_count = []\n",
    "original_count.append(len(df.query('age<30')))\n",
    "original_count.append(len(df.query('age<40')) - original_count[-1])\n",
    "original_count.append(len(df.query('age<50')) - original_count[-1])\n",
    "original_count.append(len(df.query('age<60')) - original_count[-1])\n",
    "original_count.append(len(df.query('age>=60')))\n",
    "print(original_count)"
   ]
  },
  {
   "cell_type": "code",
   "execution_count": 53,
   "metadata": {},
   "outputs": [
    {
     "name": "stdout",
     "output_type": "stream",
     "text": [
      "[[14636.327058541274, 13364.183497179574], [155003.88215537314, 142817.25742247657], [170867.81323263212, 161129.7695755352], [3.0644432136281305, 2.8200041937513105], [0.8081672978758438, 1.2345565107989096], [0.8818503660015269, 0.9981128119102537], [4.832645988952592, 5.131474103585657], [0.0781851114470907, 0.07880058712518348]]\n"
     ]
    }
   ],
   "source": [
    "original_past = []\n",
    "original_past.append([sel2[\"past_avg_amount_annuity\"].mean(), sel1[\"past_avg_amount_annuity\"].mean()])\n",
    "original_past.append([sel2[\"past_avg_amt_application\"].mean(), sel1[\"past_avg_amt_application\"].mean()])\n",
    "original_past.append([sel2[\"past_avg_amt_credit\"].mean(), sel1[\"past_avg_amt_credit\"].mean()])\n",
    "original_past.append([sel2[\"past_loans_approved\"].mean(), sel1[\"past_loans_approved\"].mean()])\n",
    "original_past.append([sel2[\"past_loans_canceled\"].mean(), sel1[\"past_loans_canceled\"].mean()])\n",
    "original_past.append([sel2[\"past_loans_refused\"].mean(), sel1[\"past_loans_refused\"].mean()])\n",
    "original_past.append([sel2[\"past_loans_total\"].mean(), sel1[\"past_loans_total\"].mean()])\n",
    "original_past.append([sel2[\"past_loans_unused\"].mean(), sel1[\"past_loans_unused\"].mean()])\n",
    "print(original_past)"
   ]
  },
  {
   "cell_type": "markdown",
   "metadata": {},
   "source": [
    "### With differential privacy"
   ]
  },
  {
   "cell_type": "code",
   "execution_count": 54,
   "metadata": {},
   "outputs": [
    {
     "name": "stdout",
     "output_type": "stream",
     "text": [
      "[45008.41743007277, 82284.12451262446, 121556.34779390277, 150362.5876715034, 35595.08575816644]\n"
     ]
    }
   ],
   "source": [
    "dp_count = []\n",
    "dp_count.append(add_laplace_noise((len(df.query('age<30'))), sens, epsilon))\n",
    "dp_count.append(add_laplace_noise(len(df.query('age<40')) - dp_count[-1], sens, epsilon))\n",
    "dp_count.append(add_laplace_noise(len(df.query('age<50')) - dp_count[-1], sens, epsilon))\n",
    "dp_count.append(add_laplace_noise(len(df.query('age<60')) - dp_count[-1], sens, epsilon))\n",
    "dp_count.append(add_laplace_noise(len(df.query('age>=60')), sens, epsilon))\n",
    "print(dp_count)"
   ]
  },
  {
   "cell_type": "code",
   "execution_count": 55,
   "metadata": {},
   "outputs": [
    {
     "name": "stdout",
     "output_type": "stream",
     "text": [
      "[[14629.873518938475, 13353.946919533693], [155012.98776165317, 142816.7720404168], [170908.22335838337, 161157.84765393636], [17.55735132118841, 1.570211913547832], [13.36027906434568, -32.423857215831426], [17.258090481563148, -20.489890735040138], [2.1513311674365267, 3.6821098046532743], [-13.19206766237199, -2.493311186684485]]\n"
     ]
    }
   ],
   "source": [
    "dp_past = []\n",
    "dp_past.append([add_laplace_noise(sel2[\"past_avg_amount_annuity\"].mean(), sens, epsilon), \\\n",
    "    add_laplace_noise(sel1[\"past_avg_amount_annuity\"].mean(), sens, epsilon)])\n",
    "dp_past.append([add_laplace_noise(sel2[\"past_avg_amt_application\"].mean(), sens, epsilon), \\\n",
    "    add_laplace_noise(sel1[\"past_avg_amt_application\"].mean(), sens, epsilon)])\n",
    "dp_past.append([add_laplace_noise(sel2[\"past_avg_amt_credit\"].mean(), sens, epsilon), \\\n",
    "    add_laplace_noise(sel1[\"past_avg_amt_credit\"].mean(), sens, epsilon)])\n",
    "dp_past.append([add_laplace_noise(sel2[\"past_loans_approved\"].mean(), sens, epsilon), \\\n",
    "    add_laplace_noise(sel1[\"past_loans_approved\"].mean(), sens, epsilon)])\n",
    "dp_past.append([add_laplace_noise(sel2[\"past_loans_canceled\"].mean(), sens, epsilon), \\\n",
    "    add_laplace_noise(sel1[\"past_loans_canceled\"].mean(), sens, epsilon)])\n",
    "dp_past.append([add_laplace_noise(sel2[\"past_loans_refused\"].mean(), sens, epsilon), \\\n",
    "    add_laplace_noise(sel1[\"past_loans_refused\"].mean(), sens, epsilon)])\n",
    "dp_past.append([add_laplace_noise(sel2[\"past_loans_total\"].mean(), sens, epsilon), \\\n",
    "    add_laplace_noise(sel1[\"past_loans_total\"].mean(), sens, epsilon)])\n",
    "dp_past.append([add_laplace_noise(sel2[\"past_loans_unused\"].mean(), sens, epsilon), \\\n",
    "    add_laplace_noise(sel1[\"past_loans_unused\"].mean(), sens, epsilon)])\n",
    "\n",
    "print(dp_past)"
   ]
  },
  {
   "cell_type": "markdown",
   "metadata": {},
   "source": [
    "Pode-se depois fazer uma análise com o BoundedSum do python-dp. Comparar os valores obtidos com o do módulo."
   ]
  },
  {
   "cell_type": "code",
   "execution_count": 56,
   "metadata": {},
   "outputs": [
    {
     "name": "stdout",
     "output_type": "stream",
     "text": [
      "13357282.23763859\n"
     ]
    }
   ],
   "source": [
    "dp_sum = BoundedSum(epsilon= 1.5, lower_bound =  5, upper_bound = 250, dtype ='float')\n",
    "dp_sum_og = dp_sum.quick_result(df['age'].to_list())\n",
    "print(dp_sum_og)"
   ]
  }
 ],
 "metadata": {
  "kernelspec": {
   "display_name": "Python 3.9.12 ('base')",
   "language": "python",
   "name": "python3"
  },
  "language_info": {
   "codemirror_mode": {
    "name": "ipython",
    "version": 3
   },
   "file_extension": ".py",
   "mimetype": "text/x-python",
   "name": "python",
   "nbconvert_exporter": "python",
   "pygments_lexer": "ipython3",
   "version": "3.9.12"
  },
  "orig_nbformat": 4,
  "vscode": {
   "interpreter": {
    "hash": "451f9409e4a1d80d0e57066b36b4624c2c0f11dfc98b1c0bd8da4a3c0fa8d9f4"
   }
  }
 },
 "nbformat": 4,
 "nbformat_minor": 2
}
