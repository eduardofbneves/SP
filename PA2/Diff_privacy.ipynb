{
 "cells": [
  {
   "cell_type": "markdown",
   "metadata": {},
   "source": [
    "### Analysis planning\n",
    "\n",
    "The analysis performed by delentture will be the same as performed in the first part of the project.\n",
    "\n",
    "That being said, the columns starting with \"past_\" will be the key information to be passed, as well as the age"
   ]
  },
  {
   "cell_type": "code",
   "execution_count": 5,
   "metadata": {},
   "outputs": [],
   "source": [
    "import pandas as pd\n",
    "import numpy as np\n",
    "import pydp as dp\n",
    "from pydp.algorithms.numerical_mechanisms import NumericalMechanism\n",
    "from pydp.algorithms.laplacian import BoundedSum, dp_mean.quick_result, Count, Max\n",
    "# TODO para validacao"
   ]
  },
  {
   "cell_type": "code",
   "execution_count": 6,
   "metadata": {},
   "outputs": [
    {
     "data": {
      "text/plain": [
       "(307511, 46)"
      ]
     },
     "execution_count": 6,
     "metadata": {},
     "output_type": "execute_result"
    }
   ],
   "source": [
    "df = pd.read_csv(\"infringement_dataset_v2.csv\")\n",
    "df.shape"
   ]
  },
  {
   "cell_type": "markdown",
   "metadata": {},
   "source": [
    "## Noise adding function"
   ]
  },
  {
   "cell_type": "code",
   "execution_count": 7,
   "metadata": {},
   "outputs": [],
   "source": [
    "def add_laplace_noise(s, sensitivity, epsilon):\n",
    "  return s + np.random.laplace(loc=0, scale=sensitivity/epsilon)\n",
    "\n",
    "def percentage_error(orig, est):\n",
    "  return ((orig-est) / orig) * 100"
   ]
  },
  {
   "cell_type": "markdown",
   "metadata": {},
   "source": [
    "Small test of the noise adding"
   ]
  },
  {
   "cell_type": "code",
   "execution_count": 8,
   "metadata": {},
   "outputs": [
    {
     "name": "stdout",
     "output_type": "stream",
     "text": [
      "171588 171532.30386768063 0.03245922344183054\n"
     ]
    }
   ],
   "source": [
    "epsilon = 0.1 # common values 0.01, 0.01. 0.2, ln(2), ln(3)\n",
    "sens = 1\n",
    "\n",
    "orig_count = len(df.query('age > 40'))\n",
    "dp_count = add_laplace_noise(len(df.query('age > 40')), 1, 0.01)\n",
    "print(orig_count, dp_count, percentage_error(orig_count, dp_count))"
   ]
  },
  {
   "cell_type": "markdown",
   "metadata": {},
   "source": [
    "The values are close by a factor of less than 100, which is small comparing to the value size (less than 0.01%)"
   ]
  },
  {
   "cell_type": "markdown",
   "metadata": {},
   "source": [
    "### Original analysis"
   ]
  },
  {
   "cell_type": "code",
   "execution_count": 33,
   "metadata": {},
   "outputs": [
    {
     "name": "stdout",
     "output_type": "stream",
     "text": [
      "[45000, 82299, 121543, 150373, 35595]\n"
     ]
    }
   ],
   "source": [
    "original_count = []\n",
    "original_count.append(len(df.query('age<30')))\n",
    "original_count.append(len(df.query('age<40')) - original_count[-1])\n",
    "original_count.append(len(df.query('age<50')) - original_count[-1])\n",
    "original_count.append(len(df.query('age<60')) - original_count[-1])\n",
    "original_count.append(len(df.query('age>=60')))\n",
    "print(original_count)"
   ]
  },
  {
   "cell_type": "code",
   "execution_count": 10,
   "metadata": {},
   "outputs": [
    {
     "name": "stdout",
     "output_type": "stream",
     "text": [
      "[[14636.327058541274, 13364.183497179574], [155003.88215537314, 142817.25742247657], [170867.81323263212, 161129.7695755352], [3.0644432136281305, 2.8200041937513105], [0.8081672978758438, 1.2345565107989096], [0.8818503660015269, 0.9981128119102537], [4.832645988952592, 5.131474103585657], [0.0781851114470907, 0.07880058712518348]]\n"
     ]
    }
   ],
   "source": [
    "sel1 = df[df[\"infringed\"] == 1]\n",
    "sel2 = df[df[\"infringed\"] == 0]\n",
    "\n",
    "original_past = []\n",
    "original_past.append([sel2[\"past_avg_amount_annuity\"].mean(), sel1[\"past_avg_amount_annuity\"].mean()])\n",
    "original_past.append([sel2[\"past_avg_amt_application\"].mean(), sel1[\"past_avg_amt_application\"].mean()])\n",
    "original_past.append([sel2[\"past_avg_amt_credit\"].mean(), sel1[\"past_avg_amt_credit\"].mean()])\n",
    "original_past.append([sel2[\"past_loans_approved\"].mean(), sel1[\"past_loans_approved\"].mean()])\n",
    "original_past.append([sel2[\"past_loans_canceled\"].mean(), sel1[\"past_loans_canceled\"].mean()])\n",
    "original_past.append([sel2[\"past_loans_refused\"].mean(), sel1[\"past_loans_refused\"].mean()])\n",
    "original_past.append([sel2[\"past_loans_total\"].mean(), sel1[\"past_loans_total\"].mean()])\n",
    "original_past.append([sel2[\"past_loans_unused\"].mean(), sel1[\"past_loans_unused\"].mean()])\n",
    "print(original_past)"
   ]
  },
  {
   "cell_type": "markdown",
   "metadata": {},
   "source": [
    "### With differential privacy\n",
    "\n",
    "Being aware that subtracting the previous dp.count brings more inaccuracy for the final result, but this is donw this way beacause the utilitary of the dataset does not have access to the variable original_count"
   ]
  },
  {
   "cell_type": "code",
   "execution_count": 34,
   "metadata": {},
   "outputs": [
    {
     "name": "stdout",
     "output_type": "stream",
     "text": [
      "[45000, 82299, 121543, 150373, 35595] [44986.77946627695, 82310.06993253824, 121534.28120165406, 150394.17855139478, 35595.201081959516]\n"
     ]
    }
   ],
   "source": [
    "dp_count = []\n",
    "dp_count.append(add_laplace_noise((len(df.query('age<30'))), sens, epsilon))\n",
    "dp_count.append(add_laplace_noise(len(df.query('age<40')) - dp_count[-1], sens, epsilon))\n",
    "dp_count.append(add_laplace_noise(len(df.query('age<50')) - dp_count[-1], sens, epsilon))\n",
    "dp_count.append(add_laplace_noise(len(df.query('age<60')) - dp_count[-1], sens, epsilon))\n",
    "dp_count.append(add_laplace_noise(len(df.query('age>=60')), sens, epsilon))\n",
    "print(original_count, dp_count)"
   ]
  },
  {
   "cell_type": "code",
   "execution_count": 12,
   "metadata": {},
   "outputs": [
    {
     "name": "stdout",
     "output_type": "stream",
     "text": [
      "[[14639.932267931588, 13358.944777065191], [155009.4837807949, 142803.98892556576], [170881.31482799587, 161126.52743569264], [62.3862473244716, -8.033872659665038], [3.363615497322737, -5.982075324032382], [1.0967655067538924, -2.0661286978985065], [-11.520606430982795, 17.603624756953234], [7.6025624990495535, -0.7635390286498829]]\n"
     ]
    }
   ],
   "source": [
    "dp_past = []\n",
    "dp_past.append([add_laplace_noise(sel2[\"past_avg_amount_annuity\"].mean(), sens, epsilon), \\\n",
    "    add_laplace_noise(sel1[\"past_avg_amount_annuity\"].mean(), sens, epsilon)])\n",
    "dp_past.append([add_laplace_noise(sel2[\"past_avg_amt_application\"].mean(), sens, epsilon), \\\n",
    "    add_laplace_noise(sel1[\"past_avg_amt_application\"].mean(), sens, epsilon)])\n",
    "dp_past.append([add_laplace_noise(sel2[\"past_avg_amt_credit\"].mean(), sens, epsilon), \\\n",
    "    add_laplace_noise(sel1[\"past_avg_amt_credit\"].mean(), sens, epsilon)])\n",
    "dp_past.append([add_laplace_noise(sel2[\"past_loans_approved\"].mean(), sens, epsilon), \\\n",
    "    add_laplace_noise(sel1[\"past_loans_approved\"].mean(), sens, epsilon)])\n",
    "dp_past.append([add_laplace_noise(sel2[\"past_loans_canceled\"].mean(), sens, epsilon), \\\n",
    "    add_laplace_noise(sel1[\"past_loans_canceled\"].mean(), sens, epsilon)])\n",
    "dp_past.append([add_laplace_noise(sel2[\"past_loans_refused\"].mean(), sens, epsilon), \\\n",
    "    add_laplace_noise(sel1[\"past_loans_refused\"].mean(), sens, epsilon)])\n",
    "dp_past.append([add_laplace_noise(sel2[\"past_loans_total\"].mean(), sens, epsilon), \\\n",
    "    add_laplace_noise(sel1[\"past_loans_total\"].mean(), sens, epsilon)])\n",
    "dp_past.append([add_laplace_noise(sel2[\"past_loans_unused\"].mean(), sens, epsilon), \\\n",
    "    add_laplace_noise(sel1[\"past_loans_unused\"].mean(), sens, epsilon)])\n",
    "\n",
    "print(dp_past)"
   ]
  },
  {
   "cell_type": "markdown",
   "metadata": {},
   "source": [
    "Pode-se depois fazer uma análise com o BoundedSum do python-dp. Comparar os valores obtidos com o do módulo."
   ]
  },
  {
   "cell_type": "code",
   "execution_count": 29,
   "metadata": {},
   "outputs": [
    {
     "data": {
      "text/plain": [
       "68074"
      ]
     },
     "execution_count": 29,
     "metadata": {},
     "output_type": "execute_result"
    }
   ],
   "source": [
    "np.sum(np.logical_xor(df['age']<60,df['age']<50))"
   ]
  },
  {
   "cell_type": "code",
   "execution_count": 35,
   "metadata": {},
   "outputs": [
    {
     "name": "stdout",
     "output_type": "stream",
     "text": [
      "[45000, 82299, 121543, 150373, 35595] [45003.82520068536, 82306.20886479787, 121542.84971525826, 150307.32923771438, 35609.85957974577]\n"
     ]
    }
   ],
   "source": [
    "dp_sum = BoundedSum(epsilon=epsilon, dtype ='float')\n",
    "\n",
    "pypd_count = []\n",
    "pypd_count.append(dp_sum.quick_result(df['age']<30))\n",
    "pypd_count.append(dp_sum.quick_result(df['age']<40)-pypd_count[-1])\n",
    "pypd_count.append(dp_sum.quick_result(df['age']<50)-pypd_count[-1])\n",
    "pypd_count.append(dp_sum.quick_result(df['age']<60)-pypd_count[-1])\n",
    "pypd_count.append(dp_sum.quick_result(df['age']>=60))\n",
    "print(original_count, pypd_count)\n",
    "\n"
   ]
  },
  {
   "cell_type": "code",
   "execution_count": 49,
   "metadata": {},
   "outputs": [
    {
     "name": "stdout",
     "output_type": "stream",
     "text": [
      "[[14636.327058541274, 13364.183497179574], [155003.88215537314, 142817.25742247657], [170867.81323263212, 161129.7695755352], [3.0644432136281305, 2.8200041937513105], [0.8081672978758438, 1.2345565107989096], [0.8818503660015269, 0.9981128119102537], [4.832645988952592, 5.131474103585657], [0.0781851114470907, 0.07880058712518348]] [[14576.119069246626, 13042.658809747103], [154359.154972432, 137157.891423072], [169366.3081199173, 152827.50662357296], [3.0665311194849307, 2.7984417739114287], [0.8003196254944829, 1.1379607863438839], [0.8838155607576779, 0.8291510063072798], [4.837904119805994, 4.990923247969073], [0.0751052817944261, 0.06885136800584701]]\n"
     ]
    }
   ],
   "source": [
    "from pydp.algorithms.laplacian import BoundedMean\n",
    "dp_mean = BoundedMean(epsilon=epsilon, dtype='float')\n",
    "\n",
    "\n",
    "pydp_past = []\n",
    "pydp_past.append([dp_mean.quick_result(sel2[\"past_avg_amount_annuity\"].array), dp_mean.quick_result(sel1[\"past_avg_amount_annuity\"].array)])\n",
    "pydp_past.append([dp_mean.quick_result(sel2[\"past_avg_amt_application\"].array), dp_mean.quick_result(sel1[\"past_avg_amt_application\"].array)])\n",
    "pydp_past.append([dp_mean.quick_result(sel2[\"past_avg_amt_credit\"].array), dp_mean.quick_result(sel1[\"past_avg_amt_credit\"].array)])\n",
    "pydp_past.append([dp_mean.quick_result(sel2[\"past_loans_approved\"].array), dp_mean.quick_result(sel1[\"past_loans_approved\"].array)])\n",
    "pydp_past.append([dp_mean.quick_result(sel2[\"past_loans_canceled\"].array), dp_mean.quick_result(sel1[\"past_loans_canceled\"].array)])\n",
    "pydp_past.append([dp_mean.quick_result(sel2[\"past_loans_refused\"].array), dp_mean.quick_result(sel1[\"past_loans_refused\"].array)])\n",
    "pydp_past.append([dp_mean.quick_result(sel2[\"past_loans_total\"].array), dp_mean.quick_result(sel1[\"past_loans_total\"].array)])\n",
    "pydp_past.append([dp_mean.quick_result(sel2[\"past_loans_unused\"].array), dp_mean.quick_result(sel1[\"past_loans_unused\"].array)])\n",
    "print(original_past, pydp_past)"
   ]
  },
  {
   "cell_type": "code",
   "execution_count": 47,
   "metadata": {},
   "outputs": [
    {
     "name": "stdout",
     "output_type": "stream",
     "text": [
      "<PandasArray>\n",
      "[          56553.99,            5357.25,          23651.175,\n",
      "          12278.805,        15839.69625, 10051.412142857142,\n",
      "           27463.41,          18303.195,           7894.155,\n",
      "           12806.55,\n",
      " ...\n",
      " 29227.344230769228,            6087.42,            6748.83,\n",
      "        10466.92125,        37444.03875,         17133.9525,\n",
      "            6605.91,          10074.465,           4770.405,\n",
      "       20775.391875]\n",
      "Length: 282686, dtype: float64\n"
     ]
    },
    {
     "data": {
      "text/plain": [
       "14560.298518283875"
      ]
     },
     "execution_count": 47,
     "metadata": {},
     "output_type": "execute_result"
    }
   ],
   "source": [
    "print(sel2[\"past_avg_amount_annuity\"].array)\n",
    "dp_mean.quick_result(sel2[\"past_avg_amount_annuity\"].array)"
   ]
  }
 ],
 "metadata": {
  "kernelspec": {
   "display_name": "Python 3.9.12 ('base')",
   "language": "python",
   "name": "python3"
  },
  "language_info": {
   "codemirror_mode": {
    "name": "ipython",
    "version": 3
   },
   "file_extension": ".py",
   "mimetype": "text/x-python",
   "name": "python",
   "nbconvert_exporter": "python",
   "pygments_lexer": "ipython3",
   "version": "3.9.12"
  },
  "orig_nbformat": 4,
  "vscode": {
   "interpreter": {
    "hash": "451f9409e4a1d80d0e57066b36b4624c2c0f11dfc98b1c0bd8da4a3c0fa8d9f4"
   }
  }
 },
 "nbformat": 4,
 "nbformat_minor": 2
}
