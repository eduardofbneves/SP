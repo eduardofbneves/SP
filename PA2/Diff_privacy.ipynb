{
 "cells": [
  {
   "attachments": {},
   "cell_type": "markdown",
   "metadata": {},
   "source": [
    "## Analysis planning\n",
    "\n",
    "The analysis performed by delentture will be the same as performed in the first part of the project.\n",
    "\n",
    "That being said, the columns starting with \"past_\" will be the key information to be passed, as well as the age"
   ]
  },
  {
   "cell_type": "code",
   "execution_count": 2,
   "metadata": {},
   "outputs": [],
   "source": [
    "import pandas as pd\n",
    "import numpy as np\n"
   ]
  },
  {
   "cell_type": "code",
   "execution_count": 3,
   "metadata": {},
   "outputs": [
    {
     "data": {
      "text/plain": [
       "(307511, 46)"
      ]
     },
     "execution_count": 3,
     "metadata": {},
     "output_type": "execute_result"
    }
   ],
   "source": [
    "df = pd.read_csv(\"infringement_dataset_v2.csv\")\n",
    "df.shape"
   ]
  },
  {
   "attachments": {},
   "cell_type": "markdown",
   "metadata": {},
   "source": [
    "## Noise adding function\n",
    "\n",
    "The noise added follows the pratical class on differential privacy and is based on a laplace distribution. The percentage error measures the deviation from the original data."
   ]
  },
  {
   "cell_type": "code",
   "execution_count": 4,
   "metadata": {},
   "outputs": [],
   "source": [
    "def add_laplace_noise(s, sensitivity, epsilon):\n",
    "  return s + np.random.laplace(loc=0, scale=sensitivity/epsilon)\n",
    "\n",
    "def percentage_error(orig, est):\n",
    "  return (abs(np.divide(np.subtract(est, orig), orig))) * 100"
   ]
  },
  {
   "cell_type": "markdown",
   "metadata": {},
   "source": [
    "Small test of the noise adding"
   ]
  },
  {
   "cell_type": "code",
   "execution_count": 27,
   "metadata": {},
   "outputs": [
    {
     "name": "stdout",
     "output_type": "stream",
     "text": [
      "171588 171602.80113099792 0.008625970929155445\n"
     ]
    }
   ],
   "source": [
    "epsilon = 0.1 # common values 0.01, 0.1. 0.2, ln(2), ln(3)\n",
    "\n",
    "orig_count = len(df.query('age > 40'))\n",
    "dp_count = add_laplace_noise(len(df.query('age > 40')), 1, epsilon)\n",
    "print(orig_count, dp_count, percentage_error(orig_count, dp_count))"
   ]
  },
  {
   "attachments": {},
   "cell_type": "markdown",
   "metadata": {},
   "source": [
    "The values are close by a factor of less than 100, which is small comparing to the value size. The error shown is, by itself, very low, so we can trust that the analysis should be good enough."
   ]
  },
  {
   "cell_type": "markdown",
   "metadata": {},
   "source": [
    "### Original analysis"
   ]
  },
  {
   "cell_type": "code",
   "execution_count": 6,
   "metadata": {},
   "outputs": [
    {
     "name": "stdout",
     "output_type": "stream",
     "text": [
      "[45000, 82299, 121543, 150373, 35595]\n"
     ]
    }
   ],
   "source": [
    "original_count = []\n",
    "original_count.append(len(df.query('age<30')))\n",
    "original_count.append(len(df.query('age<40')) - original_count[-1])\n",
    "original_count.append(len(df.query('age<50')) - original_count[-1])\n",
    "original_count.append(len(df.query('age<60')) - original_count[-1])\n",
    "original_count.append(len(df.query('age>=60')))\n",
    "print(original_count)"
   ]
  },
  {
   "cell_type": "code",
   "execution_count": 7,
   "metadata": {},
   "outputs": [
    {
     "name": "stdout",
     "output_type": "stream",
     "text": [
      "[[14636.327058541274, 13364.183497179574], [155003.88215537314, 142817.25742247657], [170867.81323263212, 161129.7695755352], [3.0644432136281305, 2.8200041937513105], [0.8081672978758438, 1.2345565107989096], [0.8818503660015269, 0.9981128119102537], [4.832645988952592, 5.131474103585657], [0.0781851114470907, 0.07880058712518348]]\n"
     ]
    }
   ],
   "source": [
    "sel1 = df[df[\"infringed\"] == 1]\n",
    "sel2 = df[df[\"infringed\"] == 0]\n",
    "\n",
    "original_past = []\n",
    "original_past.append([sel2[\"past_avg_amount_annuity\"].mean(), sel1[\"past_avg_amount_annuity\"].mean()])\n",
    "original_past.append([sel2[\"past_avg_amt_application\"].mean(), sel1[\"past_avg_amt_application\"].mean()])\n",
    "original_past.append([sel2[\"past_avg_amt_credit\"].mean(), sel1[\"past_avg_amt_credit\"].mean()])\n",
    "original_past.append([sel2[\"past_loans_approved\"].mean(), sel1[\"past_loans_approved\"].mean()])\n",
    "original_past.append([sel2[\"past_loans_canceled\"].mean(), sel1[\"past_loans_canceled\"].mean()])\n",
    "original_past.append([sel2[\"past_loans_refused\"].mean(), sel1[\"past_loans_refused\"].mean()])\n",
    "original_past.append([sel2[\"past_loans_total\"].mean(), sel1[\"past_loans_total\"].mean()])\n",
    "original_past.append([sel2[\"past_loans_unused\"].mean(), sel1[\"past_loans_unused\"].mean()])\n",
    "print(original_past)"
   ]
  },
  {
   "attachments": {},
   "cell_type": "markdown",
   "metadata": {},
   "source": [
    "### With differential privacy\n",
    "\n",
    "Being aware that subtracting the previous dp.count brings more inaccuracy for the final result, but this is done this way beacause the utilitary of the dataset does not have access to the variable original_count. In that way, we expect that the error rises as the analysis progresses.\n",
    "\n",
    "For a sum of queries, the sensitivity is 1, since adding 1 count will reproduce a change in 1 of the output."
   ]
  },
  {
   "cell_type": "code",
   "execution_count": 25,
   "metadata": {},
   "outputs": [
    {
     "name": "stdout",
     "output_type": "stream",
     "text": [
      "[45000, 82299, 121543, 150373, 35595] [45000.202276793265, 82298.82170121225, 121542.88445627906, 150373.13790705358, 35596.686714695956]\n",
      "[4.49503985e-04 2.16647575e-04 9.50640686e-05 9.17099836e-05\n",
      " 4.73862817e-03]\n"
     ]
    }
   ],
   "source": [
    "dp_count = []\n",
    "dp_count.append(add_laplace_noise((len(df.query('age<30'))), sens, epsilon))\n",
    "dp_count.append(add_laplace_noise(len(df.query('age<40')) - dp_count[-1], sens, epsilon))\n",
    "dp_count.append(add_laplace_noise(len(df.query('age<50')) - dp_count[-1], sens, epsilon))\n",
    "dp_count.append(add_laplace_noise(len(df.query('age<60')) - dp_count[-1], sens, epsilon))\n",
    "dp_count.append(add_laplace_noise(len(df.query('age>=60')), sens, epsilon))\n",
    "print(original_count, dp_count)\n",
    "print(percentage_error(original_count, dp_count))"
   ]
  },
  {
   "attachments": {},
   "cell_type": "markdown",
   "metadata": {},
   "source": [
    "Even with the provision above and being subjected to a bigger deviation, the percentual error does not rise above 0.02% which is a very small value."
   ]
  },
  {
   "cell_type": "code",
   "execution_count": 24,
   "metadata": {},
   "outputs": [
    {
     "name": "stdout",
     "output_type": "stream",
     "text": [
      "[[14636.327058541274, 13364.183497179574], [155003.88215537314, 142817.25742247657], [170867.81323263212, 161129.7695755352], [3.0644432136281305, 2.8200041937513105], [0.8081672978758438, 1.2345565107989096], [0.8818503660015269, 0.9981128119102537], [4.832645988952592, 5.131474103585657], [0.0781851114470907, 0.07880058712518348]]\n",
      "[[14636.153097272088, 13363.863051456967], [155000.78065799942, 142816.8345939904], [170867.27535738779, 161128.31633468904], [3.153203552065636, 2.8321720750725365], [1.1126680995275973, 1.5819851801010612], [0.8364598071743952, 1.2895023846977298], [4.192050683589169, 7.22662707091109], [-1.3449347196054027, -0.6807168492152992]]\n",
      "[[1.18855823e-03 2.39779499e-03]\n",
      " [2.00091593e-03 2.96062600e-04]\n",
      " [3.14790266e-04 9.01907109e-04]\n",
      " [2.89645891e+00 4.31484512e-01]\n",
      " [3.76779415e+01 2.81419819e+01]\n",
      " [5.14719510e+00 2.91940519e+01]\n",
      " [1.32555810e+01 4.08294561e+01]\n",
      " [1.82019288e+03 9.63847433e+02]]\n"
     ]
    }
   ],
   "source": [
    "dp_past = []\n",
    "dp_past.append([add_laplace_noise(sel2[\"past_avg_amount_annuity\"].mean(), sens, epsilon), \\\n",
    "    add_laplace_noise(sel1[\"past_avg_amount_annuity\"].mean(), sens, epsilon)])\n",
    "dp_past.append([add_laplace_noise(sel2[\"past_avg_amt_application\"].mean(), sens, epsilon), \\\n",
    "    add_laplace_noise(sel1[\"past_avg_amt_application\"].mean(), sens, epsilon)])\n",
    "dp_past.append([add_laplace_noise(sel2[\"past_avg_amt_credit\"].mean(), sens, epsilon), \\\n",
    "    add_laplace_noise(sel1[\"past_avg_amt_credit\"].mean(), sens, epsilon)])\n",
    "dp_past.append([add_laplace_noise(sel2[\"past_loans_approved\"].mean(), sens, epsilon), \\\n",
    "    add_laplace_noise(sel1[\"past_loans_approved\"].mean(), sens, epsilon)])\n",
    "dp_past.append([add_laplace_noise(sel2[\"past_loans_canceled\"].mean(), sens, epsilon), \\\n",
    "    add_laplace_noise(sel1[\"past_loans_canceled\"].mean(), sens, epsilon)])\n",
    "dp_past.append([add_laplace_noise(sel2[\"past_loans_refused\"].mean(), sens, epsilon), \\\n",
    "    add_laplace_noise(sel1[\"past_loans_refused\"].mean(), sens, epsilon)])\n",
    "dp_past.append([add_laplace_noise(sel2[\"past_loans_total\"].mean(), sens, epsilon), \\\n",
    "    add_laplace_noise(sel1[\"past_loans_total\"].mean(), sens, epsilon)])\n",
    "dp_past.append([add_laplace_noise(sel2[\"past_loans_unused\"].mean(), sens, epsilon), \\\n",
    "    add_laplace_noise(sel1[\"past_loans_unused\"].mean(), sens, epsilon)])\n",
    "\n",
    "print(original_past)\n",
    "print(dp_past)\n",
    "print(percentage_error(original_past, dp_past))"
   ]
  },
  {
   "attachments": {},
   "cell_type": "markdown",
   "metadata": {},
   "source": [
    "Alterando epsilon"
   ]
  },
  {
   "cell_type": "code",
   "execution_count": 28,
   "metadata": {},
   "outputs": [
    {
     "name": "stdout",
     "output_type": "stream",
     "text": [
      "[[14636.327058541274, 13364.183497179574], [155003.88215537314, 142817.25742247657], [170867.81323263212, 161129.7695755352], [3.0644432136281305, 2.8200041937513105], [0.8081672978758438, 1.2345565107989096], [0.8818503660015269, 0.9981128119102537], [4.832645988952592, 5.131474103585657], [0.0781851114470907, 0.07880058712518348]]\n",
      "[[14636.44461010259, 13365.259524286352], [155006.21050275993, 142817.0096811231], [170866.58271282903, 161130.4578591386], [3.501098710545337, 3.166148718938698], [0.4257369612563883, 1.9489664308625292], [1.736900013394139, 1.1619251725752715], [4.064218008230653, 4.1861208833537304], [-0.12983790413726, 3.1211171534811215]]\n",
      "[[8.03149320e-04 8.05157387e-03]\n",
      " [1.50212198e-03 1.73467379e-04]\n",
      " [7.20158923e-04 4.27161042e-04]\n",
      " [1.42490974e+01 1.22746103e+01]\n",
      " [4.73206894e+01 5.78677374e+01]\n",
      " [9.69608542e+01 1.64122090e+01]\n",
      " [1.59007712e+01 1.84226443e+01]\n",
      " [2.66064743e+02 3.86077906e+03]]\n"
     ]
    }
   ],
   "source": [
    "epsilon = np.log(3)\n",
    "\n",
    "dp_past = []\n",
    "dp_past.append([add_laplace_noise(sel2[\"past_avg_amount_annuity\"].mean(), sens, epsilon), \\\n",
    "    add_laplace_noise(sel1[\"past_avg_amount_annuity\"].mean(), sens, epsilon)])\n",
    "dp_past.append([add_laplace_noise(sel2[\"past_avg_amt_application\"].mean(), sens, epsilon), \\\n",
    "    add_laplace_noise(sel1[\"past_avg_amt_application\"].mean(), sens, epsilon)])\n",
    "dp_past.append([add_laplace_noise(sel2[\"past_avg_amt_credit\"].mean(), sens, epsilon), \\\n",
    "    add_laplace_noise(sel1[\"past_avg_amt_credit\"].mean(), sens, epsilon)])\n",
    "dp_past.append([add_laplace_noise(sel2[\"past_loans_approved\"].mean(), sens, epsilon), \\\n",
    "    add_laplace_noise(sel1[\"past_loans_approved\"].mean(), sens, epsilon)])\n",
    "dp_past.append([add_laplace_noise(sel2[\"past_loans_canceled\"].mean(), sens, epsilon), \\\n",
    "    add_laplace_noise(sel1[\"past_loans_canceled\"].mean(), sens, epsilon)])\n",
    "dp_past.append([add_laplace_noise(sel2[\"past_loans_refused\"].mean(), sens, epsilon), \\\n",
    "    add_laplace_noise(sel1[\"past_loans_refused\"].mean(), sens, epsilon)])\n",
    "dp_past.append([add_laplace_noise(sel2[\"past_loans_total\"].mean(), sens, epsilon), \\\n",
    "    add_laplace_noise(sel1[\"past_loans_total\"].mean(), sens, epsilon)])\n",
    "dp_past.append([add_laplace_noise(sel2[\"past_loans_unused\"].mean(), sens, epsilon), \\\n",
    "    add_laplace_noise(sel1[\"past_loans_unused\"].mean(), sens, epsilon)])\n",
    "\n",
    "print(original_past)\n",
    "print(dp_past)\n",
    "print(percentage_error(original_past, dp_past))"
   ]
  },
  {
   "attachments": {},
   "cell_type": "markdown",
   "metadata": {},
   "source": [
    "### Verify analysis with the module Py-DP\n",
    "\n",
    "This module is directed to differential privacy methods. The analysis is done with simple sums and means of the algorithm."
   ]
  },
  {
   "cell_type": "code",
   "execution_count": 30,
   "metadata": {},
   "outputs": [
    {
     "name": "stdout",
     "output_type": "stream",
     "text": [
      "[45000, 82299, 121543, 150373, 35595]\n",
      "[44941, 82243, 121543, 150383, 35514]\n",
      "[281.84019299 108.65338221  41.18690598  14.11050526 383.19761539]\n"
     ]
    }
   ],
   "source": [
    "from pydp.algorithms.laplacian import BoundedSum\n",
    "\n",
    "epsilon = 0.1\n",
    "dp_sum = BoundedSum(epsilon=epsilon, dtype ='int') \n",
    "# dtype int returns the pydp sum as an integer, as it is a sum of integers\n",
    "\n",
    "pydp_count = []\n",
    "pydp_count.append(dp_sum.quick_result(df['age']<30))\n",
    "pydp_count.append(dp_sum.quick_result(df['age']<40)-pydp_count[-1])\n",
    "pydp_count.append(dp_sum.quick_result(df['age']<50)-pydp_count[-1])\n",
    "pydp_count.append(dp_sum.quick_result(df['age']<60)-pydp_count[-1])\n",
    "pydp_count.append(dp_sum.quick_result(df['age']>=60))\n",
    "\n",
    "print(original_count)\n",
    "print(pydp_count)\n",
    "print(percentage_error(pydp_count, dp_count))"
   ]
  },
  {
   "cell_type": "code",
   "execution_count": 29,
   "metadata": {},
   "outputs": [
    {
     "ename": "KeyboardInterrupt",
     "evalue": "",
     "output_type": "error",
     "traceback": [
      "\u001b[1;31m---------------------------------------------------------------------------\u001b[0m",
      "\u001b[1;31mKeyboardInterrupt\u001b[0m                         Traceback (most recent call last)",
      "\u001b[1;32mc:\\Users\\Eduardo\\Documents\\MECD\\SP\\PA2\\Diff_privacy.ipynb Cell 20\u001b[0m in \u001b[0;36m<cell line: 7>\u001b[1;34m()\u001b[0m\n\u001b[0;32m      <a href='vscode-notebook-cell:/c%3A/Users/Eduardo/Documents/MECD/SP/PA2/Diff_privacy.ipynb#X22sZmlsZQ%3D%3D?line=4'>5</a>\u001b[0m pydp_past \u001b[39m=\u001b[39m []\n\u001b[0;32m      <a href='vscode-notebook-cell:/c%3A/Users/Eduardo/Documents/MECD/SP/PA2/Diff_privacy.ipynb#X22sZmlsZQ%3D%3D?line=5'>6</a>\u001b[0m pydp_past\u001b[39m.\u001b[39mappend([dp_mean\u001b[39m.\u001b[39mquick_result(sel2[\u001b[39m\"\u001b[39m\u001b[39mpast_avg_amount_annuity\u001b[39m\u001b[39m\"\u001b[39m]\u001b[39m.\u001b[39marray), dp_mean\u001b[39m.\u001b[39mquick_result(sel1[\u001b[39m\"\u001b[39m\u001b[39mpast_avg_amount_annuity\u001b[39m\u001b[39m\"\u001b[39m]\u001b[39m.\u001b[39marray)])\n\u001b[1;32m----> <a href='vscode-notebook-cell:/c%3A/Users/Eduardo/Documents/MECD/SP/PA2/Diff_privacy.ipynb#X22sZmlsZQ%3D%3D?line=6'>7</a>\u001b[0m pydp_past\u001b[39m.\u001b[39mappend([dp_mean\u001b[39m.\u001b[39;49mquick_result(sel2[\u001b[39m\"\u001b[39;49m\u001b[39mpast_avg_amt_application\u001b[39;49m\u001b[39m\"\u001b[39;49m]\u001b[39m.\u001b[39;49marray), dp_mean\u001b[39m.\u001b[39mquick_result(sel1[\u001b[39m\"\u001b[39m\u001b[39mpast_avg_amt_application\u001b[39m\u001b[39m\"\u001b[39m]\u001b[39m.\u001b[39marray)])\n\u001b[0;32m      <a href='vscode-notebook-cell:/c%3A/Users/Eduardo/Documents/MECD/SP/PA2/Diff_privacy.ipynb#X22sZmlsZQ%3D%3D?line=7'>8</a>\u001b[0m pydp_past\u001b[39m.\u001b[39mappend([dp_mean\u001b[39m.\u001b[39mquick_result(sel2[\u001b[39m\"\u001b[39m\u001b[39mpast_avg_amt_credit\u001b[39m\u001b[39m\"\u001b[39m]\u001b[39m.\u001b[39marray), dp_mean\u001b[39m.\u001b[39mquick_result(sel1[\u001b[39m\"\u001b[39m\u001b[39mpast_avg_amt_credit\u001b[39m\u001b[39m\"\u001b[39m]\u001b[39m.\u001b[39marray)])\n\u001b[0;32m      <a href='vscode-notebook-cell:/c%3A/Users/Eduardo/Documents/MECD/SP/PA2/Diff_privacy.ipynb#X22sZmlsZQ%3D%3D?line=8'>9</a>\u001b[0m pydp_past\u001b[39m.\u001b[39mappend([dp_mean\u001b[39m.\u001b[39mquick_result(sel2[\u001b[39m\"\u001b[39m\u001b[39mpast_loans_approved\u001b[39m\u001b[39m\"\u001b[39m]\u001b[39m.\u001b[39marray), dp_mean\u001b[39m.\u001b[39mquick_result(sel1[\u001b[39m\"\u001b[39m\u001b[39mpast_loans_approved\u001b[39m\u001b[39m\"\u001b[39m]\u001b[39m.\u001b[39marray)])\n",
      "\u001b[1;31mKeyboardInterrupt\u001b[0m: "
     ]
    }
   ],
   "source": [
    "from pydp.algorithms.laplacian import BoundedMean\n",
    "\n",
    "dp_mean = BoundedMean(epsilon=epsilon, dtype='float')\n",
    "\n",
    "pydp_past = []\n",
    "pydp_past.append([dp_mean.quick_result(sel2[\"past_avg_amount_annuity\"].array), dp_mean.quick_result(sel1[\"past_avg_amount_annuity\"].array)])\n",
    "pydp_past.append([dp_mean.quick_result(sel2[\"past_avg_amt_application\"].array), dp_mean.quick_result(sel1[\"past_avg_amt_application\"].array)])\n",
    "pydp_past.append([dp_mean.quick_result(sel2[\"past_avg_amt_credit\"].array), dp_mean.quick_result(sel1[\"past_avg_amt_credit\"].array)])\n",
    "pydp_past.append([dp_mean.quick_result(sel2[\"past_loans_approved\"].array), dp_mean.quick_result(sel1[\"past_loans_approved\"].array)])\n",
    "pydp_past.append([dp_mean.quick_result(sel2[\"past_loans_canceled\"].array), dp_mean.quick_result(sel1[\"past_loans_canceled\"].array)])\n",
    "pydp_past.append([dp_mean.quick_result(sel2[\"past_loans_refused\"].array), dp_mean.quick_result(sel1[\"past_loans_refused\"].array)])\n",
    "pydp_past.append([dp_mean.quick_result(sel2[\"past_loans_total\"].array), dp_mean.quick_result(sel1[\"past_loans_total\"].array)])\n",
    "pydp_past.append([dp_mean.quick_result(sel2[\"past_loans_unused\"].array), dp_mean.quick_result(sel1[\"past_loans_unused\"].array)])\n",
    "\n",
    "print(original_past)\n",
    "print(pydp_past)\n",
    "print(percentage_error(pydp_past, dp_past))"
   ]
  }
 ],
 "metadata": {
  "kernelspec": {
   "display_name": "Python 3.9.12 ('base')",
   "language": "python",
   "name": "python3"
  },
  "language_info": {
   "codemirror_mode": {
    "name": "ipython",
    "version": 3
   },
   "file_extension": ".py",
   "mimetype": "text/x-python",
   "name": "python",
   "nbconvert_exporter": "python",
   "pygments_lexer": "ipython3",
   "version": "3.9.12"
  },
  "orig_nbformat": 4,
  "vscode": {
   "interpreter": {
    "hash": "451f9409e4a1d80d0e57066b36b4624c2c0f11dfc98b1c0bd8da4a3c0fa8d9f4"
   }
  }
 },
 "nbformat": 4,
 "nbformat_minor": 2
}
