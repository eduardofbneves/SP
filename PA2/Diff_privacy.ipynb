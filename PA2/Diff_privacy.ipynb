{
 "cells": [
  {
   "attachments": {},
   "cell_type": "markdown",
   "metadata": {},
   "source": [
    "## Analysis planning\n",
    "\n",
    "The analysis performed by delentture will be the same as performed in the first part of the project.\n",
    "\n",
    "That being said, the columns starting with \"past_\" will be the key information to be passed, as well as the age"
   ]
  },
  {
   "cell_type": "code",
   "execution_count": 11,
   "metadata": {},
   "outputs": [],
   "source": [
    "import pandas as pd\n",
    "import numpy as np\n"
   ]
  },
  {
   "cell_type": "code",
   "execution_count": 12,
   "metadata": {},
   "outputs": [
    {
     "data": {
      "text/plain": [
       "(307511, 46)"
      ]
     },
     "execution_count": 12,
     "metadata": {},
     "output_type": "execute_result"
    }
   ],
   "source": [
    "df = pd.read_csv(\"infringement_dataset_v2.csv\")\n",
    "df.shape"
   ]
  },
  {
   "attachments": {},
   "cell_type": "markdown",
   "metadata": {},
   "source": [
    "## Noise adding function\n",
    "\n",
    "The noise added follows the pratical class on differential privacy and is based on a laplace distribution. The percentage error measures the deviation from the original data."
   ]
  },
  {
   "cell_type": "code",
   "execution_count": 27,
   "metadata": {},
   "outputs": [],
   "source": [
    "def add_laplace_noise(s, sensitivity, epsilon):\n",
    "  return s + np.random.laplace(loc=0, scale=sensitivity/epsilon)\n",
    "\n",
    "def percentage_error(orig, est):\n",
    "  return (abs(np.divide(np.subtract(est, orig), orig))) * 100"
   ]
  },
  {
   "cell_type": "markdown",
   "metadata": {},
   "source": [
    "Small test of the noise adding"
   ]
  },
  {
   "cell_type": "code",
   "execution_count": 14,
   "metadata": {},
   "outputs": [
    {
     "name": "stdout",
     "output_type": "stream",
     "text": [
      "171588 171419.00073232315 0.09849130922724503\n"
     ]
    }
   ],
   "source": [
    "epsilon = 0.1 # common values 0.01, 0.01. 0.2, ln(2), ln(3)\n",
    "sens = 1\n",
    "\n",
    "orig_count = len(df.query('age > 40'))\n",
    "dp_count = add_laplace_noise(len(df.query('age > 40')), 1, 0.01)\n",
    "print(orig_count, dp_count, percentage_error(orig_count, dp_count))"
   ]
  },
  {
   "attachments": {},
   "cell_type": "markdown",
   "metadata": {},
   "source": [
    "The values are close by a factor of less than 100, which is small comparing to the value size. The error shown is, by itself, very low, so we can trust that the analysis should be good enough."
   ]
  },
  {
   "cell_type": "markdown",
   "metadata": {},
   "source": [
    "### Original analysis"
   ]
  },
  {
   "cell_type": "code",
   "execution_count": 15,
   "metadata": {},
   "outputs": [
    {
     "name": "stdout",
     "output_type": "stream",
     "text": [
      "[45000, 82299, 121543, 150373, 35595]\n"
     ]
    }
   ],
   "source": [
    "original_count = []\n",
    "original_count.append(len(df.query('age<30')))\n",
    "original_count.append(len(df.query('age<40')) - original_count[-1])\n",
    "original_count.append(len(df.query('age<50')) - original_count[-1])\n",
    "original_count.append(len(df.query('age<60')) - original_count[-1])\n",
    "original_count.append(len(df.query('age>=60')))\n",
    "print(original_count)"
   ]
  },
  {
   "cell_type": "code",
   "execution_count": 16,
   "metadata": {},
   "outputs": [
    {
     "name": "stdout",
     "output_type": "stream",
     "text": [
      "[[14636.327058541274, 13364.183497179574], [155003.88215537314, 142817.25742247657], [170867.81323263212, 161129.7695755352], [3.0644432136281305, 2.8200041937513105], [0.8081672978758438, 1.2345565107989096], [0.8818503660015269, 0.9981128119102537], [4.832645988952592, 5.131474103585657], [0.0781851114470907, 0.07880058712518348]]\n"
     ]
    }
   ],
   "source": [
    "sel1 = df[df[\"infringed\"] == 1]\n",
    "sel2 = df[df[\"infringed\"] == 0]\n",
    "\n",
    "original_past = []\n",
    "original_past.append([sel2[\"past_avg_amount_annuity\"].mean(), sel1[\"past_avg_amount_annuity\"].mean()])\n",
    "original_past.append([sel2[\"past_avg_amt_application\"].mean(), sel1[\"past_avg_amt_application\"].mean()])\n",
    "original_past.append([sel2[\"past_avg_amt_credit\"].mean(), sel1[\"past_avg_amt_credit\"].mean()])\n",
    "original_past.append([sel2[\"past_loans_approved\"].mean(), sel1[\"past_loans_approved\"].mean()])\n",
    "original_past.append([sel2[\"past_loans_canceled\"].mean(), sel1[\"past_loans_canceled\"].mean()])\n",
    "original_past.append([sel2[\"past_loans_refused\"].mean(), sel1[\"past_loans_refused\"].mean()])\n",
    "original_past.append([sel2[\"past_loans_total\"].mean(), sel1[\"past_loans_total\"].mean()])\n",
    "original_past.append([sel2[\"past_loans_unused\"].mean(), sel1[\"past_loans_unused\"].mean()])\n",
    "print(original_past)"
   ]
  },
  {
   "attachments": {},
   "cell_type": "markdown",
   "metadata": {},
   "source": [
    "### With differential privacy\n",
    "\n",
    "Being aware that subtracting the previous dp.count brings more inaccuracy for the final result, but this is done this way beacause the utilitary of the dataset does not have access to the variable original_count"
   ]
  },
  {
   "cell_type": "code",
   "execution_count": 17,
   "metadata": {},
   "outputs": [
    {
     "name": "stdout",
     "output_type": "stream",
     "text": [
      "[45000, 82299, 121543, 150373, 35595] [45014.71547930083, 82234.06709420051, 121622.19477728399, 150272.24507805012, 35598.71107113981]\n"
     ]
    }
   ],
   "source": [
    "dp_count = []\n",
    "dp_count.append(add_laplace_noise((len(df.query('age<30'))), sens, epsilon))\n",
    "dp_count.append(add_laplace_noise(len(df.query('age<40')) - dp_count[-1], sens, epsilon))\n",
    "dp_count.append(add_laplace_noise(len(df.query('age<50')) - dp_count[-1], sens, epsilon))\n",
    "dp_count.append(add_laplace_noise(len(df.query('age<60')) - dp_count[-1], sens, epsilon))\n",
    "dp_count.append(add_laplace_noise(len(df.query('age>=60')), sens, epsilon))\n",
    "print(original_count, dp_count)"
   ]
  },
  {
   "cell_type": "code",
   "execution_count": 28,
   "metadata": {},
   "outputs": [
    {
     "name": "stdout",
     "output_type": "stream",
     "text": [
      "[[14636.327058541274, 13364.183497179574], [155003.88215537314, 142817.25742247657], [170867.81323263212, 161129.7695755352], [3.0644432136281305, 2.8200041937513105], [0.8081672978758438, 1.2345565107989096], [0.8818503660015269, 0.9981128119102537], [4.832645988952592, 5.131474103585657], [0.0781851114470907, 0.07880058712518348]]\n",
      "[[14643.21356691083, 13360.728906094606], [155025.01420329072, 142863.65661797664], [170866.43346334886, 161138.14763295447], [11.948008879429809, -16.77423561920931], [15.315537344100687, -1.0672229595294158], [-1.0582343409952284, 11.028460230111367], [5.6984801974722075, 4.606515781309634], [-22.367903314522945, 2.6509124299569673]]\n",
      "[[4.70507959e-02 2.58496233e-02]\n",
      " [1.36332378e-02 3.24885076e-02]\n",
      " [8.07506842e-04 5.19957140e-03]\n",
      " [2.89891672e+02 6.94830166e+02]\n",
      " [1.79509491e+03 1.86445857e+02]\n",
      " [2.20001576e+02 1.00493124e+03]\n",
      " [1.79163591e+01 1.02301661e+01]\n",
      " [2.87089038e+04 3.26407700e+03]]\n"
     ]
    }
   ],
   "source": [
    "dp_past = []\n",
    "dp_past.append([add_laplace_noise(sel2[\"past_avg_amount_annuity\"].mean(), sens, epsilon), \\\n",
    "    add_laplace_noise(sel1[\"past_avg_amount_annuity\"].mean(), sens, epsilon)])\n",
    "dp_past.append([add_laplace_noise(sel2[\"past_avg_amt_application\"].mean(), sens, epsilon), \\\n",
    "    add_laplace_noise(sel1[\"past_avg_amt_application\"].mean(), sens, epsilon)])\n",
    "dp_past.append([add_laplace_noise(sel2[\"past_avg_amt_credit\"].mean(), sens, epsilon), \\\n",
    "    add_laplace_noise(sel1[\"past_avg_amt_credit\"].mean(), sens, epsilon)])\n",
    "dp_past.append([add_laplace_noise(sel2[\"past_loans_approved\"].mean(), sens, epsilon), \\\n",
    "    add_laplace_noise(sel1[\"past_loans_approved\"].mean(), sens, epsilon)])\n",
    "dp_past.append([add_laplace_noise(sel2[\"past_loans_canceled\"].mean(), sens, epsilon), \\\n",
    "    add_laplace_noise(sel1[\"past_loans_canceled\"].mean(), sens, epsilon)])\n",
    "dp_past.append([add_laplace_noise(sel2[\"past_loans_refused\"].mean(), sens, epsilon), \\\n",
    "    add_laplace_noise(sel1[\"past_loans_refused\"].mean(), sens, epsilon)])\n",
    "dp_past.append([add_laplace_noise(sel2[\"past_loans_total\"].mean(), sens, epsilon), \\\n",
    "    add_laplace_noise(sel1[\"past_loans_total\"].mean(), sens, epsilon)])\n",
    "dp_past.append([add_laplace_noise(sel2[\"past_loans_unused\"].mean(), sens, epsilon), \\\n",
    "    add_laplace_noise(sel1[\"past_loans_unused\"].mean(), sens, epsilon)])\n",
    "\n",
    "print(original_past)\n",
    "print(dp_past)\n",
    "print(percentage_error(original_past, dp_past))"
   ]
  },
  {
   "attachments": {},
   "cell_type": "markdown",
   "metadata": {},
   "source": [
    "### Verify analysis with the module Py-DP\n",
    "\n",
    "This module is directed to differential privacy methods. The analysis is done with simple sums and means of the algorithm."
   ]
  },
  {
   "cell_type": "code",
   "execution_count": 24,
   "metadata": {},
   "outputs": [
    {
     "name": "stdout",
     "output_type": "stream",
     "text": [
      "[45000, 82299, 121543, 150373, 35595]\n",
      "[45045.75923481208, 82293.24016077851, 121562.27663632695, 150409.43952712373, 35534.43097549287]\n",
      "[0.06891604 0.07190514 0.04929008 0.09121399 0.18089524]\n"
     ]
    }
   ],
   "source": [
    "#para validação dos dados\n",
    "from pydp.algorithms.laplacian import BoundedSum\n",
    "\n",
    "dp_sum = BoundedSum(epsilon=epsilon, dtype ='float')\n",
    "\n",
    "pydp_count = []\n",
    "pydp_count.append(dp_sum.quick_result(df['age']<30))\n",
    "pydp_count.append(dp_sum.quick_result(df['age']<40)-pydp_count[-1])\n",
    "pydp_count.append(dp_sum.quick_result(df['age']<50)-pydp_count[-1])\n",
    "pydp_count.append(dp_sum.quick_result(df['age']<60)-pydp_count[-1])\n",
    "pydp_count.append(dp_sum.quick_result(df['age']>=60))\n",
    "\n",
    "print(original_count)\n",
    "print(pydp_count)\n",
    "print(percentage_error(pydp_count, dp_count))"
   ]
  },
  {
   "attachments": {},
   "cell_type": "markdown",
   "metadata": {},
   "source": [
    "As done in the original analysis, we subtract the last value to each calculation to get the"
   ]
  },
  {
   "cell_type": "code",
   "execution_count": 25,
   "metadata": {},
   "outputs": [
    {
     "name": "stdout",
     "output_type": "stream",
     "text": [
      "[[14636.327058541274, 13364.183497179574], [155003.88215537314, 142817.25742247657], [170867.81323263212, 161129.7695755352], [3.0644432136281305, 2.8200041937513105], [0.8081672978758438, 1.2345565107989096], [0.8818503660015269, 0.9981128119102537], [4.832645988952592, 5.131474103585657], [0.0781851114470907, 0.07880058712518348]]\n",
      "[[14585.571067632885, 13078.686293519997], [154260.9942015208, 141420.4768406931], [169564.80421035353, 153732.27816438593], [3.0683000398298423, 2.813627992051458], [0.8111888535806893, 1.1296026356149245], [0.8825808272349507, 0.8494406484794208], [4.833643513036995, 4.963616932751519], [0.07421131710868267, 0.06673703019725918]]\n",
      "[[4.31578478e-01 2.14601584e+00]\n",
      " [4.76589909e-01 9.94578253e-01]\n",
      " [7.68046645e-01 4.81110818e+00]\n",
      " [1.01275791e+01 1.56926726e+03]\n",
      " [2.47583040e+03 1.01716946e+02]\n",
      " [7.33385369e+02 2.19119328e+02]\n",
      " [3.25271954e+01 4.39856372e+02]\n",
      " [1.77507795e+04 1.93349618e+03]]\n"
     ]
    }
   ],
   "source": [
    "from pydp.algorithms.laplacian import BoundedMean\n",
    "\n",
    "dp_mean = BoundedMean(epsilon=epsilon, dtype='float')\n",
    "\n",
    "pydp_past = []\n",
    "pydp_past.append([dp_mean.quick_result(sel2[\"past_avg_amount_annuity\"].array), dp_mean.quick_result(sel1[\"past_avg_amount_annuity\"].array)])\n",
    "pydp_past.append([dp_mean.quick_result(sel2[\"past_avg_amt_application\"].array), dp_mean.quick_result(sel1[\"past_avg_amt_application\"].array)])\n",
    "pydp_past.append([dp_mean.quick_result(sel2[\"past_avg_amt_credit\"].array), dp_mean.quick_result(sel1[\"past_avg_amt_credit\"].array)])\n",
    "pydp_past.append([dp_mean.quick_result(sel2[\"past_loans_approved\"].array), dp_mean.quick_result(sel1[\"past_loans_approved\"].array)])\n",
    "pydp_past.append([dp_mean.quick_result(sel2[\"past_loans_canceled\"].array), dp_mean.quick_result(sel1[\"past_loans_canceled\"].array)])\n",
    "pydp_past.append([dp_mean.quick_result(sel2[\"past_loans_refused\"].array), dp_mean.quick_result(sel1[\"past_loans_refused\"].array)])\n",
    "pydp_past.append([dp_mean.quick_result(sel2[\"past_loans_total\"].array), dp_mean.quick_result(sel1[\"past_loans_total\"].array)])\n",
    "pydp_past.append([dp_mean.quick_result(sel2[\"past_loans_unused\"].array), dp_mean.quick_result(sel1[\"past_loans_unused\"].array)])\n",
    "\n",
    "print(original_past)\n",
    "print(pydp_past)\n",
    "print(percentage_error(pydp_past, dp_past))"
   ]
  }
 ],
 "metadata": {
  "kernelspec": {
   "display_name": "Python 3.9.12 ('base')",
   "language": "python",
   "name": "python3"
  },
  "language_info": {
   "codemirror_mode": {
    "name": "ipython",
    "version": 3
   },
   "file_extension": ".py",
   "mimetype": "text/x-python",
   "name": "python",
   "nbconvert_exporter": "python",
   "pygments_lexer": "ipython3",
   "version": "3.9.12 (main, Apr  4 2022, 05:22:27) [MSC v.1916 64 bit (AMD64)]"
  },
  "orig_nbformat": 4,
  "vscode": {
   "interpreter": {
    "hash": "451f9409e4a1d80d0e57066b36b4624c2c0f11dfc98b1c0bd8da4a3c0fa8d9f4"
   }
  }
 },
 "nbformat": 4,
 "nbformat_minor": 2
}
