{
 "cells": [
  {
   "cell_type": "markdown",
   "metadata": {},
   "source": [
    "** Analysis planning **\n",
    "\n",
    "The analysis performed by delentture will be the same as performed in the first part of the project.\n",
    "\n",
    "That being said, the columns starting with \"past_\" will be the key information to be passed, as well as the age"
   ]
  },
  {
   "cell_type": "code",
   "execution_count": 15,
   "metadata": {},
   "outputs": [],
   "source": [
    "import pandas as pd\n",
    "import pydp as dp\n",
    "from pydp.algorithms.numerical_mechanisms import NumericalMechanism\n",
    "from pydp.algorithms.laplacian import BoundedSum, BoundedMean, Count, Max\n"
   ]
  },
  {
   "cell_type": "code",
   "execution_count": 16,
   "metadata": {},
   "outputs": [],
   "source": [
    "df = pd.read_csv(\"infringement_dataset_v2.csv\")"
   ]
  },
  {
   "cell_type": "code",
   "execution_count": 17,
   "metadata": {},
   "outputs": [],
   "source": [
    "\n",
    "\n",
    "# row = person, column = values\n",
    "# locate row: df.loc[1]\n",
    "# selecionar as linhas que infrigiram e que não infrigiram\n",
    "# cria uma Dataframe para cada caso\n",
    "sel1 = df[df[\"infringed\"] == 1]\n",
    "sel2 = df[df[\"infringed\"] == 0]\n",
    "\n",
    "# definir variáveis para os gráficos\n",
    "\n",
    "past_annuity = [sel2[\"past_avg_amount_annuity\"].mean(), sel1[\"past_avg_amount_annuity\"].mean()]\n",
    "past_application = [sel2[\"past_avg_amt_application\"].mean(), sel1[\"past_avg_amt_application\"].mean()]\n",
    "past_credit = [sel2[\"past_avg_amt_credit\"].mean(), sel1[\"past_avg_amt_credit\"].mean()]\n",
    "past_approved = [sel2[\"past_loans_approved\"].mean(), sel1[\"past_loans_approved\"].mean()]\n",
    "past_cancelled = [sel2[\"past_loans_canceled\"].mean(), sel1[\"past_loans_canceled\"].mean()]\n",
    "past_refused = [sel2[\"past_loans_refused\"].mean(), sel1[\"past_loans_refused\"].mean()]\n",
    "past_total = [sel2[\"past_loans_total\"].mean(), sel1[\"past_loans_total\"].mean()]\n",
    "past_unused = [sel2[\"past_loans_unused\"].mean(), sel1[\"past_loans_unused\"].mean()]\n",
    "\n",
    "age1 = df[df[\"age\"] < 30].size\n",
    "age2 = df[df[\"age\"] < 40].size - age1\n",
    "age3 = df[df[\"age\"] < 50].size - age2\n",
    "age4 = df[df[\"age\"] < 60].size - age3\n",
    "age5 = df[df[\"age\"] >= 60].size\n"
   ]
  },
  {
   "cell_type": "code",
   "execution_count": 23,
   "metadata": {},
   "outputs": [
    {
     "name": "stdout",
     "output_type": "stream",
     "text": [
      "13357248.793884434\n"
     ]
    }
   ],
   "source": [
    "dp_sum = BoundedSum(epsilon= 1.5, lower_bound =  5, upper_bound = 250, dtype ='float')\n",
    "dp_sum_og = dp_sum.quick_result(df['age'].to_list())\n",
    "print(dp_sum_og)"
   ]
  }
 ],
 "metadata": {
  "kernelspec": {
   "display_name": "Python 3.9.13 64-bit",
   "language": "python",
   "name": "python3"
  },
  "language_info": {
   "codemirror_mode": {
    "name": "ipython",
    "version": 3
   },
   "file_extension": ".py",
   "mimetype": "text/x-python",
   "name": "python",
   "nbconvert_exporter": "python",
   "pygments_lexer": "ipython3",
   "version": "3.9.13"
  },
  "orig_nbformat": 4,
  "vscode": {
   "interpreter": {
    "hash": "c5abe1dd6f168b4f5e67de02cffc00ce8cef82ade2b382edc6fecc892b15c5a1"
   }
  }
 },
 "nbformat": 4,
 "nbformat_minor": 2
}
