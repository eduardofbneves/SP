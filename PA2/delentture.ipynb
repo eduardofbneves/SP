{
 "cells": [
  {
   "cell_type": "markdown",
   "id": "b92d1bd1-c53a-4ba0-9500-d196e2eaa1ba",
   "metadata": {},
   "source": [
    "(1) ---"
   ]
  },
  {
   "cell_type": "markdown",
   "id": "a877790d-9fad-4dbc-836b-f066b598ae31",
   "metadata": {},
   "source": [
    "(2) ---"
   ]
  },
  {
   "cell_type": "markdown",
   "id": "83b16037-cdc3-408f-992b-b0df05eb85b8",
   "metadata": {},
   "source": [
    "(3) ---"
   ]
  },
  {
   "cell_type": "markdown",
   "id": "24e15dc6-0b56-431f-9f59-5ce8f05d0a6a",
   "metadata": {},
   "source": [
    "(4) Initialization."
   ]
  },
  {
   "cell_type": "code",
   "execution_count": 1,
   "id": "46c004bd-1856-4aca-bbef-1594d1de1f64",
   "metadata": {},
   "outputs": [],
   "source": [
    "import os\n",
    "import logging\n",
    "import numpy as np\n",
    "import pandas as pd\n",
    "import matplotlib.pyplot as plt\n",
    "from cryptography.hazmat.backends import default_backend\n",
    "from cryptography.hazmat.primitives import hashes\n",
    "from cryptography.hazmat.primitives import serialization\n",
    "from cryptography.hazmat.primitives.serialization import load_pem_public_key\n",
    "from cryptography.hazmat.primitives.asymmetric import dh\n",
    "from cryptography.hazmat.primitives.kdf.hkdf import HKDF\n",
    "from cryptography.hazmat.primitives.ciphers.aead import AESGCM\n",
    "\n",
    "logging.basicConfig(filename=\"log.txt\", level=logging.DEBUG);"
   ]
  },
  {
   "cell_type": "markdown",
   "id": "86b1585d-de35-4cdd-a573-d4c574bea8ae",
   "metadata": {},
   "source": [
    "(5) Receive ControlER public key bytes from the communication channel."
   ]
  },
  {
   "cell_type": "code",
   "execution_count": 2,
   "id": "265f4dbe-507b-4a3b-926f-243491ef720b",
   "metadata": {},
   "outputs": [
    {
     "ename": "FileNotFoundError",
     "evalue": "[Errno 2] No such file or directory: 'channel'",
     "output_type": "error",
     "traceback": [
      "\u001b[1;31m---------------------------------------------------------------------------\u001b[0m",
      "\u001b[1;31mFileNotFoundError\u001b[0m                         Traceback (most recent call last)",
      "\u001b[1;32mc:\\Users\\Eduardo\\Documents\\MECD\\SP\\PA2\\delentture.ipynb Cell 7\u001b[0m in \u001b[0;36m<cell line: 1>\u001b[1;34m()\u001b[0m\n\u001b[1;32m----> <a href='vscode-notebook-cell:/c%3A/Users/Eduardo/Documents/MECD/SP/PA2/delentture.ipynb#W6sZmlsZQ%3D%3D?line=0'>1</a>\u001b[0m \u001b[39mwith\u001b[39;00m \u001b[39mopen\u001b[39;49m(\u001b[39m'\u001b[39;49m\u001b[39mchannel\u001b[39;49m\u001b[39m'\u001b[39;49m, \u001b[39m'\u001b[39;49m\u001b[39mrb\u001b[39;49m\u001b[39m'\u001b[39;49m) \u001b[39mas\u001b[39;00m f:\n\u001b[0;32m      <a href='vscode-notebook-cell:/c%3A/Users/Eduardo/Documents/MECD/SP/PA2/delentture.ipynb#W6sZmlsZQ%3D%3D?line=1'>2</a>\u001b[0m     cont_public_key_bytes \u001b[39m=\u001b[39m f\u001b[39m.\u001b[39mread();\n\u001b[0;32m      <a href='vscode-notebook-cell:/c%3A/Users/Eduardo/Documents/MECD/SP/PA2/delentture.ipynb#W6sZmlsZQ%3D%3D?line=2'>3</a>\u001b[0m logging\u001b[39m.\u001b[39mdebug(\u001b[39m\"\u001b[39m\u001b[39m Delentture: Loaded the ControlER public key bytes from the channel.\u001b[39m\u001b[39m\"\u001b[39m)\n",
      "\u001b[1;31mFileNotFoundError\u001b[0m: [Errno 2] No such file or directory: 'channel'"
     ]
    }
   ],
   "source": [
    "with open('channel', 'rb') as f:\n",
    "    cont_public_key_bytes = f.read();\n",
    "logging.debug(\" Delentture: Loaded the ControlER public key bytes from the channel.\");"
   ]
  },
  {
   "cell_type": "markdown",
   "id": "598ea66c-8f35-4bd3-a654-1c1f5b1b6bb2",
   "metadata": {},
   "source": [
    "(6) Get the same parameters to use in DH algorithm that were used by ControlER. We use the ControlER public key for that, to simulate agreement between parties."
   ]
  },
  {
   "cell_type": "code",
   "execution_count": null,
   "id": "53bc2bf4-8536-4d98-b771-f02de1f2737c",
   "metadata": {},
   "outputs": [],
   "source": [
    "cont_public_key = load_pem_public_key(cont_public_key_bytes, default_backend())\n",
    "logging.debug(\" Delentture: Created the ControlER public key from the loaded bytes.\");\n",
    "\n",
    "parameters = cont_public_key.parameters();\n",
    "logging.debug(\" Delentture: Loaded the agreed parameters contained in the public key.\");"
   ]
  },
  {
   "cell_type": "markdown",
   "id": "b874f541-0dfd-4b11-8f20-cb179b42bb42",
   "metadata": {},
   "source": [
    "(7) Create Delentture public key. Create Delentture Private key"
   ]
  },
  {
   "cell_type": "code",
   "execution_count": null,
   "id": "b533643e-6980-441b-9d1e-7a8acc4e485c",
   "metadata": {},
   "outputs": [],
   "source": [
    "dele_private_key = parameters.generate_private_key();\n",
    "logging.debug(\" Delentture: Generated the private key.\");\n",
    "\n",
    "dele_public_key = dele_private_key.public_key();\n",
    "logging.debug(\" Delentture: Generated the public key.\");\n",
    "\n",
    "# If parameter values for generation are the same, continue\n",
    "assert dele_public_key.parameters().parameter_numbers().p == cont_public_key.parameters().parameter_numbers().p;\n",
    "assert dele_public_key.parameters().parameter_numbers().g == cont_public_key.parameters().parameter_numbers().g;"
   ]
  },
  {
   "cell_type": "markdown",
   "id": "a5ca5d2b-48d8-49fa-8a12-c2a10835c60f",
   "metadata": {},
   "source": [
    "(8) Generate the shared key between the two parties. In this end - a mix of ControlER public key and Delentture private key"
   ]
  },
  {
   "cell_type": "code",
   "execution_count": null,
   "id": "4d18eef3-5800-4bf0-8393-6232ae66676f",
   "metadata": {},
   "outputs": [],
   "source": [
    "shared_key = dele_private_key.exchange(cont_public_key);\n",
    "\n",
    "logging.debug(\" Delentture: Generated the shared key:\");\n",
    "logging.info(shared_key);"
   ]
  },
  {
   "cell_type": "markdown",
   "id": "cf2caebe-9f3d-4ead-8557-9b2c92c855e4",
   "metadata": {},
   "source": [
    "(9) Write Delentture public key in bytes and send in the communication channel."
   ]
  },
  {
   "cell_type": "code",
   "execution_count": null,
   "id": "a5bf2bdf-93a4-4897-8f41-701cccc22536",
   "metadata": {},
   "outputs": [],
   "source": [
    "dele_public_key_bytes = dele_public_key.public_bytes(serialization.Encoding.PEM, serialization.PublicFormat.SubjectPublicKeyInfo);\n",
    "with open('channel', 'wb') as f:\n",
    "    f.write(dele_public_key_bytes)\n",
    "    f.close()\n",
    "    \n",
    "logging.debug(\" Delentture: Sent the public key public key to the communication server.\");"
   ]
  },
  {
   "cell_type": "markdown",
   "id": "57b8e06f-ad20-4832-b902-10795fdaa6d5",
   "metadata": {},
   "source": [
    "(10) ---"
   ]
  },
  {
   "cell_type": "markdown",
   "id": "cb146426-6e21-47ae-beea-79a6cb1c758f",
   "metadata": {},
   "source": [
    "(11) ---"
   ]
  },
  {
   "cell_type": "markdown",
   "id": "40cc5174-01fc-4327-9849-fcdf9a9f37fd",
   "metadata": {},
   "source": [
    "(12) ---"
   ]
  },
  {
   "cell_type": "markdown",
   "id": "63218f97-e046-46f6-ac7b-128dcd180527",
   "metadata": {},
   "source": [
    "(13) ---"
   ]
  },
  {
   "cell_type": "markdown",
   "id": "3e956cf3-9e6b-489d-a4ef-6015e61841d5",
   "metadata": {},
   "source": [
    "(14) ---"
   ]
  },
  {
   "cell_type": "markdown",
   "id": "d100c201-22ae-40a9-95c0-ed05013403d6",
   "metadata": {},
   "source": [
    "(15) ---"
   ]
  },
  {
   "cell_type": "markdown",
   "id": "a8e5ad34-4bcf-49f3-8288-bb2a63a61ee7",
   "metadata": {},
   "source": [
    "(16) Hashing - generate secret cipher key (from the shared key between two parties) and secret nonce"
   ]
  },
  {
   "cell_type": "code",
   "execution_count": null,
   "id": "20f73042-0f7f-4c86-a98a-65a0855075be",
   "metadata": {},
   "outputs": [],
   "source": [
    "secret_key = HKDF(\n",
    "    algorithm=hashes.SHA256(),\n",
    "    length=32, # 32 bytes is the highest level of encryption for AES-GCM\n",
    "    salt=None,\n",
    "    info=b'secret', # handshake data\n",
    ").derive(shared_key)\n",
    "\n",
    "logging.debug(\" Delentture: Generated the secret key:\");\n",
    "logging.info(secret_key);\n",
    "\n",
    "nonce = HKDF(\n",
    "    algorithm=hashes.SHA256(),\n",
    "    length=12, # must use 12 bits, because the AES-GCM operates on nonces with 12 bytes.\n",
    "    salt=None,\n",
    "    info=b'nonce', # handshake data\n",
    ").derive(secret_key);\n",
    "\n",
    "logging.debug(\" Delentture: Generated the secret nonce:\");\n",
    "logging.info(nonce);"
   ]
  },
  {
   "cell_type": "markdown",
   "id": "9d5bfad1-86ce-426e-80cc-1a48016a677b",
   "metadata": {},
   "source": [
    "(17) Receive original dataset ciphertext from the communication file"
   ]
  },
  {
   "cell_type": "code",
   "execution_count": null,
   "id": "e1caa4e1-196c-48cd-bc5e-820ba933293f",
   "metadata": {},
   "outputs": [],
   "source": [
    "with open('channel', 'rb') as f:\n",
    "    original_dataset_ciphertext = f.read();\n",
    "logging.debug(\" Delentture: Received the original dataset ciphertext of the encrypted dataset.\");"
   ]
  },
  {
   "cell_type": "markdown",
   "id": "1183ae2d-87d6-4d25-a016-3bb2ebad6f94",
   "metadata": {},
   "source": [
    "(18) Decrypt the original dataset ciphertext to a decrypted dataset and save it"
   ]
  },
  {
   "cell_type": "code",
   "execution_count": null,
   "id": "445c8512-9b0a-40df-ae6e-e7dfa0ee82c6",
   "metadata": {},
   "outputs": [],
   "source": [
    "aesgcm = AESGCM(secret_key);\n",
    "\n",
    "decrypted_dataset_bytes = aesgcm.decrypt(nonce, original_dataset_ciphertext, secret_key);\n",
    "\n",
    "#try:\n",
    "#    aesgcm.decrypt(nonce, ciphertext, None);\n",
    "#except:\n",
    "#    print(\"Sabe a chave secreta, mas nao sabe o nounce\");\n",
    "#    \n",
    "#try:\n",
    "#    aesgcm.decrypt(None, ciphertext, secret_key);\n",
    "#except:\n",
    "#    print(\"Sabe o nounce mas nao sabe a chave secreta\");\n",
    "\n",
    "with open('decrypted_dataset.csv', 'wb') as f:\n",
    "    f.write(decrypted_dataset_bytes)\n",
    "    \n",
    "logging.debug(\" Delentture: Decrypted and saved the original dataset.\");"
   ]
  },
  {
   "cell_type": "markdown",
   "id": "f447633c-2f39-4144-89c0-acdf49055bf4",
   "metadata": {},
   "source": [
    "(19) ---"
   ]
  },
  {
   "cell_type": "markdown",
   "id": "6dac9103-3d94-4d54-bb89-c33457fba85d",
   "metadata": {},
   "source": [
    "(20) Do the same for the original description."
   ]
  },
  {
   "cell_type": "code",
   "execution_count": null,
   "id": "16296abf-90ee-4b7c-8db4-67897c6f2822",
   "metadata": {},
   "outputs": [],
   "source": [
    "with open('channel', 'rb') as f:\n",
    "    original_description_ciphertext = f.read();\n",
    "logging.debug(\" Delentture: Received the original description ciphertext of the encrypted dataset.\");\n",
    "\n",
    "decrypted_description_bytes = aesgcm.decrypt(nonce, original_description_ciphertext, secret_key);\n",
    "\n",
    "with open('decrypted_description.csv', 'wb') as f:\n",
    "    f.write(decrypted_description_bytes)\n",
    "    \n",
    "logging.debug(\" Delentture: Decrypted and saved the original description.\");"
   ]
  },
  {
   "cell_type": "markdown",
   "id": "b6db51a0-fa49-4089-bbaf-6fda0e06f47a",
   "metadata": {},
   "source": [
    "(21) Perform two different data analysis and save as PDF."
   ]
  },
  {
   "cell_type": "code",
   "execution_count": null,
   "id": "0bc52fcc-837e-4d5f-be75-e09bd73b3268",
   "metadata": {},
   "outputs": [],
   "source": [
    "df = pd.read_csv(\"decrypted_dataset.csv\")\n",
    "\n",
    "# row = person, column = values\n",
    "# locate row: df.loc[1]\n",
    "# selecionar as linhas que infrigiram e que não infrigiram\n",
    "# cria uma Dataframe para cada caso\n",
    "sel1 = df[df[\"infringed\"] == 1]\n",
    "sel2 = df[df[\"infringed\"] == 0]\n",
    "\n",
    "# definir variáveis para os gráficos\n",
    "\n",
    "past_annuity = [sel2[\"past_avg_amount_annuity\"].mean(), sel1[\"past_avg_amount_annuity\"].mean()]\n",
    "past_application = [sel2[\"past_avg_amt_application\"].mean(), sel1[\"past_avg_amt_application\"].mean()]\n",
    "past_credit = [sel2[\"past_avg_amt_credit\"].mean(), sel1[\"past_avg_amt_credit\"].mean()]\n",
    "past_approved = [sel2[\"past_loans_approved\"].mean(), sel1[\"past_loans_approved\"].mean()]\n",
    "past_cancelled = [sel2[\"past_loans_canceled\"].mean(), sel1[\"past_loans_canceled\"].mean()]\n",
    "past_refused = [sel2[\"past_loans_refused\"].mean(), sel1[\"past_loans_refused\"].mean()]\n",
    "past_total = [sel2[\"past_loans_total\"].mean(), sel1[\"past_loans_total\"].mean()]\n",
    "past_unused = [sel2[\"past_loans_unused\"].mean(), sel1[\"past_loans_unused\"].mean()]\n",
    "\n",
    "#print(past_application);\n",
    "\n",
    "#plt.bar([\"infrigiu\", \"não infrigiu\"], past_annuity)\n",
    "#plt.show()\n",
    "\n",
    "fig, axs = plt.subplots(2, 4)\n",
    "fig.tight_layout(pad=1.1)\n",
    "axs[0, 0].bar([\"sim\", \"não\"], past_annuity)\n",
    "axs[0, 0].set_title(\"Average annuity\", fontsize=10)\n",
    "axs[0, 1].bar([\"sim\", \"não\"], past_application)\n",
    "axs[0, 1].set_title(\"Average application\", fontsize=10)\n",
    "axs[1, 0].bar([\"sim\", \"não\"], past_credit)\n",
    "axs[1, 0].set_title(\"average credit\", fontsize=10)\n",
    "axs[1, 0].set(xlabel = \"infrigiu\")\n",
    "axs[1, 1].bar([\"sim\", \"não\"], past_approved)\n",
    "axs[1, 1].set_title(\"Loans approved\", fontsize=10)\n",
    "axs[1, 1].set(xlabel = \"infrigiu\")\n",
    "axs[0, 2].bar([\"sim\", \"não\"], past_cancelled)\n",
    "axs[0, 2].set_title(\"Loans cancelled\", fontsize=10)\n",
    "axs[0, 3].bar([\"sim\", \"não\"], past_refused)\n",
    "axs[0, 3].set_title(\"Loans refused\", fontsize=10)\n",
    "axs[1, 2].bar([\"sim\", \"não\"], past_total)\n",
    "axs[1, 2].set_title(\"Loans total\", fontsize=10)\n",
    "axs[1, 2].set(xlabel = \"infrigiu\")\n",
    "axs[1, 3].bar([\"sim\", \"não\"], past_unused)\n",
    "axs[1, 3].set_title(\"Loans unnused\", fontsize=10)\n",
    "axs[1, 3].set(xlabel = \"infrigiu\")\n",
    "#plt.show()\n",
    "\n",
    "fig.savefig(\"plot1.pdf\")"
   ]
  },
  {
   "cell_type": "code",
   "execution_count": null,
   "id": "85495c0c-a858-49c7-aaa9-c95323a1cce9",
   "metadata": {},
   "outputs": [
    {
     "data": {
      "text/plain": [
       "<Figure size 432x288 with 0 Axes>"
      ]
     },
     "metadata": {},
     "output_type": "display_data"
    },
    {
     "data": {
      "image/png": "[encoded data removed]",
      "text/plain": [
       "<Figure size 432x288 with 1 Axes>"
      ]
     },
     "metadata": {
      "needs_background": "light"
     },
     "output_type": "display_data"
    }
   ],
   "source": [
    "age1 = df[df[\"age\"] < 30].size\n",
    "age2 = df[df[\"age\"] < 40].size - age1\n",
    "age3 = df[df[\"age\"] < 50].size - age2\n",
    "age4 = df[df[\"age\"] < 60].size - age3\n",
    "age5 = df[df[\"age\"] >= 60].size\n",
    "\n",
    "plt.clf()\n",
    "fig = plt.figure();\n",
    "plt.bar([\"<30\", \"30-40\", \"40-50\", \"50-60\", \">60\"], [age1, age2, age3, age4, age5])\n",
    "plt.title(\"Número de indivíduos por idade\")\n",
    "plt.xlabel('Faixa etária')\n",
    "plt.ylabel('Quantidade de clientes')\n",
    "#plt.show()\n",
    "fig.savefig(\"plot2.pdf\")"
   ]
  },
  {
   "cell_type": "markdown",
   "id": "01a62186-2031-42d3-a858-7a4e69b4edec",
   "metadata": {},
   "source": [
    "(22) Encrypt and send the first data analysis pdf."
   ]
  },
  {
   "cell_type": "code",
   "execution_count": null,
   "id": "64c25bda-cb4d-4fcd-8b1d-663ec7836271",
   "metadata": {},
   "outputs": [],
   "source": [
    "with open('plot1.pdf', 'rb') as f:\n",
    "    original_plot1 = f.read();\n",
    "    \n",
    "plot1_ciphertext = aesgcm.encrypt(nonce, original_plot1, secret_key);\n",
    "logging.debug(\" Delentture: Encrypted the plot1 pdf.\");\n",
    "\n",
    "with open('channel', 'wb') as f:\n",
    "    f.write(plot1_ciphertext);\n",
    "    f.close()\n",
    "    \n",
    "logging.debug(\" Delentture: Sent the encrypted plot1 pdf to the communication channel successfuly.\");"
   ]
  },
  {
   "cell_type": "markdown",
   "id": "34db9ca6-2af9-4dcb-98ef-21b6aa2fb5d0",
   "metadata": {},
   "source": [
    "(23) ---"
   ]
  },
  {
   "cell_type": "markdown",
   "id": "5baa3ab3-5cfc-4aa1-8d17-9926e53d7bb7",
   "metadata": {},
   "source": [
    "(24) Encrypt and send the second data analysis pdf."
   ]
  },
  {
   "cell_type": "code",
   "execution_count": null,
   "id": "1534ba1f-795f-4316-9e73-680864502dd6",
   "metadata": {},
   "outputs": [],
   "source": [
    "with open('plot2.pdf', 'rb') as f:\n",
    "    original_plot2 = f.read();\n",
    "    \n",
    "plot2_ciphertext = aesgcm.encrypt(nonce, original_plot2, secret_key);\n",
    "logging.debug(\" Delentture: Encrypted the plot2 pdf.\");\n",
    "\n",
    "with open('channel', 'wb') as f:\n",
    "    f.write(plot2_ciphertext);\n",
    "    f.close()\n",
    "    \n",
    "logging.debug(\" Delentture: Sent the encrypted plot2 pdf to the communication channel successfuly.\");"
   ]
  },
  {
   "cell_type": "markdown",
   "id": "88526a0a-7426-491d-aa6a-a56ed52428f9",
   "metadata": {},
   "source": [
    "(25) ---"
   ]
  }
 ],
 "metadata": {
  "kernelspec": {
   "display_name": "Python 3.9.12 ('base')",
   "language": "python",
   "name": "python3"
  },
  "language_info": {
   "codemirror_mode": {
    "name": "ipython",
    "version": 3
   },
   "file_extension": ".py",
   "mimetype": "text/x-python",
   "name": "python",
   "nbconvert_exporter": "python",
   "pygments_lexer": "ipython3",
   "version": "3.9.12"
  },
  "vscode": {
   "interpreter": {
    "hash": "451f9409e4a1d80d0e57066b36b4624c2c0f11dfc98b1c0bd8da4a3c0fa8d9f4"
   }
  }
 },
 "nbformat": 4,
 "nbformat_minor": 5
}
