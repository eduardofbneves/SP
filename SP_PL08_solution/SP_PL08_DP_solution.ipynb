{
  "cells": [
    {
      "cell_type": "markdown",
      "metadata": {
        "id": "HbQd4TBm8dBc"
      },
      "source": [
        "### TODO: General-purpose sensitivity computation "
      ]
    },
    {
      "cell_type": "code",
      "execution_count": 1,
      "metadata": {
        "colab": {
          "base_uri": "https://localhost:8080/",
          "height": 242
        },
        "id": "F9E__-RumXsh",
        "outputId": "9c66c296-7822-4516-a6b5-825b55828e59"
      },
      "outputs": [
        {
          "data": {
            "text/html": [
              "\n",
              "  <div id=\"df-94bc2734-4625-409c-a98e-d33ede37ac27\">\n",
              "    <div class=\"colab-df-container\">\n",
              "      <div>\n",
              "<style scoped>\n",
              "    .dataframe tbody tr th:only-of-type {\n",
              "        vertical-align: middle;\n",
              "    }\n",
              "\n",
              "    .dataframe tbody tr th {\n",
              "        vertical-align: top;\n",
              "    }\n",
              "\n",
              "    .dataframe thead th {\n",
              "        text-align: right;\n",
              "    }\n",
              "</style>\n",
              "<table border=\"1\" class=\"dataframe\">\n",
              "  <thead>\n",
              "    <tr style=\"text-align: right;\">\n",
              "      <th></th>\n",
              "      <th>age</th>\n",
              "      <th>workclass</th>\n",
              "      <th>fnlwgt</th>\n",
              "      <th>education</th>\n",
              "      <th>education.num</th>\n",
              "      <th>marital.status</th>\n",
              "      <th>occupation</th>\n",
              "      <th>relationship</th>\n",
              "      <th>race</th>\n",
              "      <th>sex</th>\n",
              "      <th>capital.gain</th>\n",
              "      <th>capital.loss</th>\n",
              "      <th>hours.per.week</th>\n",
              "      <th>native.country</th>\n",
              "      <th>income</th>\n",
              "    </tr>\n",
              "  </thead>\n",
              "  <tbody>\n",
              "    <tr>\n",
              "      <th>0</th>\n",
              "      <td>90</td>\n",
              "      <td>?</td>\n",
              "      <td>77053</td>\n",
              "      <td>HS-grad</td>\n",
              "      <td>9</td>\n",
              "      <td>Widowed</td>\n",
              "      <td>?</td>\n",
              "      <td>Not-in-family</td>\n",
              "      <td>White</td>\n",
              "      <td>Female</td>\n",
              "      <td>0</td>\n",
              "      <td>4356</td>\n",
              "      <td>40</td>\n",
              "      <td>United-States</td>\n",
              "      <td>&lt;=50K</td>\n",
              "    </tr>\n",
              "    <tr>\n",
              "      <th>1</th>\n",
              "      <td>82</td>\n",
              "      <td>Private</td>\n",
              "      <td>132870</td>\n",
              "      <td>HS-grad</td>\n",
              "      <td>9</td>\n",
              "      <td>Widowed</td>\n",
              "      <td>Exec-managerial</td>\n",
              "      <td>Not-in-family</td>\n",
              "      <td>White</td>\n",
              "      <td>Female</td>\n",
              "      <td>0</td>\n",
              "      <td>4356</td>\n",
              "      <td>18</td>\n",
              "      <td>United-States</td>\n",
              "      <td>&lt;=50K</td>\n",
              "    </tr>\n",
              "    <tr>\n",
              "      <th>2</th>\n",
              "      <td>66</td>\n",
              "      <td>?</td>\n",
              "      <td>186061</td>\n",
              "      <td>Some-college</td>\n",
              "      <td>10</td>\n",
              "      <td>Widowed</td>\n",
              "      <td>?</td>\n",
              "      <td>Unmarried</td>\n",
              "      <td>Black</td>\n",
              "      <td>Female</td>\n",
              "      <td>0</td>\n",
              "      <td>4356</td>\n",
              "      <td>40</td>\n",
              "      <td>United-States</td>\n",
              "      <td>&lt;=50K</td>\n",
              "    </tr>\n",
              "  </tbody>\n",
              "</table>\n",
              "</div>\n",
              "      <button class=\"colab-df-convert\" onclick=\"convertToInteractive('df-94bc2734-4625-409c-a98e-d33ede37ac27')\"\n",
              "              title=\"Convert this dataframe to an interactive table.\"\n",
              "              style=\"display:none;\">\n",
              "        \n",
              "  <svg xmlns=\"http://www.w3.org/2000/svg\" height=\"24px\"viewBox=\"0 0 24 24\"\n",
              "       width=\"24px\">\n",
              "    <path d=\"M0 0h24v24H0V0z\" fill=\"none\"/>\n",
              "    <path d=\"M18.56 5.44l.94 2.06.94-2.06 2.06-.94-2.06-.94-.94-2.06-.94 2.06-2.06.94zm-11 1L8.5 8.5l.94-2.06 2.06-.94-2.06-.94L8.5 2.5l-.94 2.06-2.06.94zm10 10l.94 2.06.94-2.06 2.06-.94-2.06-.94-.94-2.06-.94 2.06-2.06.94z\"/><path d=\"M17.41 7.96l-1.37-1.37c-.4-.4-.92-.59-1.43-.59-.52 0-1.04.2-1.43.59L10.3 9.45l-7.72 7.72c-.78.78-.78 2.05 0 2.83L4 21.41c.39.39.9.59 1.41.59.51 0 1.02-.2 1.41-.59l7.78-7.78 2.81-2.81c.8-.78.8-2.07 0-2.86zM5.41 20L4 18.59l7.72-7.72 1.47 1.35L5.41 20z\"/>\n",
              "  </svg>\n",
              "      </button>\n",
              "      \n",
              "  <style>\n",
              "    .colab-df-container {\n",
              "      display:flex;\n",
              "      flex-wrap:wrap;\n",
              "      gap: 12px;\n",
              "    }\n",
              "\n",
              "    .colab-df-convert {\n",
              "      background-color: #E8F0FE;\n",
              "      border: none;\n",
              "      border-radius: 50%;\n",
              "      cursor: pointer;\n",
              "      display: none;\n",
              "      fill: #1967D2;\n",
              "      height: 32px;\n",
              "      padding: 0 0 0 0;\n",
              "      width: 32px;\n",
              "    }\n",
              "\n",
              "    .colab-df-convert:hover {\n",
              "      background-color: #E2EBFA;\n",
              "      box-shadow: 0px 1px 2px rgba(60, 64, 67, 0.3), 0px 1px 3px 1px rgba(60, 64, 67, 0.15);\n",
              "      fill: #174EA6;\n",
              "    }\n",
              "\n",
              "    [theme=dark] .colab-df-convert {\n",
              "      background-color: #3B4455;\n",
              "      fill: #D2E3FC;\n",
              "    }\n",
              "\n",
              "    [theme=dark] .colab-df-convert:hover {\n",
              "      background-color: #434B5C;\n",
              "      box-shadow: 0px 1px 3px 1px rgba(0, 0, 0, 0.15);\n",
              "      filter: drop-shadow(0px 1px 2px rgba(0, 0, 0, 0.3));\n",
              "      fill: #FFFFFF;\n",
              "    }\n",
              "  </style>\n",
              "\n",
              "      <script>\n",
              "        const buttonEl =\n",
              "          document.querySelector('#df-94bc2734-4625-409c-a98e-d33ede37ac27 button.colab-df-convert');\n",
              "        buttonEl.style.display =\n",
              "          google.colab.kernel.accessAllowed ? 'block' : 'none';\n",
              "\n",
              "        async function convertToInteractive(key) {\n",
              "          const element = document.querySelector('#df-94bc2734-4625-409c-a98e-d33ede37ac27');\n",
              "          const dataTable =\n",
              "            await google.colab.kernel.invokeFunction('convertToInteractive',\n",
              "                                                     [key], {});\n",
              "          if (!dataTable) return;\n",
              "\n",
              "          const docLinkHtml = 'Like what you see? Visit the ' +\n",
              "            '<a target=\"_blank\" href=https://colab.research.google.com/notebooks/data_table.ipynb>data table notebook</a>'\n",
              "            + ' to learn more about interactive tables.';\n",
              "          element.innerHTML = '';\n",
              "          dataTable['output_type'] = 'display_data';\n",
              "          await google.colab.output.renderOutput(dataTable, element);\n",
              "          const docLink = document.createElement('div');\n",
              "          docLink.innerHTML = docLinkHtml;\n",
              "          element.appendChild(docLink);\n",
              "        }\n",
              "      </script>\n",
              "    </div>\n",
              "  </div>\n",
              "  "
            ],
            "text/plain": [
              "   age workclass  fnlwgt     education  education.num marital.status  \\\n",
              "0   90         ?   77053       HS-grad              9        Widowed   \n",
              "1   82   Private  132870       HS-grad              9        Widowed   \n",
              "2   66         ?  186061  Some-college             10        Widowed   \n",
              "\n",
              "        occupation   relationship   race     sex  capital.gain  capital.loss  \\\n",
              "0                ?  Not-in-family  White  Female             0          4356   \n",
              "1  Exec-managerial  Not-in-family  White  Female             0          4356   \n",
              "2                ?      Unmarried  Black  Female             0          4356   \n",
              "\n",
              "   hours.per.week native.country income  \n",
              "0              40  United-States  <=50K  \n",
              "1              18  United-States  <=50K  \n",
              "2              40  United-States  <=50K  "
            ]
          },
          "execution_count": 1,
          "metadata": {},
          "output_type": "execute_result"
        }
      ],
      "source": [
        "import numpy as np\n",
        "import pandas as pd\n",
        "import seaborn as sns\n",
        "\n",
        "census = pd.read_csv('drive/MyDrive/adult.csv')\n",
        "census.head(3)"
      ]
    },
    {
      "cell_type": "markdown",
      "metadata": {
        "id": "AwdD1vyKmaOp"
      },
      "source": [
        "### Exercise 1: Calculate a DP-count of individuals of 'age' > 40\n",
        "Calculate the sensitivity and experiment with different epsilon values"
      ]
    },
    {
      "cell_type": "code",
      "execution_count": null,
      "metadata": {
        "colab": {
          "base_uri": "https://localhost:8080/"
        },
        "id": "JvLLBEpgohCt",
        "outputId": "424653e7-a709-48c5-abfc-3a7382c4989d"
      },
      "outputs": [
        {
          "name": "stdout",
          "output_type": "stream",
          "text": [
            "13443 13449.815972273389 -0.05070276183432998\n"
          ]
        }
      ],
      "source": [
        "def add_laplace_noise(s, sensitivity, epsilon):\n",
        "  return s + np.random.laplace(loc=0, scale=sensitivity/epsilon)\n",
        "\n",
        "def percentage_error(orig, est):\n",
        "  return ((orig-est) / orig) * 100\n",
        "\n",
        "#print('Original count:', len(census.query('age > 40')))\n",
        "orig_count = len(census.query('age > 40'))\n",
        "dp_count = add_laplace_noise(len(census.query('age > 40')), 1, 0.01)\n",
        "print(orig_count, dp_count, percentage_error(orig_count, dp_count))"
      ]
    },
    {
      "cell_type": "markdown",
      "metadata": {
        "id": "asUqWGxym3_d"
      },
      "source": [
        "### Exercise 2: Calculate a DP-sum of the attribute 'fnlwgt'\n",
        "Calculate the sensitivity and experiment with different epsilon values."
      ]
    },
    {
      "cell_type": "code",
      "execution_count": null,
      "metadata": {
        "colab": {
          "base_uri": "https://localhost:8080/"
        },
        "id": "VWAfPk4jKIIP",
        "outputId": "70ffb521-428a-4083-f206-38644e4e8c75"
      },
      "outputs": [
        {
          "name": "stdout",
          "output_type": "stream",
          "text": [
            "6179373392 6107062957.503553 1.170190404581504\n"
          ]
        }
      ],
      "source": [
        "orig_sum = census['fnlwgt'].sum()\n",
        "dp_sum = add_laplace_noise(census['fnlwgt'].sum(), census['fnlwgt'].max(), 0.01)\n",
        "print(orig_sum, dp_sum, percentage_error(orig_sum, dp_sum))"
      ]
    },
    {
      "cell_type": "markdown",
      "metadata": {
        "id": "MPhT1vOUnf64"
      },
      "source": [
        "### Exercise 3: Calculate a DP-mean of working hours for people with income >50K."
      ]
    },
    {
      "cell_type": "code",
      "execution_count": null,
      "metadata": {
        "colab": {
          "base_uri": "https://localhost:8080/"
        },
        "id": "DPEgCTIXU9I5",
        "outputId": "850628c9-b79e-4016-aef0-c893ae95c29a"
      },
      "outputs": [
        {
          "name": "stdout",
          "output_type": "stream",
          "text": [
            "45.473026399693914 47.513726425240776 -4.487715437300645\n"
          ]
        }
      ],
      "source": [
        "filtered_wh = census.query('income == \">50K\"')['hours.per.week']\n",
        "orig_mean = filtered_wh.mean()\n",
        "dp_mean = add_laplace_noise(filtered_wh.sum(), filtered_wh.max(), 0.01) / add_laplace_noise(len(filtered_wh), 1, 0.01)\n",
        "print(orig_mean, dp_mean, percentage_error(orig_mean, dp_mean))"
      ]
    },
    {
      "cell_type": "markdown",
      "metadata": {
        "id": "ul0He-POn0e_"
      },
      "source": [
        "### Exercise 4: Use PyDP to compare with the results obtained."
      ]
    },
    {
      "cell_type": "code",
      "execution_count": null,
      "metadata": {
        "colab": {
          "base_uri": "https://localhost:8080/"
        },
        "id": "5sGrlxalnu3y",
        "outputId": "14f4393b-372c-4ef1-e4da-8ed5e774a0b8"
      },
      "outputs": [
        {
          "name": "stdout",
          "output_type": "stream",
          "text": [
            "Looking in indexes: https://pypi.org/simple, https://us-python.pkg.dev/colab-wheels/public/simple/\n",
            "Requirement already satisfied: python-dp in /usr/local/lib/python3.7/dist-packages (1.1.1)\n"
          ]
        }
      ],
      "source": [
        "! pip install python-dp"
      ]
    },
    {
      "cell_type": "code",
      "execution_count": null,
      "metadata": {
        "id": "qzqIKt6kILWI"
      },
      "outputs": [],
      "source": [
        "import pydp as dp\n",
        "from pydp.algorithms.laplacian import BoundedSum, BoundedMean, Count"
      ]
    },
    {
      "cell_type": "code",
      "execution_count": null,
      "metadata": {
        "colab": {
          "base_uri": "https://localhost:8080/"
        },
        "id": "k6QfkMyuKhiR",
        "outputId": "158ff2b1-8250-4469-d4fa-f758ca0a0a54"
      },
      "outputs": [
        {
          "name": "stdout",
          "output_type": "stream",
          "text": [
            "6179373392 6097908184.303986 1.3183409146545777\n"
          ]
        }
      ],
      "source": [
        "x = BoundedSum(epsilon=0.2, delta=0, dtype=\"float\")\n",
        "\n",
        "pydp_sum = x.quick_result(list(census['fnlwgt']))\n",
        "print(orig_sum, pydp_sum, percentage_error(orig_sum, pydp_sum))"
      ]
    },
    {
      "cell_type": "code",
      "execution_count": null,
      "metadata": {
        "colab": {
          "base_uri": "https://localhost:8080/"
        },
        "id": "sv7uxM6rIvZt",
        "outputId": "640d9d0f-a0bc-455e-cbee-9286d7b069f0"
      },
      "outputs": [
        {
          "name": "stdout",
          "output_type": "stream",
          "text": [
            "13443 13392 0.3793796027672395\n"
          ]
        }
      ],
      "source": [
        "x = Count(0.01)\n",
        "pydp_count = x.quick_result(list(census.query('age > 40')['age']))\n",
        "print(orig_count, pydp_count, percentage_error(orig_count, pydp_count))"
      ]
    },
    {
      "cell_type": "code",
      "execution_count": null,
      "metadata": {
        "colab": {
          "base_uri": "https://localhost:8080/"
        },
        "id": "wMIdA0mGWDAX",
        "outputId": "177d53de-2744-4439-d7c4-5812d71cb867"
      },
      "outputs": [
        {
          "name": "stdout",
          "output_type": "stream",
          "text": [
            "45.473026399693914 45.49680485642466 -0.05229134415145459\n"
          ]
        }
      ],
      "source": [
        "x = BoundedMean(0.1)\n",
        "pydp_mean = x.quick_result(list(filtered_wh))\n",
        "print(orig_mean, pydp_mean, percentage_error(orig_mean, pydp_mean))"
      ]
    },
    {
      "cell_type": "code",
      "execution_count": null,
      "metadata": {
        "id": "odd6xDBOWc1U"
      },
      "outputs": [],
      "source": []
    }
  ],
  "metadata": {
    "colab": {
      "collapsed_sections": [],
      "provenance": []
    },
    "kernelspec": {
      "display_name": "Python 3.10.8 64-bit (microsoft store)",
      "language": "python",
      "name": "python3"
    },
    "language_info": {
      "name": "python",
      "version": "3.10.8"
    },
    "vscode": {
      "interpreter": {
        "hash": "339b31d263f74a50d0b9f1f60f0b3fe271675c0cedd919058018f3e39807a028"
      }
    }
  },
  "nbformat": 4,
  "nbformat_minor": 0
}
