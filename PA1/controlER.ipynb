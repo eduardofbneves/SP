{
 "cells": [
  {
   "cell_type": "markdown",
   "id": "e1650344-cea7-4b56-92ba-c417e0311bd2",
   "metadata": {},
   "source": [
    "(1) Initialization."
   ]
  },
  {
   "cell_type": "code",
   "execution_count": 1,
   "id": "05524ea5-ac97-49d6-b305-a8a1deade6e8",
   "metadata": {
    "tags": []
   },
   "outputs": [],
   "source": [
    "import os\n",
    "import logging\n",
    "import numpy as np\n",
    "import pandas as pd\n",
    "import matplotlib.pyplot as plt\n",
    "from cryptography.hazmat.backends import default_backend\n",
    "from cryptography.hazmat.primitives import hashes\n",
    "from cryptography.hazmat.primitives import serialization\n",
    "from cryptography.hazmat.primitives.serialization import load_pem_public_key\n",
    "from cryptography.hazmat.primitives.asymmetric import dh\n",
    "from cryptography.hazmat.primitives.kdf.hkdf import HKDF\n",
    "from cryptography.hazmat.primitives.ciphers.aead import AESGCM\n",
    "\n",
    "logging.basicConfig(filename=\"log.txt\", level=logging.DEBUG);"
   ]
  },
  {
   "cell_type": "markdown",
   "id": "df3c32ac-17cc-4639-8731-6bddcff7e0d5",
   "metadata": {},
   "source": [
    "(2) Generate parameters for DH algorithm. Create ControlER public key. Create ControlER Private key"
   ]
  },
  {
   "cell_type": "code",
   "execution_count": 2,
   "id": "71701d3a-5f09-46e1-8169-f41eff04240c",
   "metadata": {},
   "outputs": [],
   "source": [
    "# Generate parameters for dh\n",
    "parameters = dh.generate_parameters(generator=2, key_size=2024, backend=default_backend()); #return:DHParameters\n",
    "logging.debug(\" ControlER: Parameters generated.\");\n",
    "\n",
    "# Creating the private and public keys\n",
    "cont_private_key = parameters.generate_private_key();\n",
    "logging.debug(\" ControlER: Created the private key.\");\n",
    "\n",
    "cont_public_key = cont_private_key.public_key();\n",
    "logging.debug(\" ControlER: Created the private key.\");"
   ]
  },
  {
   "cell_type": "markdown",
   "id": "44fbee06-1a55-47ea-a679-9eee5f64aa2c",
   "metadata": {},
   "source": [
    "(3) Write ControlER public key in bytes and send in the communication channel."
   ]
  },
  {
   "cell_type": "code",
   "execution_count": 3,
   "id": "918b2cfb-7fdb-415f-a9c0-858f0c0557e2",
   "metadata": {},
   "outputs": [],
   "source": [
    "cont_public_key_bytes = cont_public_key.public_bytes(serialization.Encoding.PEM, serialization.PublicFormat.SubjectPublicKeyInfo);\n",
    "with open('channel', 'wb') as f:\n",
    "    f.write(cont_public_key_bytes)\n",
    "    f.close()\n",
    "logging.debug(\" ControlER: Sent the public key public key to the communication server.\");"
   ]
  },
  {
   "cell_type": "markdown",
   "id": "1984e1bb-3a19-4ba8-ac80-2c637699ddc1",
   "metadata": {},
   "source": [
    "(4) ---"
   ]
  },
  {
   "cell_type": "markdown",
   "id": "2edcba32-13b2-43c8-b724-420310ecd3ab",
   "metadata": {},
   "source": [
    "(5) ---"
   ]
  },
  {
   "cell_type": "markdown",
   "id": "7b54b8d9-7749-4a22-8bb6-8e537640fb54",
   "metadata": {},
   "source": [
    "(6) ---"
   ]
  },
  {
   "cell_type": "markdown",
   "id": "0cd187bb-8242-4ab2-8532-e3f11bfb0bf4",
   "metadata": {},
   "source": [
    "(7) ---"
   ]
  },
  {
   "cell_type": "markdown",
   "id": "81330e4d-3477-489c-9d4f-f3e199ed0c60",
   "metadata": {},
   "source": [
    "(8) ---"
   ]
  },
  {
   "cell_type": "markdown",
   "id": "b5d34b6a-7e04-4545-93d7-370a5ae356b0",
   "metadata": {},
   "source": [
    "(9) ---"
   ]
  },
  {
   "cell_type": "markdown",
   "id": "0a07769d-1709-40ed-9023-b3569e839ca6",
   "metadata": {},
   "source": [
    "(10) Receive Delentture public key bytes from the communication channel. Create the Delentture public key from loaded bytes."
   ]
  },
  {
   "cell_type": "code",
   "execution_count": 4,
   "id": "4bc41c30-f5ff-4ad2-bfd4-562fc424a9f2",
   "metadata": {},
   "outputs": [],
   "source": [
    "with open('channel', 'rb') as f:\n",
    "    dele_public_key_bytes = f.read();\n",
    "logging.debug(\" ControlER: Loaded the Delentture public key bytes from the channel.\");\n",
    "\n",
    "dele_public_key = load_pem_public_key(dele_public_key_bytes, default_backend())\n",
    "logging.debug(\" Delentture: Created the ControlER public key from the loaded bytes.\");"
   ]
  },
  {
   "cell_type": "markdown",
   "id": "9f440788-a2ab-4706-bb3b-76ac2a2c1ed2",
   "metadata": {},
   "source": [
    "(11) Generate the shared key between the two parties. In this end - a mix of Delentture public key and ControlER private key"
   ]
  },
  {
   "cell_type": "code",
   "execution_count": 5,
   "id": "7532f40d-1a86-4475-ba23-8e0cf3aaa851",
   "metadata": {},
   "outputs": [],
   "source": [
    "shared_key = cont_private_key.exchange(dele_public_key);\n",
    "logging.debug(\" ControlER: Generated the shared key:\");\n",
    "logging.info(shared_key);"
   ]
  },
  {
   "cell_type": "markdown",
   "id": "bc6e4af4-434b-45da-8169-a52b5b4f6b73",
   "metadata": {},
   "source": [
    "(12) Hashing - generate secret cipher key (from the shared key between two parties) and secret nonce"
   ]
  },
  {
   "cell_type": "code",
   "execution_count": 6,
   "id": "c6f17433-de7a-4639-9416-0c6903485616",
   "metadata": {},
   "outputs": [],
   "source": [
    "secret_key = HKDF(\n",
    "    algorithm=hashes.SHA256(),\n",
    "    length=32, # 32 bytes is the highest level of encryption for AES-GCM\n",
    "    salt=None,\n",
    "    info=b'secret', # handshake data\n",
    ").derive(shared_key)\n",
    "\n",
    "logging.debug(\" ControlER: Generated the secret key:\");\n",
    "logging.info(secret_key);\n",
    "\n",
    "nonce = HKDF(\n",
    "    algorithm=hashes.SHA256(),\n",
    "    length=12, # must use 12 bits, because the AES-GCM operates on nonces with 12 bytes.\n",
    "    salt=None,\n",
    "    info=b'nonce', # handshake data\n",
    ").derive(secret_key);\n",
    "\n",
    "logging.debug(\" ControlER: Generated the secret nonce:\");\n",
    "logging.info(nonce);"
   ]
  },
  {
   "cell_type": "markdown",
   "id": "5b93876b-e3ff-4661-8a6c-156fbdeeb177",
   "metadata": {},
   "source": [
    "(13) Load original dataset into bytes."
   ]
  },
  {
   "cell_type": "code",
   "execution_count": 7,
   "id": "ae25f6c8-045b-46c8-94e9-5d470c28be9f",
   "metadata": {},
   "outputs": [],
   "source": [
    "with open('dataset.csv', 'rb') as file:\n",
    "    original_dataset = file.read()\n",
    "    \n",
    "logging.debug(\" ControlER: Loaded the original dataset into bytes.\");"
   ]
  },
  {
   "cell_type": "markdown",
   "id": "7795ae67-300d-4bd2-b92e-935fcf3de4a9",
   "metadata": {},
   "source": [
    "(14) Encrypt original dataset and generate corresponding ciphertext."
   ]
  },
  {
   "cell_type": "code",
   "execution_count": 8,
   "id": "8cdfcf7d-d83c-4080-9412-94e54e4decab",
   "metadata": {},
   "outputs": [],
   "source": [
    "aesgcm = AESGCM(secret_key);\n",
    "\n",
    "original_dataset_ciphertext = aesgcm.encrypt(nonce, original_dataset, secret_key);\n",
    "\n",
    "logging.debug(\" ControlER: Encrypted original dataset to ciphertext.\");"
   ]
  },
  {
   "cell_type": "markdown",
   "id": "1142f947-647c-431f-bc3d-659b4b64d3cb",
   "metadata": {},
   "source": [
    "(15) Send the ciphertext to the communication channel."
   ]
  },
  {
   "cell_type": "code",
   "execution_count": 9,
   "id": "5745a544-58b4-4dee-a650-f451c9ce8480",
   "metadata": {},
   "outputs": [],
   "source": [
    "with open('channel', 'wb') as f:\n",
    "    f.write(original_dataset_ciphertext);\n",
    "    f.close()\n",
    "logging.debug(\" ControlER: Sent the original dataset ciphertext to the communication server.\");"
   ]
  },
  {
   "cell_type": "markdown",
   "id": "a1f217b2-d375-4f91-8d27-ba4f9b4415a7",
   "metadata": {},
   "source": [
    "(16) ---"
   ]
  },
  {
   "cell_type": "markdown",
   "id": "c78205b2-addb-4507-95ac-48f6d623ab80",
   "metadata": {},
   "source": [
    "(17) ---"
   ]
  },
  {
   "cell_type": "markdown",
   "id": "6e36ab1f-db88-44c0-b6b4-ff3003d565b7",
   "metadata": {},
   "source": [
    "(18) ---"
   ]
  },
  {
   "cell_type": "markdown",
   "id": "ef6a158d-fdaf-4fd4-b6b0-f547f302c91e",
   "metadata": {},
   "source": [
    "(19) Do the same for the original description."
   ]
  },
  {
   "cell_type": "code",
   "execution_count": 10,
   "id": "666f291a-f4af-4303-98ac-67d4d3a79aab",
   "metadata": {},
   "outputs": [],
   "source": [
    "with open('description.csv', 'rb') as file:\n",
    "    original_description = file.read()\n",
    "    \n",
    "logging.debug(\" ControlER: Loaded the original description into bytes.\");\n",
    "\n",
    "original_description_ciphertext = aesgcm.encrypt(nonce, original_description, secret_key);\n",
    "\n",
    "logging.debug(\" ControlER: Encrypted original description to ciphertext.\");\n",
    "\n",
    "with open('channel', 'wb') as f:\n",
    "    f.write(original_description_ciphertext);\n",
    "    f.close()\n",
    "logging.debug(\" ControlER: Sent the original description ciphertext to the communication server.\");"
   ]
  },
  {
   "cell_type": "markdown",
   "id": "8b333ab1-7694-41f3-87e7-dba77fb49d9d",
   "metadata": {},
   "source": [
    "(20) ---"
   ]
  },
  {
   "cell_type": "markdown",
   "id": "a2cc8932-39ac-4ddc-ab87-7a726ffbb8e2",
   "metadata": {},
   "source": [
    "(21) ---"
   ]
  },
  {
   "cell_type": "markdown",
   "id": "fd87e9e8-9a18-4765-9f96-553c030e4ada",
   "metadata": {},
   "source": [
    "(22) ---"
   ]
  },
  {
   "cell_type": "markdown",
   "id": "76e875fc-3d41-4be1-b26b-5b07e0943267",
   "metadata": {},
   "source": [
    "(23) Receive, decrypt and save the first data analysis pdf."
   ]
  },
  {
   "cell_type": "code",
   "execution_count": 11,
   "id": "22a069ef-0329-473b-970c-07a583f03e8a",
   "metadata": {},
   "outputs": [],
   "source": [
    "with open('channel', 'rb') as f:\n",
    "    plot1_ciphertext = f.read();\n",
    "    \n",
    "logging.debug(\" ControlER: Received the encrypted plot1 pdf successfuly.\");\n",
    "\n",
    "decrypted_plot1_bytes = aesgcm.decrypt(nonce, plot1_ciphertext, secret_key);\n",
    "logging.debug(\" ControlER: Decrypted the plot1 pdf successfuly.\");\n",
    "\n",
    "with open('decrypted_plot1.pdf', 'wb') as f:\n",
    "    f.write(decrypted_plot1_bytes)\n",
    "    \n",
    "logging.debug(\" ControlER: Saved the plot1 pdf successfuly.\");"
   ]
  },
  {
   "cell_type": "markdown",
   "id": "57d32e6f-be7a-4668-b15b-2ebd843b6b1d",
   "metadata": {},
   "source": [
    "(24) ---"
   ]
  },
  {
   "cell_type": "markdown",
   "id": "9a38bb25-ef2e-470a-b4f0-90946bf84d1f",
   "metadata": {},
   "source": [
    "(25) Receive, decrypt and save the second data analysis pdf."
   ]
  },
  {
   "cell_type": "code",
   "execution_count": 12,
   "id": "a740f361-f5a4-4a07-b908-a0e3214f890a",
   "metadata": {},
   "outputs": [],
   "source": [
    "with open('channel', 'rb') as f:\n",
    "    plot2_ciphertext = f.read();\n",
    "    \n",
    "logging.debug(\" ControlER: Received the encrypted plot2 pdf successfuly.\");\n",
    "\n",
    "decrypted_plot2_bytes = aesgcm.decrypt(nonce, plot2_ciphertext, secret_key);\n",
    "logging.debug(\" ControlER: Decrypted the plot2 pdf successfuly.\");\n",
    "\n",
    "with open('decrypted_plot2.pdf', 'wb') as f:\n",
    "    f.write(decrypted_plot2_bytes)\n",
    "    \n",
    "logging.debug(\" ControlER: Saved the plot2 pdf successfuly.\");"
   ]
  },
  {
   "cell_type": "code",
   "execution_count": null,
   "id": "329029b1-4398-4880-a749-55dcb9eaff26",
   "metadata": {},
   "outputs": [],
   "source": []
  }
 ],
 "metadata": {
  "kernelspec": {
   "display_name": "Python 3 (ipykernel)",
   "language": "python",
   "name": "python3"
  },
  "language_info": {
   "codemirror_mode": {
    "name": "ipython",
    "version": 3
   },
   "file_extension": ".py",
   "mimetype": "text/x-python",
   "name": "python",
   "nbconvert_exporter": "python",
   "pygments_lexer": "ipython3",
   "version": "3.9.12"
  }
 },
 "nbformat": 4,
 "nbformat_minor": 5
}
